{
 "cells": [
  {
   "cell_type": "code",
   "execution_count": 1,
   "metadata": {
    "collapsed": false
   },
   "outputs": [],
   "source": [
    "require 'torch'\n",
    "require 'nn'\n",
    "require 'optim'\n",
    "hdf5 = require 'hdf5'"
   ]
  },
  {
   "cell_type": "markdown",
   "metadata": {},
   "source": [
    "## Hyperparameters\n",
    "* Filter windows of height $h$ are applied in sizes of $3,4,5$ with TODO feature\n",
    "maps. Specifically the filters are applied as a matrix $W \\in \\mathbb{R}^{h \\times k}$\n",
    "to a window of size $h \\times k$.\n",
    "* The stride of the filters is $1$ to iterate over all possible windows of words\n",
    "(*narrow convolution*).\n",
    "* A dropout of rate $\\rho = .5$ is applied at training time to prevent overfitting.\n",
    "* An $l_2$ constraint $s = 3$ is applied in (Kim, 2014). However (Zhang and Wallace, 2015)\n",
    "found that this constraint had little effect on the performance of the network."
   ]
  },
  {
   "cell_type": "code",
   "execution_count": 47,
   "metadata": {
    "collapsed": false
   },
   "outputs": [],
   "source": [
    "-- metadata\n",
    "epochs = 4\n",
    "classes = {'1', '2', '3', '4', '5', '6', '7', '8'}\n",
    "sent_len = 150"
   ]
  },
  {
   "cell_type": "markdown",
   "metadata": {},
   "source": [
    "## Data\n",
    "Input format is a matrix $M \\in \\mathbb{R}^{n} \\times k$\n",
    "with:\n",
    "* $n$ number of words in the document\n",
    "* $k$ the dimension of the word vectors obtained from word2vec\n",
    "* the data is zero-padded to the length of the longest document\n",
    "(alternatively to a given maximum length). All not-taken word spaces\n",
    "are set to zero in the matrix."
   ]
  },
  {
   "cell_type": "code",
   "execution_count": 27,
   "metadata": {
    "collapsed": false
   },
   "outputs": [],
   "source": [
    "function get_kth_partition(k)\n",
    "    fname = \"../data/prepped_train_X_word2vec_wordvecs_\"..k..\".h5\"\n",
    "    print(\"retrieving \"..fname)\n",
    "    file = hdf5.open(fname, 'r')\n",
    "    data = file:read():all()\n",
    "    file:close()\n",
    "\n",
    "    return data[\"dataset_\"..k..\"_x_train\"]\n",
    "        , data[\"dataset_\"..k..\"_y_train\"]\n",
    "        , data[\"dataset_\"..k..\"_x_test\"]\n",
    "        , data[\"dataset_\"..k..\"_y_test\"]\n",
    "end"
   ]
  },
  {
   "cell_type": "code",
   "execution_count": 34,
   "metadata": {
    "collapsed": true
   },
   "outputs": [],
   "source": [
    "-- FIXME: replace this with something better\n",
    "function copy_example(example)\n",
    "    local X_i = torch.Tensor(6, sent_len, example:size()[2]):zero()\n",
    "\n",
    "    for j = 1, sent_len do\n",
    "        X_i[{1, j}] = example[j]\n",
    "        X_i[{2, j}] = example[j]\n",
    "        X_i[{3, j}] = example[j]\n",
    "        X_i[{4, j}] = example[j]\n",
    "        X_i[{5, j}] = example[j]\n",
    "        X_i[{6, j}] = example[j]\n",
    "    end\n",
    "\n",
    "    return X_i\n",
    "end"
   ]
  },
  {
   "cell_type": "code",
   "execution_count": 35,
   "metadata": {
    "collapsed": true
   },
   "outputs": [],
   "source": [
    "-- binarize label probabilities\n",
    "function binarize_pred_labels(labels)\n",
    "    bin = torch.Tensor(labels:size()[1])\n",
    "\n",
    "    for i = 1, labels:size()[1] do\n",
    "        if labels[i] > .5 then\n",
    "            bin[i] = 1\n",
    "        else\n",
    "            bin[i] = 0\n",
    "        end\n",
    "    end\n",
    "\n",
    "    return bin\n",
    "end"
   ]
  },
  {
   "cell_type": "markdown",
   "metadata": {},
   "source": [
    "## Model"
   ]
  },
  {
   "cell_type": "code",
   "execution_count": 36,
   "metadata": {
    "collapsed": false
   },
   "outputs": [],
   "source": [
    "function get_model(sent_len, wordvec_len, dropout_rho, l2_constr)\n",
    "    local model = nn.Sequential()\n",
    "    model:add(nn.Identity())\n",
    "\n",
    "    -- stage 1: convolutions\n",
    "\n",
    "    -- in: applies the following declared layers to the first dimension of the\n",
    "    -- tensor (see above.)\n",
    "    --\n",
    "    -- out: concatenating the three concatenated max-pooled values to a vector\n",
    "    -- fed to the fully connected softmax layer yielding the outputs\n",
    "\n",
    "    -- in: tensor of 6 x num_exaples x sent_len x wordvec_len\n",
    "    --p = nn.ConcatTable()\n",
    "    local p = nn.Parallel(1,1)\n",
    "\n",
    "    -- this is a convolution unit differing in the height of the filter being\n",
    "    -- applied. each filter is used double time to further improve performance.\n",
    "    -- each filter yields a feature map, thus for each region size we then\n",
    "    -- have two feature maps, and in total then six (if using default n-grams\n",
    "    -- 3 to 5 like (Kim, 2014))\n",
    "    for i = 3, 5 do\n",
    "        -- elements of the convolution\n",
    "        local s1 = nn.Sequential()\n",
    "        local s2 = nn.Sequential()\n",
    "\n",
    "        -- input: sent_len x wordvec_len\n",
    "        s1:add(nn.Reshape(1, sent_len, wordvec_len))\n",
    "        s2:add(nn.Reshape(1, sent_len, wordvec_len))\n",
    "\n",
    "        -- takes size of input plane (we only have one channel though)\n",
    "        -- as well as output plane (again, using only one channel)\n",
    "        -- kernel width and kernel height as third and fourth arguments\n",
    "\n",
    "        -- in: 1 x sent_len x wordvec_len\n",
    "        -- args: input channels, output channels, kernel width, kernel height\n",
    "        s1:add(nn.SpatialConvolution(1, 1, wordvec_len, i))\n",
    "        s2:add(nn.SpatialConvolution(1, 1, wordvec_len, i))\n",
    "        -- out: sent_len - filter_height + 1\n",
    "\n",
    "        -- non-linearities\n",
    "        -- in: sent_len - filter_height + 1\n",
    "        s1:add(nn.ReLU())\n",
    "        s2:add(nn.ReLU())\n",
    "        -- out: sent_len - filter_height + 1\n",
    "\n",
    "        -- the viewed region of the matrix for max-pooling shall be the\n",
    "        -- size of the matrix, as we want all values to be considered at\n",
    "        -- once for a single maximum for each filter map.\n",
    "        -- in: sent_len - filter_height + 1\n",
    "        s1:add(nn.SpatialMaxPooling(1, sent_len - i + 1))\n",
    "        s2:add(nn.SpatialMaxPooling(1, sent_len - i + 1))\n",
    "        -- out: scalar\n",
    "\n",
    "        p:add(s1)\n",
    "        p:add(s2)\n",
    "    end\n",
    "\n",
    "    model:add(p)\n",
    "\n",
    "    -- [6x1x1] -> [1x6]\n",
    "    model:add(nn.View(1,6))\n",
    "\n",
    "    -- stage 2: fully connected softmax layer\n",
    "    model:add(nn.Normalize(2, l2_constr))\n",
    "    model:add(nn.Dropout(dropout_rho))\n",
    "    model:add(nn.Linear(6, 8))\n",
    "\n",
    "    --model:add(nn.LogSoftMax()) -- for ClassNLLCriterion\n",
    "    model:add(nn.Sigmoid())\n",
    "\n",
    "    return model\n",
    "end"
   ]
  },
  {
   "cell_type": "code",
   "execution_count": 37,
   "metadata": {
    "collapsed": true
   },
   "outputs": [],
   "source": [
    "function train(model, criterion, batch_size, X_k, Y_k)\n",
    "    local no_examples = X_k:size()[1]\n",
    "    local parameters, grad_parameters = model:getParameters()\n",
    "    model:training()\n",
    "    local tic = os.clock()\n",
    "\n",
    "    print(\"training network\")\n",
    "\n",
    "    local next_batch = function(offset, inputs, targets)\n",
    "        end_offset = offset + batch_size - 1\n",
    "\n",
    "        -- calculate size of remaining items if we have less than\n",
    "        -- batch_size examples left.\n",
    "        if end_offset > inputs:size()[1] then\n",
    "            end_offset = offset + (inputs:size()[1] - offset)\n",
    "        end\n",
    "\n",
    "        print(\"getting \"..offset..\" to \"..end_offset..\" of \"..inputs:size()[1])\n",
    "\n",
    "        return inputs[{{offset, end_offset}, {}, {}}], targets[{{offset, end_offset}, {}}]\n",
    "    end\n",
    "\n",
    "    for i = 1, no_examples, batch_size do\n",
    "        inputs, targets = next_batch(i, X_k, Y_k)\n",
    "        num_inputs = inputs:size()[1]\n",
    "\n",
    "        local feval = function(x)\n",
    "            if x ~= parameters then\n",
    "                parameters:copy(x)\n",
    "            end\n",
    "\n",
    "            grad_parameters:zero()\n",
    "\n",
    "            local f = 0\n",
    "            for i = 1, num_inputs do\n",
    "                local X_k_i = copy_example(inputs[i])\n",
    "                local output = model:forward(X_k_i):reshape(8)\n",
    "                local bin_output = binarize_pred_labels(output)\n",
    "                local targets_i = targets[i]:type(\"torch.DoubleTensor\")\n",
    "\n",
    "                local err = criterion:forward(output, targets_i)\n",
    "                f = f + err\n",
    "\n",
    "                local df_do = criterion:backward(bin_output, targets_i)\n",
    "                model:backward(inputs[i], df_do)\n",
    "            end\n",
    "\n",
    "            grad_parameters:div(num_inputs)\n",
    "            f = f / num_inputs\n",
    "\n",
    "            return f, grad_parameters\n",
    "        end\n",
    "\n",
    "        optim.adadelta(feval, parameters, {})\n",
    "    end\n",
    "\n",
    "    print(\"done.\")\n",
    "    local toc = os.clock() - tic\n",
    "    print(\"took \"..toc..\"s\")\n",
    "end"
   ]
  },
  {
   "cell_type": "code",
   "execution_count": 38,
   "metadata": {
    "collapsed": false
   },
   "outputs": [],
   "source": [
    "function evaluate(model, inputs, targets)\n",
    "    local c = torch.Tensor(8, 4):zero()\n",
    "\n",
    "    local preds = {}\n",
    "    model:evaluate()\n",
    "\n",
    "    -- check for TN, TP, FN, FP\n",
    "    for i = 1, inputs:size()[1] do\n",
    "        local prediction = model:forward(copy_example(inputs[i])):reshape(8)\n",
    "        preds[#preds + 1] = prediction\n",
    "\n",
    "        for j = 1, 8 do\n",
    "            if torch.ceil(prediction[j]) ~= targets[i][j] then\n",
    "                if prediction[j] >= .5 and targets[i][j] <= .5 then\n",
    "                    -- false positive\n",
    "                    c[j][3] = c[j][3] + 1\n",
    "                else\n",
    "                    -- false negative\n",
    "                    c[j][4] = c[j][4] + 1\n",
    "                end\n",
    "            else\n",
    "                if prediction[j] >= .5 then\n",
    "                    -- true positive\n",
    "                    c[j][1] = c[j][1] + 1\n",
    "                else\n",
    "                    -- true negative\n",
    "                    c[j][2] = c[j][2] + 1\n",
    "                end\n",
    "            end\n",
    "        end\n",
    "    end\n",
    "\n",
    "    return c, preds\n",
    "end"
   ]
  },
  {
   "cell_type": "code",
   "execution_count": 48,
   "metadata": {
    "collapsed": false,
    "scrolled": false
   },
   "outputs": [
    {
     "data": {
      "text/plain": [
       "retrieving ../data/prepped_train_X_word2vec_wordvecs_0.h5\t\n"
      ]
     },
     "execution_count": 48,
     "metadata": {},
     "output_type": "execute_result"
    },
    {
     "data": {
      "text/plain": [
       "training epoch 1\t\n",
       "training network\t\n",
       "getting 1 to 100 of 1930\t\n",
       "getting 101 to 200 of 1930\t\n"
      ]
     },
     "execution_count": 48,
     "metadata": {},
     "output_type": "execute_result"
    },
    {
     "data": {
      "text/plain": [
       "getting 201 to 300 of 1930\t\n",
       "getting 301 to 400 of 1930\t\n"
      ]
     },
     "execution_count": 48,
     "metadata": {},
     "output_type": "execute_result"
    },
    {
     "data": {
      "text/plain": [
       "getting 401 to 500 of 1930\t\n",
       "getting 501 to 600 of 1930\t\n"
      ]
     },
     "execution_count": 48,
     "metadata": {},
     "output_type": "execute_result"
    },
    {
     "data": {
      "text/plain": [
       "getting 601 to 700 of 1930\t\n",
       "getting 701 to 800 of 1930\t\n"
      ]
     },
     "execution_count": 48,
     "metadata": {},
     "output_type": "execute_result"
    },
    {
     "data": {
      "text/plain": [
       "getting 801 to 900 of 1930\t\n",
       "getting 901 to 1000 of 1930\t\n"
      ]
     },
     "execution_count": 48,
     "metadata": {},
     "output_type": "execute_result"
    },
    {
     "data": {
      "text/plain": [
       "getting 1001 to 1100 of 1930\t\n",
       "getting 1101 to 1200 of 1930\t\n"
      ]
     },
     "execution_count": 48,
     "metadata": {},
     "output_type": "execute_result"
    },
    {
     "data": {
      "text/plain": [
       "getting 1201 to 1300 of 1930\t\n"
      ]
     },
     "execution_count": 48,
     "metadata": {},
     "output_type": "execute_result"
    },
    {
     "data": {
      "text/plain": [
       "getting 1301 to 1400 of 1930\t\n"
      ]
     },
     "execution_count": 48,
     "metadata": {},
     "output_type": "execute_result"
    },
    {
     "data": {
      "text/plain": [
       "getting 1401 to 1500 of 1930\t\n",
       "getting 1501 to 1600 of 1930\t\n"
      ]
     },
     "execution_count": 48,
     "metadata": {},
     "output_type": "execute_result"
    },
    {
     "data": {
      "text/plain": [
       "getting 1601 to 1700 of 1930\t\n"
      ]
     },
     "execution_count": 48,
     "metadata": {},
     "output_type": "execute_result"
    },
    {
     "data": {
      "text/plain": [
       "getting 1701 to 1800 of 1930\t\n"
      ]
     },
     "execution_count": 48,
     "metadata": {},
     "output_type": "execute_result"
    },
    {
     "data": {
      "text/plain": [
       "getting 1801 to 1900 of 1930\t\n",
       "getting 1901 to 1930 of 1930\t\n"
      ]
     },
     "execution_count": 48,
     "metadata": {},
     "output_type": "execute_result"
    },
    {
     "data": {
      "text/plain": [
       "done.\t\n",
       "took 117.942597s\t\n",
       "training epoch 2\t\n",
       "training network\t\n",
       "getting 1 to 100 of 1930\t\n",
       "getting 101 to 200 of 1930\t\n"
      ]
     },
     "execution_count": 48,
     "metadata": {},
     "output_type": "execute_result"
    },
    {
     "data": {
      "text/plain": [
       "getting 201 to 300 of 1930\t\n",
       "getting 301 to 400 of 1930\t\n"
      ]
     },
     "execution_count": 48,
     "metadata": {},
     "output_type": "execute_result"
    },
    {
     "data": {
      "text/plain": [
       "getting 401 to 500 of 1930\t\n",
       "getting 501 to 600 of 1930\t\n"
      ]
     },
     "execution_count": 48,
     "metadata": {},
     "output_type": "execute_result"
    },
    {
     "data": {
      "text/plain": [
       "getting 601 to 700 of 1930\t\n",
       "getting 701 to 800 of 1930\t\n"
      ]
     },
     "execution_count": 48,
     "metadata": {},
     "output_type": "execute_result"
    },
    {
     "data": {
      "text/plain": [
       "getting 801 to 900 of 1930\t\n",
       "getting 901 to 1000 of 1930\t\n"
      ]
     },
     "execution_count": 48,
     "metadata": {},
     "output_type": "execute_result"
    },
    {
     "data": {
      "text/plain": [
       "getting 1001 to 1100 of 1930\t\n",
       "getting 1101 to 1200 of 1930\t\n"
      ]
     },
     "execution_count": 48,
     "metadata": {},
     "output_type": "execute_result"
    },
    {
     "data": {
      "text/plain": [
       "getting 1201 to 1300 of 1930\t\n",
       "getting 1301 to 1400 of 1930\t\n"
      ]
     },
     "execution_count": 48,
     "metadata": {},
     "output_type": "execute_result"
    },
    {
     "data": {
      "text/plain": [
       "getting 1401 to 1500 of 1930\t\n",
       "getting 1501 to 1600 of 1930\t\n"
      ]
     },
     "execution_count": 48,
     "metadata": {},
     "output_type": "execute_result"
    },
    {
     "data": {
      "text/plain": [
       "getting 1601 to 1700 of 1930\t\n",
       "getting 1701 to 1800 of 1930\t\n"
      ]
     },
     "execution_count": 48,
     "metadata": {},
     "output_type": "execute_result"
    },
    {
     "data": {
      "text/plain": [
       "getting 1801 to 1900 of 1930\t\n",
       "getting 1901 to 1930 of 1930\t\n",
       "done.\t\n",
       "took 117.078787s\t\n",
       "training epoch 3\t\n",
       "training network\t\n",
       "getting 1 to 100 of 1930\t\n"
      ]
     },
     "execution_count": 48,
     "metadata": {},
     "output_type": "execute_result"
    },
    {
     "data": {
      "text/plain": [
       "getting 101 to 200 of 1930\t\n",
       "getting 201 to 300 of 1930\t\n"
      ]
     },
     "execution_count": 48,
     "metadata": {},
     "output_type": "execute_result"
    },
    {
     "data": {
      "text/plain": [
       "getting 301 to 400 of 1930\t\n",
       "getting 401 to 500 of 1930\t\n"
      ]
     },
     "execution_count": 48,
     "metadata": {},
     "output_type": "execute_result"
    },
    {
     "data": {
      "text/plain": [
       "getting 501 to 600 of 1930\t\n",
       "getting 601 to 700 of 1930\t\n"
      ]
     },
     "execution_count": 48,
     "metadata": {},
     "output_type": "execute_result"
    },
    {
     "data": {
      "text/plain": [
       "getting 701 to 800 of 1930\t\n",
       "getting 801 to 900 of 1930\t\n"
      ]
     },
     "execution_count": 48,
     "metadata": {},
     "output_type": "execute_result"
    },
    {
     "data": {
      "text/plain": [
       "getting 901 to 1000 of 1930\t\n",
       "getting 1001 to 1100 of 1930\t\n"
      ]
     },
     "execution_count": 48,
     "metadata": {},
     "output_type": "execute_result"
    },
    {
     "data": {
      "text/plain": [
       "getting 1101 to 1200 of 1930\t\n",
       "getting 1201 to 1300 of 1930\t\n"
      ]
     },
     "execution_count": 48,
     "metadata": {},
     "output_type": "execute_result"
    },
    {
     "data": {
      "text/plain": [
       "getting 1301 to 1400 of 1930\t\n",
       "getting 1401 to 1500 of 1930\t\n"
      ]
     },
     "execution_count": 48,
     "metadata": {},
     "output_type": "execute_result"
    },
    {
     "data": {
      "text/plain": [
       "getting 1501 to 1600 of 1930\t\n",
       "getting 1601 to 1700 of 1930\t\n"
      ]
     },
     "execution_count": 48,
     "metadata": {},
     "output_type": "execute_result"
    },
    {
     "data": {
      "text/plain": [
       "getting 1701 to 1800 of 1930\t\n",
       "getting 1801 to 1900 of 1930\t\n"
      ]
     },
     "execution_count": 48,
     "metadata": {},
     "output_type": "execute_result"
    },
    {
     "data": {
      "text/plain": [
       "getting 1901 to 1930 of 1930\t\n",
       "done.\t\n",
       "took 116.911785s\t\n",
       "training epoch 4\t\n",
       "training network\t\n",
       "getting 1 to 100 of 1930\t\n"
      ]
     },
     "execution_count": 48,
     "metadata": {},
     "output_type": "execute_result"
    },
    {
     "data": {
      "text/plain": [
       "getting 101 to 200 of 1930\t\n"
      ]
     },
     "execution_count": 48,
     "metadata": {},
     "output_type": "execute_result"
    },
    {
     "data": {
      "text/plain": [
       "getting 201 to 300 of 1930\t\n",
       "getting 301 to 400 of 1930\t\n"
      ]
     },
     "execution_count": 48,
     "metadata": {},
     "output_type": "execute_result"
    },
    {
     "data": {
      "text/plain": [
       "getting 401 to 500 of 1930\t\n",
       "getting 501 to 600 of 1930\t\n"
      ]
     },
     "execution_count": 48,
     "metadata": {},
     "output_type": "execute_result"
    },
    {
     "data": {
      "text/plain": [
       "getting 601 to 700 of 1930\t\n"
      ]
     },
     "execution_count": 48,
     "metadata": {},
     "output_type": "execute_result"
    },
    {
     "data": {
      "text/plain": [
       "getting 701 to 800 of 1930\t\n"
      ]
     },
     "execution_count": 48,
     "metadata": {},
     "output_type": "execute_result"
    },
    {
     "data": {
      "text/plain": [
       "getting 801 to 900 of 1930\t\n"
      ]
     },
     "execution_count": 48,
     "metadata": {},
     "output_type": "execute_result"
    },
    {
     "data": {
      "text/plain": [
       "getting 901 to 1000 of 1930\t\n",
       "getting 1001 to 1100 of 1930\t\n"
      ]
     },
     "execution_count": 48,
     "metadata": {},
     "output_type": "execute_result"
    },
    {
     "data": {
      "text/plain": [
       "getting 1101 to 1200 of 1930\t\n"
      ]
     },
     "execution_count": 48,
     "metadata": {},
     "output_type": "execute_result"
    },
    {
     "data": {
      "text/plain": [
       "getting 1201 to 1300 of 1930\t\n"
      ]
     },
     "execution_count": 48,
     "metadata": {},
     "output_type": "execute_result"
    },
    {
     "data": {
      "text/plain": [
       "getting 1301 to 1400 of 1930\t\n",
       "getting 1401 to 1500 of 1930\t\n"
      ]
     },
     "execution_count": 48,
     "metadata": {},
     "output_type": "execute_result"
    },
    {
     "data": {
      "text/plain": [
       "getting 1501 to 1600 of 1930\t\n",
       "getting 1601 to 1700 of 1930\t\n"
      ]
     },
     "execution_count": 48,
     "metadata": {},
     "output_type": "execute_result"
    },
    {
     "data": {
      "text/plain": [
       "getting 1701 to 1800 of 1930\t\n"
      ]
     },
     "execution_count": 48,
     "metadata": {},
     "output_type": "execute_result"
    },
    {
     "data": {
      "text/plain": [
       "getting 1801 to 1900 of 1930\t\n"
      ]
     },
     "execution_count": 48,
     "metadata": {},
     "output_type": "execute_result"
    },
    {
     "data": {
      "text/plain": [
       "getting 1901 to 1930 of 1930\t\n",
       "done.\t\n",
       "took 114.865788s\t\n"
      ]
     },
     "execution_count": 48,
     "metadata": {},
     "output_type": "execute_result"
    },
    {
     "data": {
      "text/plain": [
       "retrieving ../data/prepped_train_X_word2vec_wordvecs_1.h5\t\n"
      ]
     },
     "execution_count": 48,
     "metadata": {},
     "output_type": "execute_result"
    },
    {
     "data": {
      "text/plain": [
       "training epoch 1\t\n",
       "training network\t\n",
       "getting 1 to 100 of 1930\t\n"
      ]
     },
     "execution_count": 48,
     "metadata": {},
     "output_type": "execute_result"
    },
    {
     "data": {
      "text/plain": [
       "getting 101 to 200 of 1930\t\n"
      ]
     },
     "execution_count": 48,
     "metadata": {},
     "output_type": "execute_result"
    },
    {
     "data": {
      "text/plain": [
       "getting 201 to 300 of 1930\t\n"
      ]
     },
     "execution_count": 48,
     "metadata": {},
     "output_type": "execute_result"
    },
    {
     "data": {
      "text/plain": [
       "getting 301 to 400 of 1930\t\n",
       "getting 401 to 500 of 1930\t\n"
      ]
     },
     "execution_count": 48,
     "metadata": {},
     "output_type": "execute_result"
    },
    {
     "data": {
      "text/plain": [
       "getting 501 to 600 of 1930\t\n",
       "getting 601 to 700 of 1930\t\n"
      ]
     },
     "execution_count": 48,
     "metadata": {},
     "output_type": "execute_result"
    },
    {
     "data": {
      "text/plain": [
       "getting 701 to 800 of 1930\t\n",
       "getting 801 to 900 of 1930\t\n"
      ]
     },
     "execution_count": 48,
     "metadata": {},
     "output_type": "execute_result"
    },
    {
     "data": {
      "text/plain": [
       "getting 901 to 1000 of 1930\t\n",
       "getting 1001 to 1100 of 1930\t\n"
      ]
     },
     "execution_count": 48,
     "metadata": {},
     "output_type": "execute_result"
    },
    {
     "data": {
      "text/plain": [
       "getting 1101 to 1200 of 1930\t\n",
       "getting 1201 to 1300 of 1930\t\n"
      ]
     },
     "execution_count": 48,
     "metadata": {},
     "output_type": "execute_result"
    },
    {
     "data": {
      "text/plain": [
       "getting 1301 to 1400 of 1930\t\n",
       "getting 1401 to 1500 of 1930\t\n"
      ]
     },
     "execution_count": 48,
     "metadata": {},
     "output_type": "execute_result"
    },
    {
     "data": {
      "text/plain": [
       "getting 1501 to 1600 of 1930\t\n",
       "getting 1601 to 1700 of 1930\t\n"
      ]
     },
     "execution_count": 48,
     "metadata": {},
     "output_type": "execute_result"
    },
    {
     "data": {
      "text/plain": [
       "getting 1701 to 1800 of 1930\t\n"
      ]
     },
     "execution_count": 48,
     "metadata": {},
     "output_type": "execute_result"
    },
    {
     "data": {
      "text/plain": [
       "getting 1801 to 1900 of 1930\t\n",
       "getting 1901 to 1930 of 1930\t\n",
       "done.\t\n",
       "took 115.980974s\t\n",
       "training epoch 2\t\n",
       "training network\t\n",
       "getting 1 to 100 of 1930\t\n"
      ]
     },
     "execution_count": 48,
     "metadata": {},
     "output_type": "execute_result"
    },
    {
     "data": {
      "text/plain": [
       "getting 101 to 200 of 1930\t\n",
       "getting 201 to 300 of 1930\t\n"
      ]
     },
     "execution_count": 48,
     "metadata": {},
     "output_type": "execute_result"
    },
    {
     "data": {
      "text/plain": [
       "getting 301 to 400 of 1930\t\n",
       "getting 401 to 500 of 1930\t\n"
      ]
     },
     "execution_count": 48,
     "metadata": {},
     "output_type": "execute_result"
    },
    {
     "data": {
      "text/plain": [
       "getting 501 to 600 of 1930\t\n",
       "getting 601 to 700 of 1930\t\n"
      ]
     },
     "execution_count": 48,
     "metadata": {},
     "output_type": "execute_result"
    },
    {
     "data": {
      "text/plain": [
       "getting 701 to 800 of 1930\t\n",
       "getting 801 to 900 of 1930\t\n"
      ]
     },
     "execution_count": 48,
     "metadata": {},
     "output_type": "execute_result"
    },
    {
     "data": {
      "text/plain": [
       "getting 901 to 1000 of 1930\t\n",
       "getting 1001 to 1100 of 1930\t\n"
      ]
     },
     "execution_count": 48,
     "metadata": {},
     "output_type": "execute_result"
    },
    {
     "data": {
      "text/plain": [
       "getting 1101 to 1200 of 1930\t\n"
      ]
     },
     "execution_count": 48,
     "metadata": {},
     "output_type": "execute_result"
    },
    {
     "data": {
      "text/plain": [
       "getting 1201 to 1300 of 1930\t\n"
      ]
     },
     "execution_count": 48,
     "metadata": {},
     "output_type": "execute_result"
    },
    {
     "data": {
      "text/plain": [
       "getting 1301 to 1400 of 1930\t\n"
      ]
     },
     "execution_count": 48,
     "metadata": {},
     "output_type": "execute_result"
    },
    {
     "data": {
      "text/plain": [
       "getting 1401 to 1500 of 1930\t\n",
       "getting 1501 to 1600 of 1930\t\n"
      ]
     },
     "execution_count": 48,
     "metadata": {},
     "output_type": "execute_result"
    },
    {
     "data": {
      "text/plain": [
       "getting 1601 to 1700 of 1930\t\n",
       "getting 1701 to 1800 of 1930\t\n"
      ]
     },
     "execution_count": 48,
     "metadata": {},
     "output_type": "execute_result"
    },
    {
     "data": {
      "text/plain": [
       "getting 1801 to 1900 of 1930\t\n"
      ]
     },
     "execution_count": 48,
     "metadata": {},
     "output_type": "execute_result"
    },
    {
     "data": {
      "text/plain": [
       "getting 1901 to 1930 of 1930\t\n",
       "done.\t\n",
       "took 117.563952s\t\n",
       "training epoch 3\t\n",
       "training network\t\n",
       "getting 1 to 100 of 1930\t\n",
       "getting 101 to 200 of 1930\t\n"
      ]
     },
     "execution_count": 48,
     "metadata": {},
     "output_type": "execute_result"
    },
    {
     "data": {
      "text/plain": [
       "getting 201 to 300 of 1930\t\n",
       "getting 301 to 400 of 1930\t\n"
      ]
     },
     "execution_count": 48,
     "metadata": {},
     "output_type": "execute_result"
    },
    {
     "data": {
      "text/plain": [
       "getting 401 to 500 of 1930\t\n",
       "getting 501 to 600 of 1930\t\n"
      ]
     },
     "execution_count": 48,
     "metadata": {},
     "output_type": "execute_result"
    },
    {
     "data": {
      "text/plain": [
       "getting 601 to 700 of 1930\t\n",
       "getting 701 to 800 of 1930\t\n"
      ]
     },
     "execution_count": 48,
     "metadata": {},
     "output_type": "execute_result"
    },
    {
     "data": {
      "text/plain": [
       "getting 801 to 900 of 1930\t\n"
      ]
     },
     "execution_count": 48,
     "metadata": {},
     "output_type": "execute_result"
    },
    {
     "data": {
      "text/plain": [
       "getting 901 to 1000 of 1930\t\n",
       "getting 1001 to 1100 of 1930\t\n"
      ]
     },
     "execution_count": 48,
     "metadata": {},
     "output_type": "execute_result"
    },
    {
     "data": {
      "text/plain": [
       "getting 1101 to 1200 of 1930\t\n",
       "getting 1201 to 1300 of 1930\t\n"
      ]
     },
     "execution_count": 48,
     "metadata": {},
     "output_type": "execute_result"
    },
    {
     "data": {
      "text/plain": [
       "getting 1301 to 1400 of 1930\t\n",
       "getting 1401 to 1500 of 1930\t\n"
      ]
     },
     "execution_count": 48,
     "metadata": {},
     "output_type": "execute_result"
    },
    {
     "data": {
      "text/plain": [
       "getting 1501 to 1600 of 1930\t\n",
       "getting 1601 to 1700 of 1930\t\n"
      ]
     },
     "execution_count": 48,
     "metadata": {},
     "output_type": "execute_result"
    },
    {
     "data": {
      "text/plain": [
       "getting 1701 to 1800 of 1930\t\n"
      ]
     },
     "execution_count": 48,
     "metadata": {},
     "output_type": "execute_result"
    },
    {
     "data": {
      "text/plain": [
       "getting 1801 to 1900 of 1930\t\n"
      ]
     },
     "execution_count": 48,
     "metadata": {},
     "output_type": "execute_result"
    },
    {
     "data": {
      "text/plain": [
       "getting 1901 to 1930 of 1930\t\n",
       "done.\t\n",
       "took 120.254817s\t\n",
       "training epoch 4\t\n",
       "training network\t\n",
       "getting 1 to 100 of 1930\t\n"
      ]
     },
     "execution_count": 48,
     "metadata": {},
     "output_type": "execute_result"
    },
    {
     "data": {
      "text/plain": [
       "getting 101 to 200 of 1930\t\n",
       "getting 201 to 300 of 1930\t\n"
      ]
     },
     "execution_count": 48,
     "metadata": {},
     "output_type": "execute_result"
    },
    {
     "data": {
      "text/plain": [
       "getting 301 to 400 of 1930\t\n"
      ]
     },
     "execution_count": 48,
     "metadata": {},
     "output_type": "execute_result"
    },
    {
     "data": {
      "text/plain": [
       "getting 401 to 500 of 1930\t\n"
      ]
     },
     "execution_count": 48,
     "metadata": {},
     "output_type": "execute_result"
    },
    {
     "data": {
      "text/plain": [
       "getting 501 to 600 of 1930\t\n",
       "getting 601 to 700 of 1930\t\n"
      ]
     },
     "execution_count": 48,
     "metadata": {},
     "output_type": "execute_result"
    },
    {
     "data": {
      "text/plain": [
       "getting 701 to 800 of 1930\t\n",
       "getting 801 to 900 of 1930\t\n"
      ]
     },
     "execution_count": 48,
     "metadata": {},
     "output_type": "execute_result"
    },
    {
     "data": {
      "text/plain": [
       "getting 901 to 1000 of 1930\t\n",
       "getting 1001 to 1100 of 1930\t\n"
      ]
     },
     "execution_count": 48,
     "metadata": {},
     "output_type": "execute_result"
    },
    {
     "data": {
      "text/plain": [
       "getting 1101 to 1200 of 1930\t\n",
       "getting 1201 to 1300 of 1930\t\n"
      ]
     },
     "execution_count": 48,
     "metadata": {},
     "output_type": "execute_result"
    },
    {
     "data": {
      "text/plain": [
       "getting 1301 to 1400 of 1930\t\n"
      ]
     },
     "execution_count": 48,
     "metadata": {},
     "output_type": "execute_result"
    },
    {
     "data": {
      "text/plain": [
       "getting 1401 to 1500 of 1930\t\n"
      ]
     },
     "execution_count": 48,
     "metadata": {},
     "output_type": "execute_result"
    },
    {
     "data": {
      "text/plain": [
       "getting 1501 to 1600 of 1930\t\n",
       "getting 1601 to 1700 of 1930\t\n"
      ]
     },
     "execution_count": 48,
     "metadata": {},
     "output_type": "execute_result"
    },
    {
     "data": {
      "text/plain": [
       "getting 1701 to 1800 of 1930\t\n"
      ]
     },
     "execution_count": 48,
     "metadata": {},
     "output_type": "execute_result"
    },
    {
     "data": {
      "text/plain": [
       "getting 1801 to 1900 of 1930\t\n"
      ]
     },
     "execution_count": 48,
     "metadata": {},
     "output_type": "execute_result"
    },
    {
     "data": {
      "text/plain": [
       "getting 1901 to 1930 of 1930\t\n",
       "done.\t\n",
       "took 122.997144s\t\n"
      ]
     },
     "execution_count": 48,
     "metadata": {},
     "output_type": "execute_result"
    },
    {
     "data": {
      "text/plain": [
       "retrieving ../data/prepped_train_X_word2vec_wordvecs_2.h5\t\n"
      ]
     },
     "execution_count": 48,
     "metadata": {},
     "output_type": "execute_result"
    },
    {
     "data": {
      "text/plain": [
       "training epoch 1\t\n",
       "training network\t\n",
       "getting 1 to 100 of 1930\t\n",
       "getting 101 to 200 of 1930\t\n"
      ]
     },
     "execution_count": 48,
     "metadata": {},
     "output_type": "execute_result"
    },
    {
     "data": {
      "text/plain": [
       "getting 201 to 300 of 1930\t\n"
      ]
     },
     "execution_count": 48,
     "metadata": {},
     "output_type": "execute_result"
    },
    {
     "data": {
      "text/plain": [
       "getting 301 to 400 of 1930\t\n"
      ]
     },
     "execution_count": 48,
     "metadata": {},
     "output_type": "execute_result"
    },
    {
     "data": {
      "text/plain": [
       "getting 401 to 500 of 1930\t\n",
       "getting 501 to 600 of 1930\t\n"
      ]
     },
     "execution_count": 48,
     "metadata": {},
     "output_type": "execute_result"
    },
    {
     "data": {
      "text/plain": [
       "getting 601 to 700 of 1930\t\n",
       "getting 701 to 800 of 1930\t\n"
      ]
     },
     "execution_count": 48,
     "metadata": {},
     "output_type": "execute_result"
    },
    {
     "data": {
      "text/plain": [
       "getting 801 to 900 of 1930\t\n",
       "getting 901 to 1000 of 1930\t\n"
      ]
     },
     "execution_count": 48,
     "metadata": {},
     "output_type": "execute_result"
    },
    {
     "data": {
      "text/plain": [
       "getting 1001 to 1100 of 1930\t\n",
       "getting 1101 to 1200 of 1930\t\n"
      ]
     },
     "execution_count": 48,
     "metadata": {},
     "output_type": "execute_result"
    },
    {
     "data": {
      "text/plain": [
       "getting 1201 to 1300 of 1930\t\n"
      ]
     },
     "execution_count": 48,
     "metadata": {},
     "output_type": "execute_result"
    },
    {
     "data": {
      "text/plain": [
       "getting 1301 to 1400 of 1930\t\n"
      ]
     },
     "execution_count": 48,
     "metadata": {},
     "output_type": "execute_result"
    },
    {
     "data": {
      "text/plain": [
       "getting 1401 to 1500 of 1930\t\n",
       "getting 1501 to 1600 of 1930\t\n"
      ]
     },
     "execution_count": 48,
     "metadata": {},
     "output_type": "execute_result"
    },
    {
     "data": {
      "text/plain": [
       "getting 1601 to 1700 of 1930\t\n",
       "getting 1701 to 1800 of 1930\t\n"
      ]
     },
     "execution_count": 48,
     "metadata": {},
     "output_type": "execute_result"
    },
    {
     "data": {
      "text/plain": [
       "getting 1801 to 1900 of 1930\t\n",
       "getting 1901 to 1930 of 1930\t\n"
      ]
     },
     "execution_count": 48,
     "metadata": {},
     "output_type": "execute_result"
    },
    {
     "data": {
      "text/plain": [
       "done.\t\n",
       "took 124.392161s\t\n",
       "training epoch 2\t\n",
       "training network\t\n",
       "getting 1 to 100 of 1930\t\n"
      ]
     },
     "execution_count": 48,
     "metadata": {},
     "output_type": "execute_result"
    },
    {
     "data": {
      "text/plain": [
       "getting 101 to 200 of 1930\t\n",
       "getting 201 to 300 of 1930\t\n"
      ]
     },
     "execution_count": 48,
     "metadata": {},
     "output_type": "execute_result"
    },
    {
     "data": {
      "text/plain": [
       "getting 301 to 400 of 1930\t\n"
      ]
     },
     "execution_count": 48,
     "metadata": {},
     "output_type": "execute_result"
    },
    {
     "data": {
      "text/plain": [
       "getting 401 to 500 of 1930\t\n"
      ]
     },
     "execution_count": 48,
     "metadata": {},
     "output_type": "execute_result"
    },
    {
     "data": {
      "text/plain": [
       "getting 501 to 600 of 1930\t\n",
       "getting 601 to 700 of 1930\t\n"
      ]
     },
     "execution_count": 48,
     "metadata": {},
     "output_type": "execute_result"
    },
    {
     "data": {
      "text/plain": [
       "getting 701 to 800 of 1930\t\n"
      ]
     },
     "execution_count": 48,
     "metadata": {},
     "output_type": "execute_result"
    },
    {
     "data": {
      "text/plain": [
       "getting 801 to 900 of 1930\t\n"
      ]
     },
     "execution_count": 48,
     "metadata": {},
     "output_type": "execute_result"
    },
    {
     "data": {
      "text/plain": [
       "getting 901 to 1000 of 1930\t\n",
       "getting 1001 to 1100 of 1930\t\n"
      ]
     },
     "execution_count": 48,
     "metadata": {},
     "output_type": "execute_result"
    },
    {
     "data": {
      "text/plain": [
       "getting 1101 to 1200 of 1930\t\n"
      ]
     },
     "execution_count": 48,
     "metadata": {},
     "output_type": "execute_result"
    },
    {
     "data": {
      "text/plain": [
       "getting 1201 to 1300 of 1930\t\n"
      ]
     },
     "execution_count": 48,
     "metadata": {},
     "output_type": "execute_result"
    },
    {
     "data": {
      "text/plain": [
       "getting 1301 to 1400 of 1930\t\n"
      ]
     },
     "execution_count": 48,
     "metadata": {},
     "output_type": "execute_result"
    },
    {
     "data": {
      "text/plain": [
       "getting 1401 to 1500 of 1930\t\n",
       "getting 1501 to 1600 of 1930\t\n"
      ]
     },
     "execution_count": 48,
     "metadata": {},
     "output_type": "execute_result"
    },
    {
     "data": {
      "text/plain": [
       "getting 1601 to 1700 of 1930\t\n"
      ]
     },
     "execution_count": 48,
     "metadata": {},
     "output_type": "execute_result"
    },
    {
     "data": {
      "text/plain": [
       "getting 1701 to 1800 of 1930\t\n"
      ]
     },
     "execution_count": 48,
     "metadata": {},
     "output_type": "execute_result"
    },
    {
     "data": {
      "text/plain": [
       "getting 1801 to 1900 of 1930\t\n",
       "getting 1901 to 1930 of 1930\t\n",
       "done.\t\n",
       "took 122.648314s\t\n",
       "training epoch 3\t\n",
       "training network\t\n",
       "getting 1 to 100 of 1930\t\n"
      ]
     },
     "execution_count": 48,
     "metadata": {},
     "output_type": "execute_result"
    },
    {
     "data": {
      "text/plain": [
       "getting 101 to 200 of 1930\t\n",
       "getting 201 to 300 of 1930\t\n"
      ]
     },
     "execution_count": 48,
     "metadata": {},
     "output_type": "execute_result"
    },
    {
     "data": {
      "text/plain": [
       "getting 301 to 400 of 1930\t\n",
       "getting 401 to 500 of 1930\t\n"
      ]
     },
     "execution_count": 48,
     "metadata": {},
     "output_type": "execute_result"
    },
    {
     "data": {
      "text/plain": [
       "getting 501 to 600 of 1930\t\n"
      ]
     },
     "execution_count": 48,
     "metadata": {},
     "output_type": "execute_result"
    },
    {
     "data": {
      "text/plain": [
       "getting 601 to 700 of 1930\t\n",
       "getting 701 to 800 of 1930\t\n"
      ]
     },
     "execution_count": 48,
     "metadata": {},
     "output_type": "execute_result"
    },
    {
     "data": {
      "text/plain": [
       "getting 801 to 900 of 1930\t\n",
       "getting 901 to 1000 of 1930\t\n"
      ]
     },
     "execution_count": 48,
     "metadata": {},
     "output_type": "execute_result"
    },
    {
     "data": {
      "text/plain": [
       "getting 1001 to 1100 of 1930\t\n",
       "getting 1101 to 1200 of 1930\t\n"
      ]
     },
     "execution_count": 48,
     "metadata": {},
     "output_type": "execute_result"
    },
    {
     "data": {
      "text/plain": [
       "getting 1201 to 1300 of 1930\t\n",
       "getting 1301 to 1400 of 1930\t\n"
      ]
     },
     "execution_count": 48,
     "metadata": {},
     "output_type": "execute_result"
    },
    {
     "data": {
      "text/plain": [
       "getting 1401 to 1500 of 1930\t\n"
      ]
     },
     "execution_count": 48,
     "metadata": {},
     "output_type": "execute_result"
    },
    {
     "data": {
      "text/plain": [
       "getting 1501 to 1600 of 1930\t\n",
       "getting 1601 to 1700 of 1930\t\n"
      ]
     },
     "execution_count": 48,
     "metadata": {},
     "output_type": "execute_result"
    },
    {
     "data": {
      "text/plain": [
       "getting 1701 to 1800 of 1930\t\n"
      ]
     },
     "execution_count": 48,
     "metadata": {},
     "output_type": "execute_result"
    },
    {
     "data": {
      "text/plain": [
       "getting 1801 to 1900 of 1930\t\n"
      ]
     },
     "execution_count": 48,
     "metadata": {},
     "output_type": "execute_result"
    },
    {
     "data": {
      "text/plain": [
       "getting 1901 to 1930 of 1930\t\n",
       "done.\t\n",
       "took 122.347545s\t\n",
       "training epoch 4\t\n",
       "training network\t\n",
       "getting 1 to 100 of 1930\t\n"
      ]
     },
     "execution_count": 48,
     "metadata": {},
     "output_type": "execute_result"
    },
    {
     "data": {
      "text/plain": [
       "getting 101 to 200 of 1930\t\n",
       "getting 201 to 300 of 1930\t\n"
      ]
     },
     "execution_count": 48,
     "metadata": {},
     "output_type": "execute_result"
    },
    {
     "data": {
      "text/plain": [
       "getting 301 to 400 of 1930\t\n",
       "getting 401 to 500 of 1930\t\n"
      ]
     },
     "execution_count": 48,
     "metadata": {},
     "output_type": "execute_result"
    },
    {
     "data": {
      "text/plain": [
       "getting 501 to 600 of 1930\t\n"
      ]
     },
     "execution_count": 48,
     "metadata": {},
     "output_type": "execute_result"
    },
    {
     "data": {
      "text/plain": [
       "getting 601 to 700 of 1930\t\n",
       "getting 701 to 800 of 1930\t\n"
      ]
     },
     "execution_count": 48,
     "metadata": {},
     "output_type": "execute_result"
    },
    {
     "data": {
      "text/plain": [
       "getting 801 to 900 of 1930\t\n",
       "getting 901 to 1000 of 1930\t\n"
      ]
     },
     "execution_count": 48,
     "metadata": {},
     "output_type": "execute_result"
    },
    {
     "data": {
      "text/plain": [
       "getting 1001 to 1100 of 1930\t\n"
      ]
     },
     "execution_count": 48,
     "metadata": {},
     "output_type": "execute_result"
    },
    {
     "data": {
      "text/plain": [
       "getting 1101 to 1200 of 1930\t\n"
      ]
     },
     "execution_count": 48,
     "metadata": {},
     "output_type": "execute_result"
    },
    {
     "data": {
      "text/plain": [
       "getting 1201 to 1300 of 1930\t\n",
       "getting 1301 to 1400 of 1930\t\n"
      ]
     },
     "execution_count": 48,
     "metadata": {},
     "output_type": "execute_result"
    },
    {
     "data": {
      "text/plain": [
       "getting 1401 to 1500 of 1930\t\n"
      ]
     },
     "execution_count": 48,
     "metadata": {},
     "output_type": "execute_result"
    },
    {
     "data": {
      "text/plain": [
       "getting 1501 to 1600 of 1930\t\n"
      ]
     },
     "execution_count": 48,
     "metadata": {},
     "output_type": "execute_result"
    },
    {
     "data": {
      "text/plain": [
       "getting 1601 to 1700 of 1930\t\n"
      ]
     },
     "execution_count": 48,
     "metadata": {},
     "output_type": "execute_result"
    },
    {
     "data": {
      "text/plain": [
       "getting 1701 to 1800 of 1930\t\n"
      ]
     },
     "execution_count": 48,
     "metadata": {},
     "output_type": "execute_result"
    },
    {
     "data": {
      "text/plain": [
       "getting 1801 to 1900 of 1930\t\n",
       "getting 1901 to 1930 of 1930\t\n"
      ]
     },
     "execution_count": 48,
     "metadata": {},
     "output_type": "execute_result"
    },
    {
     "data": {
      "text/plain": [
       "done.\t\n",
       "took 123.025177s\t\n",
       "retrieving ../data/prepped_train_X_word2vec_wordvecs_3.h5\t\n"
      ]
     },
     "execution_count": 48,
     "metadata": {},
     "output_type": "execute_result"
    },
    {
     "data": {
      "text/plain": [
       "training epoch 1\t\n",
       "training network\t\n",
       "getting 1 to 100 of 1930\t\n",
       "getting 101 to 200 of 1930\t\n"
      ]
     },
     "execution_count": 48,
     "metadata": {},
     "output_type": "execute_result"
    },
    {
     "data": {
      "text/plain": [
       "getting 201 to 300 of 1930\t\n"
      ]
     },
     "execution_count": 48,
     "metadata": {},
     "output_type": "execute_result"
    },
    {
     "data": {
      "text/plain": [
       "getting 301 to 400 of 1930\t\n"
      ]
     },
     "execution_count": 48,
     "metadata": {},
     "output_type": "execute_result"
    },
    {
     "data": {
      "text/plain": [
       "getting 401 to 500 of 1930\t\n",
       "getting 501 to 600 of 1930\t\n"
      ]
     },
     "execution_count": 48,
     "metadata": {},
     "output_type": "execute_result"
    },
    {
     "data": {
      "text/plain": [
       "getting 601 to 700 of 1930\t\n"
      ]
     },
     "execution_count": 48,
     "metadata": {},
     "output_type": "execute_result"
    },
    {
     "data": {
      "text/plain": [
       "getting 701 to 800 of 1930\t\n"
      ]
     },
     "execution_count": 48,
     "metadata": {},
     "output_type": "execute_result"
    },
    {
     "data": {
      "text/plain": [
       "getting 801 to 900 of 1930\t\n"
      ]
     },
     "execution_count": 48,
     "metadata": {},
     "output_type": "execute_result"
    },
    {
     "data": {
      "text/plain": [
       "getting 901 to 1000 of 1930\t\n",
       "getting 1001 to 1100 of 1930\t\n"
      ]
     },
     "execution_count": 48,
     "metadata": {},
     "output_type": "execute_result"
    },
    {
     "data": {
      "text/plain": [
       "getting 1101 to 1200 of 1930\t\n"
      ]
     },
     "execution_count": 48,
     "metadata": {},
     "output_type": "execute_result"
    },
    {
     "data": {
      "text/plain": [
       "getting 1201 to 1300 of 1930\t\n"
      ]
     },
     "execution_count": 48,
     "metadata": {},
     "output_type": "execute_result"
    },
    {
     "data": {
      "text/plain": [
       "getting 1301 to 1400 of 1930\t\n",
       "getting 1401 to 1500 of 1930\t\n"
      ]
     },
     "execution_count": 48,
     "metadata": {},
     "output_type": "execute_result"
    },
    {
     "data": {
      "text/plain": [
       "getting 1501 to 1600 of 1930\t\n",
       "getting 1601 to 1700 of 1930\t\n"
      ]
     },
     "execution_count": 48,
     "metadata": {},
     "output_type": "execute_result"
    },
    {
     "data": {
      "text/plain": [
       "getting 1701 to 1800 of 1930\t\n",
       "getting 1801 to 1900 of 1930\t\n"
      ]
     },
     "execution_count": 48,
     "metadata": {},
     "output_type": "execute_result"
    },
    {
     "data": {
      "text/plain": [
       "getting 1901 to 1930 of 1930\t\n",
       "done.\t\n",
       "took 124.081043s\t\n",
       "training epoch 2\t\n",
       "training network\t\n",
       "getting 1 to 100 of 1930\t\n",
       "getting 101 to 200 of 1930\t\n"
      ]
     },
     "execution_count": 48,
     "metadata": {},
     "output_type": "execute_result"
    },
    {
     "data": {
      "text/plain": [
       "getting 201 to 300 of 1930\t\n"
      ]
     },
     "execution_count": 48,
     "metadata": {},
     "output_type": "execute_result"
    },
    {
     "data": {
      "text/plain": [
       "getting 301 to 400 of 1930\t\n"
      ]
     },
     "execution_count": 48,
     "metadata": {},
     "output_type": "execute_result"
    },
    {
     "data": {
      "text/plain": [
       "getting 401 to 500 of 1930\t\n",
       "getting 501 to 600 of 1930\t\n"
      ]
     },
     "execution_count": 48,
     "metadata": {},
     "output_type": "execute_result"
    },
    {
     "data": {
      "text/plain": [
       "getting 601 to 700 of 1930\t\n",
       "getting 701 to 800 of 1930\t\n"
      ]
     },
     "execution_count": 48,
     "metadata": {},
     "output_type": "execute_result"
    },
    {
     "data": {
      "text/plain": [
       "getting 801 to 900 of 1930\t\n",
       "getting 901 to 1000 of 1930\t\n"
      ]
     },
     "execution_count": 48,
     "metadata": {},
     "output_type": "execute_result"
    },
    {
     "data": {
      "text/plain": [
       "getting 1001 to 1100 of 1930\t\n"
      ]
     },
     "execution_count": 48,
     "metadata": {},
     "output_type": "execute_result"
    },
    {
     "data": {
      "text/plain": [
       "getting 1101 to 1200 of 1930\t\n"
      ]
     },
     "execution_count": 48,
     "metadata": {},
     "output_type": "execute_result"
    },
    {
     "data": {
      "text/plain": [
       "getting 1201 to 1300 of 1930\t\n",
       "getting 1301 to 1400 of 1930\t\n"
      ]
     },
     "execution_count": 48,
     "metadata": {},
     "output_type": "execute_result"
    },
    {
     "data": {
      "text/plain": [
       "getting 1401 to 1500 of 1930\t\n"
      ]
     },
     "execution_count": 48,
     "metadata": {},
     "output_type": "execute_result"
    },
    {
     "data": {
      "text/plain": [
       "getting 1501 to 1600 of 1930\t\n"
      ]
     },
     "execution_count": 48,
     "metadata": {},
     "output_type": "execute_result"
    },
    {
     "data": {
      "text/plain": [
       "getting 1601 to 1700 of 1930\t\n",
       "getting 1701 to 1800 of 1930\t\n"
      ]
     },
     "execution_count": 48,
     "metadata": {},
     "output_type": "execute_result"
    },
    {
     "data": {
      "text/plain": [
       "getting 1801 to 1900 of 1930\t\n",
       "getting 1901 to 1930 of 1930\t\n",
       "done.\t\n",
       "took 122.517853s\t\n",
       "training epoch 3\t\n",
       "training network\t\n",
       "getting 1 to 100 of 1930\t\n"
      ]
     },
     "execution_count": 48,
     "metadata": {},
     "output_type": "execute_result"
    },
    {
     "data": {
      "text/plain": [
       "getting 101 to 200 of 1930\t\n",
       "getting 201 to 300 of 1930\t\n"
      ]
     },
     "execution_count": 48,
     "metadata": {},
     "output_type": "execute_result"
    },
    {
     "data": {
      "text/plain": [
       "getting 301 to 400 of 1930\t\n"
      ]
     },
     "execution_count": 48,
     "metadata": {},
     "output_type": "execute_result"
    },
    {
     "data": {
      "text/plain": [
       "getting 401 to 500 of 1930\t\n"
      ]
     },
     "execution_count": 48,
     "metadata": {},
     "output_type": "execute_result"
    },
    {
     "data": {
      "text/plain": [
       "getting 501 to 600 of 1930\t\n",
       "getting 601 to 700 of 1930\t\n"
      ]
     },
     "execution_count": 48,
     "metadata": {},
     "output_type": "execute_result"
    },
    {
     "data": {
      "text/plain": [
       "getting 701 to 800 of 1930\t\n"
      ]
     },
     "execution_count": 48,
     "metadata": {},
     "output_type": "execute_result"
    },
    {
     "data": {
      "text/plain": [
       "getting 801 to 900 of 1930\t\n"
      ]
     },
     "execution_count": 48,
     "metadata": {},
     "output_type": "execute_result"
    },
    {
     "data": {
      "text/plain": [
       "getting 901 to 1000 of 1930\t\n"
      ]
     },
     "execution_count": 48,
     "metadata": {},
     "output_type": "execute_result"
    },
    {
     "data": {
      "text/plain": [
       "getting 1001 to 1100 of 1930\t\n",
       "getting 1101 to 1200 of 1930\t\n"
      ]
     },
     "execution_count": 48,
     "metadata": {},
     "output_type": "execute_result"
    },
    {
     "data": {
      "text/plain": [
       "getting 1201 to 1300 of 1930\t\n"
      ]
     },
     "execution_count": 48,
     "metadata": {},
     "output_type": "execute_result"
    },
    {
     "data": {
      "text/plain": [
       "getting 1301 to 1400 of 1930\t\n"
      ]
     },
     "execution_count": 48,
     "metadata": {},
     "output_type": "execute_result"
    },
    {
     "data": {
      "text/plain": [
       "getting 1401 to 1500 of 1930\t\n",
       "getting 1501 to 1600 of 1930\t\n"
      ]
     },
     "execution_count": 48,
     "metadata": {},
     "output_type": "execute_result"
    },
    {
     "data": {
      "text/plain": [
       "getting 1601 to 1700 of 1930\t\n",
       "getting 1701 to 1800 of 1930\t\n"
      ]
     },
     "execution_count": 48,
     "metadata": {},
     "output_type": "execute_result"
    },
    {
     "data": {
      "text/plain": [
       "getting 1801 to 1900 of 1930\t\n",
       "getting 1901 to 1930 of 1930\t\n",
       "done.\t\n",
       "took 123.075643s\t\n",
       "training epoch 4\t\n",
       "training network\t\n",
       "getting 1 to 100 of 1930\t\n"
      ]
     },
     "execution_count": 48,
     "metadata": {},
     "output_type": "execute_result"
    },
    {
     "data": {
      "text/plain": [
       "getting 101 to 200 of 1930\t\n",
       "getting 201 to 300 of 1930\t\n"
      ]
     },
     "execution_count": 48,
     "metadata": {},
     "output_type": "execute_result"
    },
    {
     "data": {
      "text/plain": [
       "getting 301 to 400 of 1930\t\n"
      ]
     },
     "execution_count": 48,
     "metadata": {},
     "output_type": "execute_result"
    },
    {
     "data": {
      "text/plain": [
       "getting 401 to 500 of 1930\t\n"
      ]
     },
     "execution_count": 48,
     "metadata": {},
     "output_type": "execute_result"
    },
    {
     "data": {
      "text/plain": [
       "getting 501 to 600 of 1930\t\n"
      ]
     },
     "execution_count": 48,
     "metadata": {},
     "output_type": "execute_result"
    },
    {
     "data": {
      "text/plain": [
       "getting 601 to 700 of 1930\t\n"
      ]
     },
     "execution_count": 48,
     "metadata": {},
     "output_type": "execute_result"
    },
    {
     "data": {
      "text/plain": [
       "getting 701 to 800 of 1930\t\n"
      ]
     },
     "execution_count": 48,
     "metadata": {},
     "output_type": "execute_result"
    },
    {
     "data": {
      "text/plain": [
       "getting 801 to 900 of 1930\t\n"
      ]
     },
     "execution_count": 48,
     "metadata": {},
     "output_type": "execute_result"
    },
    {
     "data": {
      "text/plain": [
       "getting 901 to 1000 of 1930\t\n"
      ]
     },
     "execution_count": 48,
     "metadata": {},
     "output_type": "execute_result"
    },
    {
     "data": {
      "text/plain": [
       "getting 1001 to 1100 of 1930\t\n",
       "getting 1101 to 1200 of 1930\t\n"
      ]
     },
     "execution_count": 48,
     "metadata": {},
     "output_type": "execute_result"
    },
    {
     "data": {
      "text/plain": [
       "getting 1201 to 1300 of 1930\t\n"
      ]
     },
     "execution_count": 48,
     "metadata": {},
     "output_type": "execute_result"
    },
    {
     "data": {
      "text/plain": [
       "getting 1301 to 1400 of 1930\t\n"
      ]
     },
     "execution_count": 48,
     "metadata": {},
     "output_type": "execute_result"
    },
    {
     "data": {
      "text/plain": [
       "getting 1401 to 1500 of 1930\t\n",
       "getting 1501 to 1600 of 1930\t\n"
      ]
     },
     "execution_count": 48,
     "metadata": {},
     "output_type": "execute_result"
    },
    {
     "data": {
      "text/plain": [
       "getting 1601 to 1700 of 1930\t\n"
      ]
     },
     "execution_count": 48,
     "metadata": {},
     "output_type": "execute_result"
    },
    {
     "data": {
      "text/plain": [
       "getting 1701 to 1800 of 1930\t\n",
       "getting 1801 to 1900 of 1930\t\n"
      ]
     },
     "execution_count": 48,
     "metadata": {},
     "output_type": "execute_result"
    },
    {
     "data": {
      "text/plain": [
       "getting 1901 to 1930 of 1930\t\n",
       "done.\t\n",
       "took 123.22107s\t\n"
      ]
     },
     "execution_count": 48,
     "metadata": {},
     "output_type": "execute_result"
    },
    {
     "data": {
      "text/plain": [
       "retrieving ../data/prepped_train_X_word2vec_wordvecs_4.h5\t\n"
      ]
     },
     "execution_count": 48,
     "metadata": {},
     "output_type": "execute_result"
    },
    {
     "data": {
      "text/plain": [
       "training epoch 1\t\n",
       "training network\t\n",
       "getting 1 to 100 of 1930\t\n",
       "getting 101 to 200 of 1930\t\n"
      ]
     },
     "execution_count": 48,
     "metadata": {},
     "output_type": "execute_result"
    },
    {
     "data": {
      "text/plain": [
       "getting 201 to 300 of 1930\t\n",
       "getting 301 to 400 of 1930\t\n"
      ]
     },
     "execution_count": 48,
     "metadata": {},
     "output_type": "execute_result"
    },
    {
     "data": {
      "text/plain": [
       "getting 401 to 500 of 1930\t\n"
      ]
     },
     "execution_count": 48,
     "metadata": {},
     "output_type": "execute_result"
    },
    {
     "data": {
      "text/plain": [
       "getting 501 to 600 of 1930\t\n"
      ]
     },
     "execution_count": 48,
     "metadata": {},
     "output_type": "execute_result"
    },
    {
     "data": {
      "text/plain": [
       "getting 601 to 700 of 1930\t\n",
       "getting 701 to 800 of 1930\t\n"
      ]
     },
     "execution_count": 48,
     "metadata": {},
     "output_type": "execute_result"
    },
    {
     "data": {
      "text/plain": [
       "getting 801 to 900 of 1930\t\n"
      ]
     },
     "execution_count": 48,
     "metadata": {},
     "output_type": "execute_result"
    },
    {
     "data": {
      "text/plain": [
       "getting 901 to 1000 of 1930\t\n",
       "getting 1001 to 1100 of 1930\t\n"
      ]
     },
     "execution_count": 48,
     "metadata": {},
     "output_type": "execute_result"
    },
    {
     "data": {
      "text/plain": [
       "getting 1101 to 1200 of 1930\t\n",
       "getting 1201 to 1300 of 1930\t\n"
      ]
     },
     "execution_count": 48,
     "metadata": {},
     "output_type": "execute_result"
    },
    {
     "data": {
      "text/plain": [
       "getting 1301 to 1400 of 1930\t\n",
       "getting 1401 to 1500 of 1930\t\n"
      ]
     },
     "execution_count": 48,
     "metadata": {},
     "output_type": "execute_result"
    },
    {
     "data": {
      "text/plain": [
       "getting 1501 to 1600 of 1930\t\n"
      ]
     },
     "execution_count": 48,
     "metadata": {},
     "output_type": "execute_result"
    },
    {
     "data": {
      "text/plain": [
       "getting 1601 to 1700 of 1930\t\n"
      ]
     },
     "execution_count": 48,
     "metadata": {},
     "output_type": "execute_result"
    },
    {
     "data": {
      "text/plain": [
       "getting 1701 to 1800 of 1930\t\n"
      ]
     },
     "execution_count": 48,
     "metadata": {},
     "output_type": "execute_result"
    },
    {
     "data": {
      "text/plain": [
       "getting 1801 to 1900 of 1930\t\n"
      ]
     },
     "execution_count": 48,
     "metadata": {},
     "output_type": "execute_result"
    },
    {
     "data": {
      "text/plain": [
       "getting 1901 to 1930 of 1930\t\n",
       "done.\t\n",
       "took 123.646595s\t\n",
       "training epoch 2\t\n",
       "training network\t\n",
       "getting 1 to 100 of 1930\t\n",
       "getting 101 to 200 of 1930\t\n"
      ]
     },
     "execution_count": 48,
     "metadata": {},
     "output_type": "execute_result"
    },
    {
     "data": {
      "text/plain": [
       "getting 201 to 300 of 1930\t\n",
       "getting 301 to 400 of 1930\t\n"
      ]
     },
     "execution_count": 48,
     "metadata": {},
     "output_type": "execute_result"
    },
    {
     "data": {
      "text/plain": [
       "getting 401 to 500 of 1930\t\n"
      ]
     },
     "execution_count": 48,
     "metadata": {},
     "output_type": "execute_result"
    },
    {
     "data": {
      "text/plain": [
       "getting 501 to 600 of 1930\t\n"
      ]
     },
     "execution_count": 48,
     "metadata": {},
     "output_type": "execute_result"
    },
    {
     "data": {
      "text/plain": [
       "getting 601 to 700 of 1930\t\n",
       "getting 701 to 800 of 1930\t\n"
      ]
     },
     "execution_count": 48,
     "metadata": {},
     "output_type": "execute_result"
    },
    {
     "data": {
      "text/plain": [
       "getting 801 to 900 of 1930\t\n"
      ]
     },
     "execution_count": 48,
     "metadata": {},
     "output_type": "execute_result"
    },
    {
     "data": {
      "text/plain": [
       "getting 901 to 1000 of 1930\t\n"
      ]
     },
     "execution_count": 48,
     "metadata": {},
     "output_type": "execute_result"
    },
    {
     "data": {
      "text/plain": [
       "getting 1001 to 1100 of 1930\t\n"
      ]
     },
     "execution_count": 48,
     "metadata": {},
     "output_type": "execute_result"
    },
    {
     "data": {
      "text/plain": [
       "getting 1101 to 1200 of 1930\t\n",
       "getting 1201 to 1300 of 1930\t\n"
      ]
     },
     "execution_count": 48,
     "metadata": {},
     "output_type": "execute_result"
    },
    {
     "data": {
      "text/plain": [
       "getting 1301 to 1400 of 1930\t\n",
       "getting 1401 to 1500 of 1930\t\n"
      ]
     },
     "execution_count": 48,
     "metadata": {},
     "output_type": "execute_result"
    },
    {
     "data": {
      "text/plain": [
       "getting 1501 to 1600 of 1930\t\n"
      ]
     },
     "execution_count": 48,
     "metadata": {},
     "output_type": "execute_result"
    },
    {
     "data": {
      "text/plain": [
       "getting 1601 to 1700 of 1930\t\n"
      ]
     },
     "execution_count": 48,
     "metadata": {},
     "output_type": "execute_result"
    },
    {
     "data": {
      "text/plain": [
       "getting 1701 to 1800 of 1930\t\n"
      ]
     },
     "execution_count": 48,
     "metadata": {},
     "output_type": "execute_result"
    },
    {
     "data": {
      "text/plain": [
       "getting 1801 to 1900 of 1930\t\n",
       "getting 1901 to 1930 of 1930\t\n",
       "done.\t\n",
       "took 118.306259s\t\n",
       "training epoch 3\t\n",
       "training network\t\n",
       "getting 1 to 100 of 1930\t\n"
      ]
     },
     "execution_count": 48,
     "metadata": {},
     "output_type": "execute_result"
    },
    {
     "data": {
      "text/plain": [
       "getting 101 to 200 of 1930\t\n",
       "getting 201 to 300 of 1930\t\n"
      ]
     },
     "execution_count": 48,
     "metadata": {},
     "output_type": "execute_result"
    },
    {
     "data": {
      "text/plain": [
       "getting 301 to 400 of 1930\t\n"
      ]
     },
     "execution_count": 48,
     "metadata": {},
     "output_type": "execute_result"
    },
    {
     "data": {
      "text/plain": [
       "getting 401 to 500 of 1930\t\n"
      ]
     },
     "execution_count": 48,
     "metadata": {},
     "output_type": "execute_result"
    },
    {
     "data": {
      "text/plain": [
       "getting 501 to 600 of 1930\t\n",
       "getting 601 to 700 of 1930\t\n"
      ]
     },
     "execution_count": 48,
     "metadata": {},
     "output_type": "execute_result"
    },
    {
     "data": {
      "text/plain": [
       "getting 701 to 800 of 1930\t\n"
      ]
     },
     "execution_count": 48,
     "metadata": {},
     "output_type": "execute_result"
    },
    {
     "data": {
      "text/plain": [
       "getting 801 to 900 of 1930\t\n"
      ]
     },
     "execution_count": 48,
     "metadata": {},
     "output_type": "execute_result"
    },
    {
     "data": {
      "text/plain": [
       "getting 901 to 1000 of 1930\t\n",
       "getting 1001 to 1100 of 1930\t\n"
      ]
     },
     "execution_count": 48,
     "metadata": {},
     "output_type": "execute_result"
    },
    {
     "data": {
      "text/plain": [
       "getting 1101 to 1200 of 1930\t\n",
       "getting 1201 to 1300 of 1930\t\n"
      ]
     },
     "execution_count": 48,
     "metadata": {},
     "output_type": "execute_result"
    },
    {
     "data": {
      "text/plain": [
       "getting 1301 to 1400 of 1930\t\n",
       "getting 1401 to 1500 of 1930\t\n"
      ]
     },
     "execution_count": 48,
     "metadata": {},
     "output_type": "execute_result"
    },
    {
     "data": {
      "text/plain": [
       "getting 1501 to 1600 of 1930\t\n"
      ]
     },
     "execution_count": 48,
     "metadata": {},
     "output_type": "execute_result"
    },
    {
     "data": {
      "text/plain": [
       "getting 1601 to 1700 of 1930\t\n"
      ]
     },
     "execution_count": 48,
     "metadata": {},
     "output_type": "execute_result"
    },
    {
     "data": {
      "text/plain": [
       "getting 1701 to 1800 of 1930\t\n"
      ]
     },
     "execution_count": 48,
     "metadata": {},
     "output_type": "execute_result"
    },
    {
     "data": {
      "text/plain": [
       "getting 1801 to 1900 of 1930\t\n"
      ]
     },
     "execution_count": 48,
     "metadata": {},
     "output_type": "execute_result"
    },
    {
     "data": {
      "text/plain": [
       "getting 1901 to 1930 of 1930\t\n"
      ]
     },
     "execution_count": 48,
     "metadata": {},
     "output_type": "execute_result"
    },
    {
     "data": {
      "text/plain": [
       "done.\t\n",
       "took 110.230905s\t\n",
       "training epoch 4\t\n",
       "training network\t\n",
       "getting 1 to 100 of 1930\t\n",
       "getting 101 to 200 of 1930\t\n"
      ]
     },
     "execution_count": 48,
     "metadata": {},
     "output_type": "execute_result"
    },
    {
     "data": {
      "text/plain": [
       "getting 201 to 300 of 1930\t\n"
      ]
     },
     "execution_count": 48,
     "metadata": {},
     "output_type": "execute_result"
    },
    {
     "data": {
      "text/plain": [
       "getting 301 to 400 of 1930\t\n"
      ]
     },
     "execution_count": 48,
     "metadata": {},
     "output_type": "execute_result"
    },
    {
     "data": {
      "text/plain": [
       "getting 401 to 500 of 1930\t\n"
      ]
     },
     "execution_count": 48,
     "metadata": {},
     "output_type": "execute_result"
    },
    {
     "data": {
      "text/plain": [
       "getting 501 to 600 of 1930\t\n"
      ]
     },
     "execution_count": 48,
     "metadata": {},
     "output_type": "execute_result"
    },
    {
     "data": {
      "text/plain": [
       "getting 601 to 700 of 1930\t\n",
       "getting 701 to 800 of 1930\t\n"
      ]
     },
     "execution_count": 48,
     "metadata": {},
     "output_type": "execute_result"
    },
    {
     "data": {
      "text/plain": [
       "getting 801 to 900 of 1930\t\n",
       "getting 901 to 1000 of 1930\t\n"
      ]
     },
     "execution_count": 48,
     "metadata": {},
     "output_type": "execute_result"
    },
    {
     "data": {
      "text/plain": [
       "getting 1001 to 1100 of 1930\t\n",
       "getting 1101 to 1200 of 1930\t\n"
      ]
     },
     "execution_count": 48,
     "metadata": {},
     "output_type": "execute_result"
    },
    {
     "data": {
      "text/plain": [
       "getting 1201 to 1300 of 1930\t\n",
       "getting 1301 to 1400 of 1930\t\n"
      ]
     },
     "execution_count": 48,
     "metadata": {},
     "output_type": "execute_result"
    },
    {
     "data": {
      "text/plain": [
       "getting 1401 to 1500 of 1930\t\n"
      ]
     },
     "execution_count": 48,
     "metadata": {},
     "output_type": "execute_result"
    },
    {
     "data": {
      "text/plain": [
       "getting 1501 to 1600 of 1930\t\n"
      ]
     },
     "execution_count": 48,
     "metadata": {},
     "output_type": "execute_result"
    },
    {
     "data": {
      "text/plain": [
       "getting 1601 to 1700 of 1930\t\n"
      ]
     },
     "execution_count": 48,
     "metadata": {},
     "output_type": "execute_result"
    },
    {
     "data": {
      "text/plain": [
       "getting 1701 to 1800 of 1930\t\n",
       "getting 1801 to 1900 of 1930\t\n"
      ]
     },
     "execution_count": 48,
     "metadata": {},
     "output_type": "execute_result"
    },
    {
     "data": {
      "text/plain": [
       "getting 1901 to 1930 of 1930\t\n"
      ]
     },
     "execution_count": 48,
     "metadata": {},
     "output_type": "execute_result"
    },
    {
     "data": {
      "text/plain": [
       "done.\t\n",
       "took 116.632179s\t\n",
       "retrieving ../data/prepped_train_X_word2vec_wordvecs_5.h5\t\n"
      ]
     },
     "execution_count": 48,
     "metadata": {},
     "output_type": "execute_result"
    },
    {
     "data": {
      "text/plain": [
       "training epoch 1\t\n",
       "training network\t\n",
       "getting 1 to 100 of 1930\t\n"
      ]
     },
     "execution_count": 48,
     "metadata": {},
     "output_type": "execute_result"
    },
    {
     "data": {
      "text/plain": [
       "getting 101 to 200 of 1930\t\n",
       "getting 201 to 300 of 1930\t\n"
      ]
     },
     "execution_count": 48,
     "metadata": {},
     "output_type": "execute_result"
    },
    {
     "data": {
      "text/plain": [
       "getting 301 to 400 of 1930\t\n",
       "getting 401 to 500 of 1930\t\n"
      ]
     },
     "execution_count": 48,
     "metadata": {},
     "output_type": "execute_result"
    },
    {
     "data": {
      "text/plain": [
       "getting 501 to 600 of 1930\t\n"
      ]
     },
     "execution_count": 48,
     "metadata": {},
     "output_type": "execute_result"
    },
    {
     "data": {
      "text/plain": [
       "getting 601 to 700 of 1930\t\n"
      ]
     },
     "execution_count": 48,
     "metadata": {},
     "output_type": "execute_result"
    },
    {
     "data": {
      "text/plain": [
       "getting 701 to 800 of 1930\t\n"
      ]
     },
     "execution_count": 48,
     "metadata": {},
     "output_type": "execute_result"
    },
    {
     "data": {
      "text/plain": [
       "getting 801 to 900 of 1930\t\n",
       "getting 901 to 1000 of 1930\t\n"
      ]
     },
     "execution_count": 48,
     "metadata": {},
     "output_type": "execute_result"
    },
    {
     "data": {
      "text/plain": [
       "getting 1001 to 1100 of 1930\t\n",
       "getting 1101 to 1200 of 1930\t\n"
      ]
     },
     "execution_count": 48,
     "metadata": {},
     "output_type": "execute_result"
    },
    {
     "data": {
      "text/plain": [
       "getting 1201 to 1300 of 1930\t\n"
      ]
     },
     "execution_count": 48,
     "metadata": {},
     "output_type": "execute_result"
    },
    {
     "data": {
      "text/plain": [
       "getting 1301 to 1400 of 1930\t\n"
      ]
     },
     "execution_count": 48,
     "metadata": {},
     "output_type": "execute_result"
    },
    {
     "data": {
      "text/plain": [
       "getting 1401 to 1500 of 1930\t\n"
      ]
     },
     "execution_count": 48,
     "metadata": {},
     "output_type": "execute_result"
    },
    {
     "data": {
      "text/plain": [
       "getting 1501 to 1600 of 1930\t\n"
      ]
     },
     "execution_count": 48,
     "metadata": {},
     "output_type": "execute_result"
    },
    {
     "data": {
      "text/plain": [
       "getting 1601 to 1700 of 1930\t\n"
      ]
     },
     "execution_count": 48,
     "metadata": {},
     "output_type": "execute_result"
    },
    {
     "data": {
      "text/plain": [
       "getting 1701 to 1800 of 1930\t\n",
       "getting 1801 to 1900 of 1930\t\n"
      ]
     },
     "execution_count": 48,
     "metadata": {},
     "output_type": "execute_result"
    },
    {
     "data": {
      "text/plain": [
       "getting 1901 to 1930 of 1930\t\n",
       "done.\t\n",
       "took 115.794645s\t\n",
       "training epoch 2\t\n",
       "training network\t\n",
       "getting 1 to 100 of 1930\t\n"
      ]
     },
     "execution_count": 48,
     "metadata": {},
     "output_type": "execute_result"
    },
    {
     "data": {
      "text/plain": [
       "getting 101 to 200 of 1930\t\n"
      ]
     },
     "execution_count": 48,
     "metadata": {},
     "output_type": "execute_result"
    },
    {
     "data": {
      "text/plain": [
       "getting 201 to 300 of 1930\t\n"
      ]
     },
     "execution_count": 48,
     "metadata": {},
     "output_type": "execute_result"
    },
    {
     "data": {
      "text/plain": [
       "getting 301 to 400 of 1930\t\n"
      ]
     },
     "execution_count": 48,
     "metadata": {},
     "output_type": "execute_result"
    },
    {
     "data": {
      "text/plain": [
       "getting 401 to 500 of 1930\t\n",
       "getting 501 to 600 of 1930\t\n"
      ]
     },
     "execution_count": 48,
     "metadata": {},
     "output_type": "execute_result"
    },
    {
     "data": {
      "text/plain": [
       "getting 601 to 700 of 1930\t\n"
      ]
     },
     "execution_count": 48,
     "metadata": {},
     "output_type": "execute_result"
    },
    {
     "data": {
      "text/plain": [
       "getting 701 to 800 of 1930\t\n"
      ]
     },
     "execution_count": 48,
     "metadata": {},
     "output_type": "execute_result"
    },
    {
     "data": {
      "text/plain": [
       "getting 801 to 900 of 1930\t\n"
      ]
     },
     "execution_count": 48,
     "metadata": {},
     "output_type": "execute_result"
    },
    {
     "data": {
      "text/plain": [
       "getting 901 to 1000 of 1930\t\n"
      ]
     },
     "execution_count": 48,
     "metadata": {},
     "output_type": "execute_result"
    },
    {
     "data": {
      "text/plain": [
       "getting 1001 to 1100 of 1930\t\n"
      ]
     },
     "execution_count": 48,
     "metadata": {},
     "output_type": "execute_result"
    },
    {
     "data": {
      "text/plain": [
       "getting 1101 to 1200 of 1930\t\n"
      ]
     },
     "execution_count": 48,
     "metadata": {},
     "output_type": "execute_result"
    },
    {
     "data": {
      "text/plain": [
       "getting 1201 to 1300 of 1930\t\n"
      ]
     },
     "execution_count": 48,
     "metadata": {},
     "output_type": "execute_result"
    },
    {
     "data": {
      "text/plain": [
       "getting 1301 to 1400 of 1930\t\n"
      ]
     },
     "execution_count": 48,
     "metadata": {},
     "output_type": "execute_result"
    },
    {
     "data": {
      "text/plain": [
       "getting 1401 to 1500 of 1930\t\n",
       "getting 1501 to 1600 of 1930\t\n"
      ]
     },
     "execution_count": 48,
     "metadata": {},
     "output_type": "execute_result"
    },
    {
     "data": {
      "text/plain": [
       "getting 1601 to 1700 of 1930\t\n",
       "getting 1701 to 1800 of 1930\t\n"
      ]
     },
     "execution_count": 48,
     "metadata": {},
     "output_type": "execute_result"
    },
    {
     "data": {
      "text/plain": [
       "getting 1801 to 1900 of 1930\t\n"
      ]
     },
     "execution_count": 48,
     "metadata": {},
     "output_type": "execute_result"
    },
    {
     "data": {
      "text/plain": [
       "getting 1901 to 1930 of 1930\t\n",
       "done.\t\n",
       "took 118.699346s\t\n",
       "training epoch 3\t\n",
       "training network\t\n",
       "getting 1 to 100 of 1930\t\n",
       "getting 101 to 200 of 1930\t\n"
      ]
     },
     "execution_count": 48,
     "metadata": {},
     "output_type": "execute_result"
    },
    {
     "data": {
      "text/plain": [
       "getting 201 to 300 of 1930\t\n"
      ]
     },
     "execution_count": 48,
     "metadata": {},
     "output_type": "execute_result"
    },
    {
     "data": {
      "text/plain": [
       "getting 301 to 400 of 1930\t\n"
      ]
     },
     "execution_count": 48,
     "metadata": {},
     "output_type": "execute_result"
    },
    {
     "data": {
      "text/plain": [
       "getting 401 to 500 of 1930\t\n"
      ]
     },
     "execution_count": 48,
     "metadata": {},
     "output_type": "execute_result"
    },
    {
     "data": {
      "text/plain": [
       "getting 501 to 600 of 1930\t\n"
      ]
     },
     "execution_count": 48,
     "metadata": {},
     "output_type": "execute_result"
    },
    {
     "data": {
      "text/plain": [
       "getting 601 to 700 of 1930\t\n",
       "getting 701 to 800 of 1930\t\n"
      ]
     },
     "execution_count": 48,
     "metadata": {},
     "output_type": "execute_result"
    },
    {
     "data": {
      "text/plain": [
       "getting 801 to 900 of 1930\t\n"
      ]
     },
     "execution_count": 48,
     "metadata": {},
     "output_type": "execute_result"
    },
    {
     "data": {
      "text/plain": [
       "getting 901 to 1000 of 1930\t\n",
       "getting 1001 to 1100 of 1930\t\n"
      ]
     },
     "execution_count": 48,
     "metadata": {},
     "output_type": "execute_result"
    },
    {
     "data": {
      "text/plain": [
       "getting 1101 to 1200 of 1930\t\n"
      ]
     },
     "execution_count": 48,
     "metadata": {},
     "output_type": "execute_result"
    },
    {
     "data": {
      "text/plain": [
       "getting 1201 to 1300 of 1930\t\n"
      ]
     },
     "execution_count": 48,
     "metadata": {},
     "output_type": "execute_result"
    },
    {
     "data": {
      "text/plain": [
       "getting 1301 to 1400 of 1930\t\n"
      ]
     },
     "execution_count": 48,
     "metadata": {},
     "output_type": "execute_result"
    },
    {
     "data": {
      "text/plain": [
       "getting 1401 to 1500 of 1930\t\n",
       "getting 1501 to 1600 of 1930\t\n"
      ]
     },
     "execution_count": 48,
     "metadata": {},
     "output_type": "execute_result"
    },
    {
     "data": {
      "text/plain": [
       "getting 1601 to 1700 of 1930\t\n",
       "getting 1701 to 1800 of 1930\t\n"
      ]
     },
     "execution_count": 48,
     "metadata": {},
     "output_type": "execute_result"
    },
    {
     "data": {
      "text/plain": [
       "getting 1801 to 1900 of 1930\t\n"
      ]
     },
     "execution_count": 48,
     "metadata": {},
     "output_type": "execute_result"
    },
    {
     "data": {
      "text/plain": [
       "getting 1901 to 1930 of 1930\t\n"
      ]
     },
     "execution_count": 48,
     "metadata": {},
     "output_type": "execute_result"
    },
    {
     "data": {
      "text/plain": [
       "done.\t\n",
       "took 117.440656s\t\n",
       "training epoch 4\t\n",
       "training network\t\n",
       "getting 1 to 100 of 1930\t\n",
       "getting 101 to 200 of 1930\t\n"
      ]
     },
     "execution_count": 48,
     "metadata": {},
     "output_type": "execute_result"
    },
    {
     "data": {
      "text/plain": [
       "getting 201 to 300 of 1930\t\n"
      ]
     },
     "execution_count": 48,
     "metadata": {},
     "output_type": "execute_result"
    },
    {
     "data": {
      "text/plain": [
       "getting 301 to 400 of 1930\t\n"
      ]
     },
     "execution_count": 48,
     "metadata": {},
     "output_type": "execute_result"
    },
    {
     "data": {
      "text/plain": [
       "getting 401 to 500 of 1930\t\n"
      ]
     },
     "execution_count": 48,
     "metadata": {},
     "output_type": "execute_result"
    },
    {
     "data": {
      "text/plain": [
       "getting 501 to 600 of 1930\t\n",
       "getting 601 to 700 of 1930\t\n"
      ]
     },
     "execution_count": 48,
     "metadata": {},
     "output_type": "execute_result"
    },
    {
     "data": {
      "text/plain": [
       "getting 701 to 800 of 1930\t\n",
       "getting 801 to 900 of 1930\t\n"
      ]
     },
     "execution_count": 48,
     "metadata": {},
     "output_type": "execute_result"
    },
    {
     "data": {
      "text/plain": [
       "getting 901 to 1000 of 1930\t\n"
      ]
     },
     "execution_count": 48,
     "metadata": {},
     "output_type": "execute_result"
    },
    {
     "data": {
      "text/plain": [
       "getting 1001 to 1100 of 1930\t\n"
      ]
     },
     "execution_count": 48,
     "metadata": {},
     "output_type": "execute_result"
    },
    {
     "data": {
      "text/plain": [
       "getting 1101 to 1200 of 1930\t\n"
      ]
     },
     "execution_count": 48,
     "metadata": {},
     "output_type": "execute_result"
    },
    {
     "data": {
      "text/plain": [
       "getting 1201 to 1300 of 1930\t\n"
      ]
     },
     "execution_count": 48,
     "metadata": {},
     "output_type": "execute_result"
    },
    {
     "data": {
      "text/plain": [
       "getting 1301 to 1400 of 1930\t\n"
      ]
     },
     "execution_count": 48,
     "metadata": {},
     "output_type": "execute_result"
    },
    {
     "data": {
      "text/plain": [
       "getting 1401 to 1500 of 1930\t\n"
      ]
     },
     "execution_count": 48,
     "metadata": {},
     "output_type": "execute_result"
    },
    {
     "data": {
      "text/plain": [
       "getting 1501 to 1600 of 1930\t\n"
      ]
     },
     "execution_count": 48,
     "metadata": {},
     "output_type": "execute_result"
    },
    {
     "data": {
      "text/plain": [
       "getting 1601 to 1700 of 1930\t\n"
      ]
     },
     "execution_count": 48,
     "metadata": {},
     "output_type": "execute_result"
    },
    {
     "data": {
      "text/plain": [
       "getting 1701 to 1800 of 1930\t\n",
       "getting 1801 to 1900 of 1930\t\n"
      ]
     },
     "execution_count": 48,
     "metadata": {},
     "output_type": "execute_result"
    },
    {
     "data": {
      "text/plain": [
       "getting 1901 to 1930 of 1930\t\n",
       "done.\t\n",
       "took 118.42717s\t\n"
      ]
     },
     "execution_count": 48,
     "metadata": {},
     "output_type": "execute_result"
    },
    {
     "data": {
      "text/plain": [
       "retrieving ../data/prepped_train_X_word2vec_wordvecs_6.h5\t\n"
      ]
     },
     "execution_count": 48,
     "metadata": {},
     "output_type": "execute_result"
    },
    {
     "data": {
      "text/plain": [
       "training epoch 1\t\n",
       "training network\t\n",
       "getting 1 to 100 of 1930\t\n",
       "getting 101 to 200 of 1930\t\n"
      ]
     },
     "execution_count": 48,
     "metadata": {},
     "output_type": "execute_result"
    },
    {
     "data": {
      "text/plain": [
       "getting 201 to 300 of 1930\t\n"
      ]
     },
     "execution_count": 48,
     "metadata": {},
     "output_type": "execute_result"
    },
    {
     "data": {
      "text/plain": [
       "getting 301 to 400 of 1930\t\n"
      ]
     },
     "execution_count": 48,
     "metadata": {},
     "output_type": "execute_result"
    },
    {
     "data": {
      "text/plain": [
       "getting 401 to 500 of 1930\t\n"
      ]
     },
     "execution_count": 48,
     "metadata": {},
     "output_type": "execute_result"
    },
    {
     "data": {
      "text/plain": [
       "getting 501 to 600 of 1930\t\n",
       "getting 601 to 700 of 1930\t\n"
      ]
     },
     "execution_count": 48,
     "metadata": {},
     "output_type": "execute_result"
    },
    {
     "data": {
      "text/plain": [
       "getting 701 to 800 of 1930\t\n"
      ]
     },
     "execution_count": 48,
     "metadata": {},
     "output_type": "execute_result"
    },
    {
     "data": {
      "text/plain": [
       "getting 801 to 900 of 1930\t\n"
      ]
     },
     "execution_count": 48,
     "metadata": {},
     "output_type": "execute_result"
    },
    {
     "data": {
      "text/plain": [
       "getting 901 to 1000 of 1930\t\n"
      ]
     },
     "execution_count": 48,
     "metadata": {},
     "output_type": "execute_result"
    },
    {
     "data": {
      "text/plain": [
       "getting 1001 to 1100 of 1930\t\n",
       "getting 1101 to 1200 of 1930\t\n"
      ]
     },
     "execution_count": 48,
     "metadata": {},
     "output_type": "execute_result"
    },
    {
     "data": {
      "text/plain": [
       "getting 1201 to 1300 of 1930\t\n"
      ]
     },
     "execution_count": 48,
     "metadata": {},
     "output_type": "execute_result"
    },
    {
     "data": {
      "text/plain": [
       "getting 1301 to 1400 of 1930\t\n"
      ]
     },
     "execution_count": 48,
     "metadata": {},
     "output_type": "execute_result"
    },
    {
     "data": {
      "text/plain": [
       "getting 1401 to 1500 of 1930\t\n"
      ]
     },
     "execution_count": 48,
     "metadata": {},
     "output_type": "execute_result"
    },
    {
     "data": {
      "text/plain": [
       "getting 1501 to 1600 of 1930\t\n"
      ]
     },
     "execution_count": 48,
     "metadata": {},
     "output_type": "execute_result"
    },
    {
     "data": {
      "text/plain": [
       "getting 1601 to 1700 of 1930\t\n",
       "getting 1701 to 1800 of 1930\t\n"
      ]
     },
     "execution_count": 48,
     "metadata": {},
     "output_type": "execute_result"
    },
    {
     "data": {
      "text/plain": [
       "getting 1801 to 1900 of 1930\t\n",
       "getting 1901 to 1930 of 1930\t\n",
       "done.\t\n",
       "took 119.025699s\t\n",
       "training epoch 2\t\n",
       "training network\t\n",
       "getting 1 to 100 of 1930\t\n"
      ]
     },
     "execution_count": 48,
     "metadata": {},
     "output_type": "execute_result"
    },
    {
     "data": {
      "text/plain": [
       "getting 101 to 200 of 1930\t\n"
      ]
     },
     "execution_count": 48,
     "metadata": {},
     "output_type": "execute_result"
    },
    {
     "data": {
      "text/plain": [
       "getting 201 to 300 of 1930\t\n",
       "getting 301 to 400 of 1930\t\n"
      ]
     },
     "execution_count": 48,
     "metadata": {},
     "output_type": "execute_result"
    },
    {
     "data": {
      "text/plain": [
       "getting 401 to 500 of 1930\t\n",
       "getting 501 to 600 of 1930\t\n"
      ]
     },
     "execution_count": 48,
     "metadata": {},
     "output_type": "execute_result"
    },
    {
     "data": {
      "text/plain": [
       "getting 601 to 700 of 1930\t\n",
       "getting 701 to 800 of 1930\t\n"
      ]
     },
     "execution_count": 48,
     "metadata": {},
     "output_type": "execute_result"
    },
    {
     "data": {
      "text/plain": [
       "getting 801 to 900 of 1930\t\n"
      ]
     },
     "execution_count": 48,
     "metadata": {},
     "output_type": "execute_result"
    },
    {
     "data": {
      "text/plain": [
       "getting 901 to 1000 of 1930\t\n",
       "getting 1001 to 1100 of 1930\t\n"
      ]
     },
     "execution_count": 48,
     "metadata": {},
     "output_type": "execute_result"
    },
    {
     "data": {
      "text/plain": [
       "getting 1101 to 1200 of 1930\t\n",
       "getting 1201 to 1300 of 1930\t\n"
      ]
     },
     "execution_count": 48,
     "metadata": {},
     "output_type": "execute_result"
    },
    {
     "data": {
      "text/plain": [
       "getting 1301 to 1400 of 1930\t\n"
      ]
     },
     "execution_count": 48,
     "metadata": {},
     "output_type": "execute_result"
    },
    {
     "data": {
      "text/plain": [
       "getting 1401 to 1500 of 1930\t\n"
      ]
     },
     "execution_count": 48,
     "metadata": {},
     "output_type": "execute_result"
    },
    {
     "data": {
      "text/plain": [
       "getting 1501 to 1600 of 1930\t\n"
      ]
     },
     "execution_count": 48,
     "metadata": {},
     "output_type": "execute_result"
    },
    {
     "data": {
      "text/plain": [
       "getting 1601 to 1700 of 1930\t\n"
      ]
     },
     "execution_count": 48,
     "metadata": {},
     "output_type": "execute_result"
    },
    {
     "data": {
      "text/plain": [
       "getting 1701 to 1800 of 1930\t\n"
      ]
     },
     "execution_count": 48,
     "metadata": {},
     "output_type": "execute_result"
    },
    {
     "data": {
      "text/plain": [
       "getting 1801 to 1900 of 1930\t\n"
      ]
     },
     "execution_count": 48,
     "metadata": {},
     "output_type": "execute_result"
    },
    {
     "data": {
      "text/plain": [
       "getting 1901 to 1930 of 1930\t\n"
      ]
     },
     "execution_count": 48,
     "metadata": {},
     "output_type": "execute_result"
    },
    {
     "data": {
      "text/plain": [
       "done.\t\n",
       "took 108.444421s\t\n",
       "training epoch 3\t\n"
      ]
     },
     "execution_count": 48,
     "metadata": {},
     "output_type": "execute_result"
    },
    {
     "data": {
      "text/plain": [
       "training network\t\n",
       "getting 1 to 100 of 1930\t\n"
      ]
     },
     "execution_count": 48,
     "metadata": {},
     "output_type": "execute_result"
    },
    {
     "data": {
      "text/plain": [
       "getting 101 to 200 of 1930\t\n"
      ]
     },
     "execution_count": 48,
     "metadata": {},
     "output_type": "execute_result"
    },
    {
     "data": {
      "text/plain": [
       "getting 201 to 300 of 1930\t\n"
      ]
     },
     "execution_count": 48,
     "metadata": {},
     "output_type": "execute_result"
    },
    {
     "data": {
      "text/plain": [
       "getting 301 to 400 of 1930\t\n",
       "getting 401 to 500 of 1930\t\n"
      ]
     },
     "execution_count": 48,
     "metadata": {},
     "output_type": "execute_result"
    },
    {
     "data": {
      "text/plain": [
       "getting 501 to 600 of 1930\t\n",
       "getting 601 to 700 of 1930\t\n"
      ]
     },
     "execution_count": 48,
     "metadata": {},
     "output_type": "execute_result"
    },
    {
     "data": {
      "text/plain": [
       "getting 701 to 800 of 1930\t\n"
      ]
     },
     "execution_count": 48,
     "metadata": {},
     "output_type": "execute_result"
    },
    {
     "data": {
      "text/plain": [
       "getting 801 to 900 of 1930\t\n",
       "getting 901 to 1000 of 1930\t\n"
      ]
     },
     "execution_count": 48,
     "metadata": {},
     "output_type": "execute_result"
    },
    {
     "data": {
      "text/plain": [
       "getting 1001 to 1100 of 1930\t\n",
       "getting 1101 to 1200 of 1930\t\n"
      ]
     },
     "execution_count": 48,
     "metadata": {},
     "output_type": "execute_result"
    },
    {
     "data": {
      "text/plain": [
       "getting 1201 to 1300 of 1930\t\n",
       "getting 1301 to 1400 of 1930\t\n"
      ]
     },
     "execution_count": 48,
     "metadata": {},
     "output_type": "execute_result"
    },
    {
     "data": {
      "text/plain": [
       "getting 1401 to 1500 of 1930\t\n"
      ]
     },
     "execution_count": 48,
     "metadata": {},
     "output_type": "execute_result"
    },
    {
     "data": {
      "text/plain": [
       "getting 1501 to 1600 of 1930\t\n"
      ]
     },
     "execution_count": 48,
     "metadata": {},
     "output_type": "execute_result"
    },
    {
     "data": {
      "text/plain": [
       "getting 1601 to 1700 of 1930\t\n",
       "getting 1701 to 1800 of 1930\t\n"
      ]
     },
     "execution_count": 48,
     "metadata": {},
     "output_type": "execute_result"
    },
    {
     "data": {
      "text/plain": [
       "getting 1801 to 1900 of 1930\t\n",
       "getting 1901 to 1930 of 1930\t\n"
      ]
     },
     "execution_count": 48,
     "metadata": {},
     "output_type": "execute_result"
    },
    {
     "data": {
      "text/plain": [
       "done.\t\n",
       "took 119.866915s\t\n",
       "training epoch 4\t\n",
       "training network\t\n",
       "getting 1 to 100 of 1930\t\n",
       "getting 101 to 200 of 1930\t\n"
      ]
     },
     "execution_count": 48,
     "metadata": {},
     "output_type": "execute_result"
    },
    {
     "data": {
      "text/plain": [
       "getting 201 to 300 of 1930\t\n",
       "getting 301 to 400 of 1930\t\n"
      ]
     },
     "execution_count": 48,
     "metadata": {},
     "output_type": "execute_result"
    },
    {
     "data": {
      "text/plain": [
       "getting 401 to 500 of 1930\t\n"
      ]
     },
     "execution_count": 48,
     "metadata": {},
     "output_type": "execute_result"
    },
    {
     "data": {
      "text/plain": [
       "getting 501 to 600 of 1930\t\n",
       "getting 601 to 700 of 1930\t\n"
      ]
     },
     "execution_count": 48,
     "metadata": {},
     "output_type": "execute_result"
    },
    {
     "data": {
      "text/plain": [
       "getting 701 to 800 of 1930\t\n",
       "getting 801 to 900 of 1930\t\n"
      ]
     },
     "execution_count": 48,
     "metadata": {},
     "output_type": "execute_result"
    },
    {
     "data": {
      "text/plain": [
       "getting 901 to 1000 of 1930\t\n",
       "getting 1001 to 1100 of 1930\t\n"
      ]
     },
     "execution_count": 48,
     "metadata": {},
     "output_type": "execute_result"
    },
    {
     "data": {
      "text/plain": [
       "getting 1101 to 1200 of 1930\t\n"
      ]
     },
     "execution_count": 48,
     "metadata": {},
     "output_type": "execute_result"
    },
    {
     "data": {
      "text/plain": [
       "getting 1201 to 1300 of 1930\t\n",
       "getting 1301 to 1400 of 1930\t\n"
      ]
     },
     "execution_count": 48,
     "metadata": {},
     "output_type": "execute_result"
    },
    {
     "data": {
      "text/plain": [
       "getting 1401 to 1500 of 1930\t\n",
       "getting 1501 to 1600 of 1930\t\n"
      ]
     },
     "execution_count": 48,
     "metadata": {},
     "output_type": "execute_result"
    },
    {
     "data": {
      "text/plain": [
       "getting 1601 to 1700 of 1930\t\n"
      ]
     },
     "execution_count": 48,
     "metadata": {},
     "output_type": "execute_result"
    },
    {
     "data": {
      "text/plain": [
       "getting 1701 to 1800 of 1930\t\n",
       "getting 1801 to 1900 of 1930\t\n"
      ]
     },
     "execution_count": 48,
     "metadata": {},
     "output_type": "execute_result"
    },
    {
     "data": {
      "text/plain": [
       "getting 1901 to 1930 of 1930\t\n",
       "done.\t\n",
       "took 123.545577s\t\n"
      ]
     },
     "execution_count": 48,
     "metadata": {},
     "output_type": "execute_result"
    },
    {
     "data": {
      "text/plain": [
       "retrieving ../data/prepped_train_X_word2vec_wordvecs_7.h5\t\n"
      ]
     },
     "execution_count": 48,
     "metadata": {},
     "output_type": "execute_result"
    },
    {
     "data": {
      "text/plain": [
       "training epoch 1\t\n",
       "training network\t\n",
       "getting 1 to 100 of 1930\t\n",
       "getting 101 to 200 of 1930\t\n"
      ]
     },
     "execution_count": 48,
     "metadata": {},
     "output_type": "execute_result"
    },
    {
     "data": {
      "text/plain": [
       "getting 201 to 300 of 1930\t\n",
       "getting 301 to 400 of 1930\t\n"
      ]
     },
     "execution_count": 48,
     "metadata": {},
     "output_type": "execute_result"
    },
    {
     "data": {
      "text/plain": [
       "getting 401 to 500 of 1930\t\n"
      ]
     },
     "execution_count": 48,
     "metadata": {},
     "output_type": "execute_result"
    },
    {
     "data": {
      "text/plain": [
       "getting 501 to 600 of 1930\t\n",
       "getting 601 to 700 of 1930\t\n"
      ]
     },
     "execution_count": 48,
     "metadata": {},
     "output_type": "execute_result"
    },
    {
     "data": {
      "text/plain": [
       "getting 701 to 800 of 1930\t\n",
       "getting 801 to 900 of 1930\t\n"
      ]
     },
     "execution_count": 48,
     "metadata": {},
     "output_type": "execute_result"
    },
    {
     "data": {
      "text/plain": [
       "getting 901 to 1000 of 1930\t\n",
       "getting 1001 to 1100 of 1930\t\n"
      ]
     },
     "execution_count": 48,
     "metadata": {},
     "output_type": "execute_result"
    },
    {
     "data": {
      "text/plain": [
       "getting 1101 to 1200 of 1930\t\n"
      ]
     },
     "execution_count": 48,
     "metadata": {},
     "output_type": "execute_result"
    },
    {
     "data": {
      "text/plain": [
       "getting 1201 to 1300 of 1930\t\n",
       "getting 1301 to 1400 of 1930\t\n"
      ]
     },
     "execution_count": 48,
     "metadata": {},
     "output_type": "execute_result"
    },
    {
     "data": {
      "text/plain": [
       "getting 1401 to 1500 of 1930\t\n",
       "getting 1501 to 1600 of 1930\t\n"
      ]
     },
     "execution_count": 48,
     "metadata": {},
     "output_type": "execute_result"
    },
    {
     "data": {
      "text/plain": [
       "getting 1601 to 1700 of 1930\t\n"
      ]
     },
     "execution_count": 48,
     "metadata": {},
     "output_type": "execute_result"
    },
    {
     "data": {
      "text/plain": [
       "getting 1701 to 1800 of 1930\t\n",
       "getting 1801 to 1900 of 1930\t\n"
      ]
     },
     "execution_count": 48,
     "metadata": {},
     "output_type": "execute_result"
    },
    {
     "data": {
      "text/plain": [
       "getting 1901 to 1930 of 1930\t\n",
       "done.\t\n",
       "took 122.890552s\t\n",
       "training epoch 2\t\n",
       "training network\t\n",
       "getting 1 to 100 of 1930\t\n",
       "getting 101 to 200 of 1930\t\n"
      ]
     },
     "execution_count": 48,
     "metadata": {},
     "output_type": "execute_result"
    },
    {
     "data": {
      "text/plain": [
       "getting 201 to 300 of 1930\t\n"
      ]
     },
     "execution_count": 48,
     "metadata": {},
     "output_type": "execute_result"
    },
    {
     "data": {
      "text/plain": [
       "getting 301 to 400 of 1930\t\n",
       "getting 401 to 500 of 1930\t\n"
      ]
     },
     "execution_count": 48,
     "metadata": {},
     "output_type": "execute_result"
    },
    {
     "data": {
      "text/plain": [
       "getting 501 to 600 of 1930\t\n",
       "getting 601 to 700 of 1930\t\n"
      ]
     },
     "execution_count": 48,
     "metadata": {},
     "output_type": "execute_result"
    },
    {
     "data": {
      "text/plain": [
       "getting 701 to 800 of 1930\t\n",
       "getting 801 to 900 of 1930\t\n"
      ]
     },
     "execution_count": 48,
     "metadata": {},
     "output_type": "execute_result"
    },
    {
     "data": {
      "text/plain": [
       "getting 901 to 1000 of 1930\t\n"
      ]
     },
     "execution_count": 48,
     "metadata": {},
     "output_type": "execute_result"
    },
    {
     "data": {
      "text/plain": [
       "getting 1001 to 1100 of 1930\t\n",
       "getting 1101 to 1200 of 1930\t\n"
      ]
     },
     "execution_count": 48,
     "metadata": {},
     "output_type": "execute_result"
    },
    {
     "data": {
      "text/plain": [
       "getting 1201 to 1300 of 1930\t\n",
       "getting 1301 to 1400 of 1930\t\n"
      ]
     },
     "execution_count": 48,
     "metadata": {},
     "output_type": "execute_result"
    },
    {
     "data": {
      "text/plain": [
       "getting 1401 to 1500 of 1930\t\n"
      ]
     },
     "execution_count": 48,
     "metadata": {},
     "output_type": "execute_result"
    },
    {
     "data": {
      "text/plain": [
       "getting 1501 to 1600 of 1930\t\n",
       "getting 1601 to 1700 of 1930\t\n"
      ]
     },
     "execution_count": 48,
     "metadata": {},
     "output_type": "execute_result"
    },
    {
     "data": {
      "text/plain": [
       "getting 1701 to 1800 of 1930\t\n",
       "getting 1801 to 1900 of 1930\t\n"
      ]
     },
     "execution_count": 48,
     "metadata": {},
     "output_type": "execute_result"
    },
    {
     "data": {
      "text/plain": [
       "getting 1901 to 1930 of 1930\t\n",
       "done.\t\n",
       "took 122.145298s\t\n",
       "training epoch 3\t\n",
       "training network\t\n",
       "getting 1 to 100 of 1930\t\n"
      ]
     },
     "execution_count": 48,
     "metadata": {},
     "output_type": "execute_result"
    },
    {
     "data": {
      "text/plain": [
       "getting 101 to 200 of 1930\t\n",
       "getting 201 to 300 of 1930\t\n"
      ]
     },
     "execution_count": 48,
     "metadata": {},
     "output_type": "execute_result"
    },
    {
     "data": {
      "text/plain": [
       "getting 301 to 400 of 1930\t\n",
       "getting 401 to 500 of 1930\t\n"
      ]
     },
     "execution_count": 48,
     "metadata": {},
     "output_type": "execute_result"
    },
    {
     "data": {
      "text/plain": [
       "getting 501 to 600 of 1930\t\n"
      ]
     },
     "execution_count": 48,
     "metadata": {},
     "output_type": "execute_result"
    },
    {
     "data": {
      "text/plain": [
       "getting 601 to 700 of 1930\t\n",
       "getting 701 to 800 of 1930\t\n"
      ]
     },
     "execution_count": 48,
     "metadata": {},
     "output_type": "execute_result"
    },
    {
     "data": {
      "text/plain": [
       "getting 801 to 900 of 1930\t\n"
      ]
     },
     "execution_count": 48,
     "metadata": {},
     "output_type": "execute_result"
    },
    {
     "data": {
      "text/plain": [
       "getting 901 to 1000 of 1930\t\n"
      ]
     },
     "execution_count": 48,
     "metadata": {},
     "output_type": "execute_result"
    },
    {
     "data": {
      "text/plain": [
       "getting 1001 to 1100 of 1930\t\n",
       "getting 1101 to 1200 of 1930\t\n"
      ]
     },
     "execution_count": 48,
     "metadata": {},
     "output_type": "execute_result"
    },
    {
     "data": {
      "text/plain": [
       "getting 1201 to 1300 of 1930\t\n",
       "getting 1301 to 1400 of 1930\t\n"
      ]
     },
     "execution_count": 48,
     "metadata": {},
     "output_type": "execute_result"
    },
    {
     "data": {
      "text/plain": [
       "getting 1401 to 1500 of 1930\t\n"
      ]
     },
     "execution_count": 48,
     "metadata": {},
     "output_type": "execute_result"
    },
    {
     "data": {
      "text/plain": [
       "getting 1501 to 1600 of 1930\t\n",
       "getting 1601 to 1700 of 1930\t\n"
      ]
     },
     "execution_count": 48,
     "metadata": {},
     "output_type": "execute_result"
    },
    {
     "data": {
      "text/plain": [
       "getting 1701 to 1800 of 1930\t\n"
      ]
     },
     "execution_count": 48,
     "metadata": {},
     "output_type": "execute_result"
    },
    {
     "data": {
      "text/plain": [
       "getting 1801 to 1900 of 1930\t\n",
       "getting 1901 to 1930 of 1930\t\n",
       "done.\t\n",
       "took 122.560738s\t\n",
       "training epoch 4\t\n",
       "training network\t\n",
       "getting 1 to 100 of 1930\t\n"
      ]
     },
     "execution_count": 48,
     "metadata": {},
     "output_type": "execute_result"
    },
    {
     "data": {
      "text/plain": [
       "getting 101 to 200 of 1930\t\n"
      ]
     },
     "execution_count": 48,
     "metadata": {},
     "output_type": "execute_result"
    },
    {
     "data": {
      "text/plain": [
       "getting 201 to 300 of 1930\t\n",
       "getting 301 to 400 of 1930\t\n"
      ]
     },
     "execution_count": 48,
     "metadata": {},
     "output_type": "execute_result"
    },
    {
     "data": {
      "text/plain": [
       "getting 401 to 500 of 1930\t\n",
       "getting 501 to 600 of 1930\t\n"
      ]
     },
     "execution_count": 48,
     "metadata": {},
     "output_type": "execute_result"
    },
    {
     "data": {
      "text/plain": [
       "getting 601 to 700 of 1930\t\n",
       "getting 701 to 800 of 1930\t\n"
      ]
     },
     "execution_count": 48,
     "metadata": {},
     "output_type": "execute_result"
    },
    {
     "data": {
      "text/plain": [
       "getting 801 to 900 of 1930\t\n"
      ]
     },
     "execution_count": 48,
     "metadata": {},
     "output_type": "execute_result"
    },
    {
     "data": {
      "text/plain": [
       "getting 901 to 1000 of 1930\t\n",
       "getting 1001 to 1100 of 1930\t\n"
      ]
     },
     "execution_count": 48,
     "metadata": {},
     "output_type": "execute_result"
    },
    {
     "data": {
      "text/plain": [
       "getting 1101 to 1200 of 1930\t\n",
       "getting 1201 to 1300 of 1930\t\n"
      ]
     },
     "execution_count": 48,
     "metadata": {},
     "output_type": "execute_result"
    },
    {
     "data": {
      "text/plain": [
       "getting 1301 to 1400 of 1930\t\n"
      ]
     },
     "execution_count": 48,
     "metadata": {},
     "output_type": "execute_result"
    },
    {
     "data": {
      "text/plain": [
       "getting 1401 to 1500 of 1930\t\n",
       "getting 1501 to 1600 of 1930\t\n"
      ]
     },
     "execution_count": 48,
     "metadata": {},
     "output_type": "execute_result"
    },
    {
     "data": {
      "text/plain": [
       "getting 1601 to 1700 of 1930\t\n",
       "getting 1701 to 1800 of 1930\t\n"
      ]
     },
     "execution_count": 48,
     "metadata": {},
     "output_type": "execute_result"
    },
    {
     "data": {
      "text/plain": [
       "getting 1801 to 1900 of 1930\t\n",
       "getting 1901 to 1930 of 1930\t\n"
      ]
     },
     "execution_count": 48,
     "metadata": {},
     "output_type": "execute_result"
    },
    {
     "data": {
      "text/plain": [
       "done.\t\n",
       "took 123.279024s\t\n",
       "retrieving ../data/prepped_train_X_word2vec_wordvecs_8.h5\t\n"
      ]
     },
     "execution_count": 48,
     "metadata": {},
     "output_type": "execute_result"
    },
    {
     "data": {
      "text/plain": [
       "training epoch 1\t\n",
       "training network\t\n",
       "getting 1 to 100 of 1930\t\n"
      ]
     },
     "execution_count": 48,
     "metadata": {},
     "output_type": "execute_result"
    },
    {
     "data": {
      "text/plain": [
       "getting 101 to 200 of 1930\t\n",
       "getting 201 to 300 of 1930\t\n"
      ]
     },
     "execution_count": 48,
     "metadata": {},
     "output_type": "execute_result"
    },
    {
     "data": {
      "text/plain": [
       "getting 301 to 400 of 1930\t\n",
       "getting 401 to 500 of 1930\t\n"
      ]
     },
     "execution_count": 48,
     "metadata": {},
     "output_type": "execute_result"
    },
    {
     "data": {
      "text/plain": [
       "getting 501 to 600 of 1930\t\n"
      ]
     },
     "execution_count": 48,
     "metadata": {},
     "output_type": "execute_result"
    },
    {
     "data": {
      "text/plain": [
       "getting 601 to 700 of 1930\t\n",
       "getting 701 to 800 of 1930\t\n"
      ]
     },
     "execution_count": 48,
     "metadata": {},
     "output_type": "execute_result"
    },
    {
     "data": {
      "text/plain": [
       "getting 801 to 900 of 1930\t\n",
       "getting 901 to 1000 of 1930\t\n"
      ]
     },
     "execution_count": 48,
     "metadata": {},
     "output_type": "execute_result"
    },
    {
     "data": {
      "text/plain": [
       "getting 1001 to 1100 of 1930\t\n"
      ]
     },
     "execution_count": 48,
     "metadata": {},
     "output_type": "execute_result"
    },
    {
     "data": {
      "text/plain": [
       "getting 1101 to 1200 of 1930\t\n",
       "getting 1201 to 1300 of 1930\t\n"
      ]
     },
     "execution_count": 48,
     "metadata": {},
     "output_type": "execute_result"
    },
    {
     "data": {
      "text/plain": [
       "getting 1301 to 1400 of 1930\t\n",
       "getting 1401 to 1500 of 1930\t\n"
      ]
     },
     "execution_count": 48,
     "metadata": {},
     "output_type": "execute_result"
    },
    {
     "data": {
      "text/plain": [
       "getting 1501 to 1600 of 1930\t\n"
      ]
     },
     "execution_count": 48,
     "metadata": {},
     "output_type": "execute_result"
    },
    {
     "data": {
      "text/plain": [
       "getting 1601 to 1700 of 1930\t\n",
       "getting 1701 to 1800 of 1930\t\n"
      ]
     },
     "execution_count": 48,
     "metadata": {},
     "output_type": "execute_result"
    },
    {
     "data": {
      "text/plain": [
       "getting 1801 to 1900 of 1930\t\n",
       "getting 1901 to 1930 of 1930\t\n"
      ]
     },
     "execution_count": 48,
     "metadata": {},
     "output_type": "execute_result"
    },
    {
     "data": {
      "text/plain": [
       "done.\t\n",
       "took 123.152931s\t\n",
       "training epoch 2\t\n",
       "training network\t\n",
       "getting 1 to 100 of 1930\t\n",
       "getting 101 to 200 of 1930\t\n"
      ]
     },
     "execution_count": 48,
     "metadata": {},
     "output_type": "execute_result"
    },
    {
     "data": {
      "text/plain": [
       "getting 201 to 300 of 1930\t\n",
       "getting 301 to 400 of 1930\t\n"
      ]
     },
     "execution_count": 48,
     "metadata": {},
     "output_type": "execute_result"
    },
    {
     "data": {
      "text/plain": [
       "getting 401 to 500 of 1930\t\n",
       "getting 501 to 600 of 1930\t\n"
      ]
     },
     "execution_count": 48,
     "metadata": {},
     "output_type": "execute_result"
    },
    {
     "data": {
      "text/plain": [
       "getting 601 to 700 of 1930\t\n",
       "getting 701 to 800 of 1930\t\n"
      ]
     },
     "execution_count": 48,
     "metadata": {},
     "output_type": "execute_result"
    },
    {
     "data": {
      "text/plain": [
       "getting 801 to 900 of 1930\t\n"
      ]
     },
     "execution_count": 48,
     "metadata": {},
     "output_type": "execute_result"
    },
    {
     "data": {
      "text/plain": [
       "getting 901 to 1000 of 1930\t\n",
       "getting 1001 to 1100 of 1930\t\n"
      ]
     },
     "execution_count": 48,
     "metadata": {},
     "output_type": "execute_result"
    },
    {
     "data": {
      "text/plain": [
       "getting 1101 to 1200 of 1930\t\n",
       "getting 1201 to 1300 of 1930\t\n"
      ]
     },
     "execution_count": 48,
     "metadata": {},
     "output_type": "execute_result"
    },
    {
     "data": {
      "text/plain": [
       "getting 1301 to 1400 of 1930\t\n"
      ]
     },
     "execution_count": 48,
     "metadata": {},
     "output_type": "execute_result"
    },
    {
     "data": {
      "text/plain": [
       "getting 1401 to 1500 of 1930\t\n",
       "getting 1501 to 1600 of 1930\t\n"
      ]
     },
     "execution_count": 48,
     "metadata": {},
     "output_type": "execute_result"
    },
    {
     "data": {
      "text/plain": [
       "getting 1601 to 1700 of 1930\t\n",
       "getting 1701 to 1800 of 1930\t\n"
      ]
     },
     "execution_count": 48,
     "metadata": {},
     "output_type": "execute_result"
    },
    {
     "data": {
      "text/plain": [
       "getting 1801 to 1900 of 1930\t\n",
       "getting 1901 to 1930 of 1930\t\n"
      ]
     },
     "execution_count": 48,
     "metadata": {},
     "output_type": "execute_result"
    },
    {
     "data": {
      "text/plain": [
       "done.\t\n",
       "took 121.874614s\t\n",
       "training epoch 3\t\n",
       "training network\t\n",
       "getting 1 to 100 of 1930\t\n",
       "getting 101 to 200 of 1930\t\n"
      ]
     },
     "execution_count": 48,
     "metadata": {},
     "output_type": "execute_result"
    },
    {
     "data": {
      "text/plain": [
       "getting 201 to 300 of 1930\t\n",
       "getting 301 to 400 of 1930\t\n"
      ]
     },
     "execution_count": 48,
     "metadata": {},
     "output_type": "execute_result"
    },
    {
     "data": {
      "text/plain": [
       "getting 401 to 500 of 1930\t\n",
       "getting 501 to 600 of 1930\t\n"
      ]
     },
     "execution_count": 48,
     "metadata": {},
     "output_type": "execute_result"
    },
    {
     "data": {
      "text/plain": [
       "getting 601 to 700 of 1930\t\n"
      ]
     },
     "execution_count": 48,
     "metadata": {},
     "output_type": "execute_result"
    },
    {
     "data": {
      "text/plain": [
       "getting 701 to 800 of 1930\t\n",
       "getting 801 to 900 of 1930\t\n"
      ]
     },
     "execution_count": 48,
     "metadata": {},
     "output_type": "execute_result"
    },
    {
     "data": {
      "text/plain": [
       "getting 901 to 1000 of 1930\t\n",
       "getting 1001 to 1100 of 1930\t\n"
      ]
     },
     "execution_count": 48,
     "metadata": {},
     "output_type": "execute_result"
    },
    {
     "data": {
      "text/plain": [
       "getting 1101 to 1200 of 1930\t\n",
       "getting 1201 to 1300 of 1930\t\n"
      ]
     },
     "execution_count": 48,
     "metadata": {},
     "output_type": "execute_result"
    },
    {
     "data": {
      "text/plain": [
       "getting 1301 to 1400 of 1930\t\n"
      ]
     },
     "execution_count": 48,
     "metadata": {},
     "output_type": "execute_result"
    },
    {
     "data": {
      "text/plain": [
       "getting 1401 to 1500 of 1930\t\n",
       "getting 1501 to 1600 of 1930\t\n"
      ]
     },
     "execution_count": 48,
     "metadata": {},
     "output_type": "execute_result"
    },
    {
     "data": {
      "text/plain": [
       "getting 1601 to 1700 of 1930\t\n",
       "getting 1701 to 1800 of 1930\t\n"
      ]
     },
     "execution_count": 48,
     "metadata": {},
     "output_type": "execute_result"
    },
    {
     "data": {
      "text/plain": [
       "getting 1801 to 1900 of 1930\t\n",
       "getting 1901 to 1930 of 1930\t\n",
       "done.\t\n",
       "took 120.217483s\t\n",
       "training epoch 4\t\n",
       "training network\t\n",
       "getting 1 to 100 of 1930\t\n"
      ]
     },
     "execution_count": 48,
     "metadata": {},
     "output_type": "execute_result"
    },
    {
     "data": {
      "text/plain": [
       "getting 101 to 200 of 1930\t\n"
      ]
     },
     "execution_count": 48,
     "metadata": {},
     "output_type": "execute_result"
    },
    {
     "data": {
      "text/plain": [
       "getting 201 to 300 of 1930\t\n",
       "getting 301 to 400 of 1930\t\n"
      ]
     },
     "execution_count": 48,
     "metadata": {},
     "output_type": "execute_result"
    },
    {
     "data": {
      "text/plain": [
       "getting 401 to 500 of 1930\t\n",
       "getting 501 to 600 of 1930\t\n"
      ]
     },
     "execution_count": 48,
     "metadata": {},
     "output_type": "execute_result"
    },
    {
     "data": {
      "text/plain": [
       "getting 601 to 700 of 1930\t\n",
       "getting 701 to 800 of 1930\t\n"
      ]
     },
     "execution_count": 48,
     "metadata": {},
     "output_type": "execute_result"
    },
    {
     "data": {
      "text/plain": [
       "getting 801 to 900 of 1930\t\n"
      ]
     },
     "execution_count": 48,
     "metadata": {},
     "output_type": "execute_result"
    },
    {
     "data": {
      "text/plain": [
       "getting 901 to 1000 of 1930\t\n",
       "getting 1001 to 1100 of 1930\t\n"
      ]
     },
     "execution_count": 48,
     "metadata": {},
     "output_type": "execute_result"
    },
    {
     "data": {
      "text/plain": [
       "getting 1101 to 1200 of 1930\t\n"
      ]
     },
     "execution_count": 48,
     "metadata": {},
     "output_type": "execute_result"
    },
    {
     "data": {
      "text/plain": [
       "getting 1201 to 1300 of 1930\t\n"
      ]
     },
     "execution_count": 48,
     "metadata": {},
     "output_type": "execute_result"
    },
    {
     "data": {
      "text/plain": [
       "getting 1301 to 1400 of 1930\t\n"
      ]
     },
     "execution_count": 48,
     "metadata": {},
     "output_type": "execute_result"
    },
    {
     "data": {
      "text/plain": [
       "getting 1401 to 1500 of 1930\t\n",
       "getting 1501 to 1600 of 1930\t\n"
      ]
     },
     "execution_count": 48,
     "metadata": {},
     "output_type": "execute_result"
    },
    {
     "data": {
      "text/plain": [
       "getting 1601 to 1700 of 1930\t\n"
      ]
     },
     "execution_count": 48,
     "metadata": {},
     "output_type": "execute_result"
    },
    {
     "data": {
      "text/plain": [
       "getting 1701 to 1800 of 1930\t\n"
      ]
     },
     "execution_count": 48,
     "metadata": {},
     "output_type": "execute_result"
    },
    {
     "data": {
      "text/plain": [
       "getting 1801 to 1900 of 1930\t\n",
       "getting 1901 to 1930 of 1930\t\n"
      ]
     },
     "execution_count": 48,
     "metadata": {},
     "output_type": "execute_result"
    },
    {
     "data": {
      "text/plain": [
       "done.\t\n",
       "took 116.171745s\t\n",
       "retrieving ../data/prepped_train_X_word2vec_wordvecs_9.h5\t\n"
      ]
     },
     "execution_count": 48,
     "metadata": {},
     "output_type": "execute_result"
    },
    {
     "data": {
      "text/plain": [
       "training epoch 1\t\n",
       "training network\t\n",
       "getting 1 to 100 of 1930\t\n"
      ]
     },
     "execution_count": 48,
     "metadata": {},
     "output_type": "execute_result"
    },
    {
     "data": {
      "text/plain": [
       "getting 101 to 200 of 1930\t\n",
       "getting 201 to 300 of 1930\t\n"
      ]
     },
     "execution_count": 48,
     "metadata": {},
     "output_type": "execute_result"
    },
    {
     "data": {
      "text/plain": [
       "getting 301 to 400 of 1930\t\n"
      ]
     },
     "execution_count": 48,
     "metadata": {},
     "output_type": "execute_result"
    },
    {
     "data": {
      "text/plain": [
       "getting 401 to 500 of 1930\t\n",
       "getting 501 to 600 of 1930\t\n"
      ]
     },
     "execution_count": 48,
     "metadata": {},
     "output_type": "execute_result"
    },
    {
     "data": {
      "text/plain": [
       "getting 601 to 700 of 1930\t\n",
       "getting 701 to 800 of 1930\t\n"
      ]
     },
     "execution_count": 48,
     "metadata": {},
     "output_type": "execute_result"
    },
    {
     "data": {
      "text/plain": [
       "getting 801 to 900 of 1930\t\n"
      ]
     },
     "execution_count": 48,
     "metadata": {},
     "output_type": "execute_result"
    },
    {
     "data": {
      "text/plain": [
       "getting 901 to 1000 of 1930\t\n",
       "getting 1001 to 1100 of 1930\t\n"
      ]
     },
     "execution_count": 48,
     "metadata": {},
     "output_type": "execute_result"
    },
    {
     "data": {
      "text/plain": [
       "getting 1101 to 1200 of 1930\t\n",
       "getting 1201 to 1300 of 1930\t\n"
      ]
     },
     "execution_count": 48,
     "metadata": {},
     "output_type": "execute_result"
    },
    {
     "data": {
      "text/plain": [
       "getting 1301 to 1400 of 1930\t\n"
      ]
     },
     "execution_count": 48,
     "metadata": {},
     "output_type": "execute_result"
    },
    {
     "data": {
      "text/plain": [
       "getting 1401 to 1500 of 1930\t\n",
       "getting 1501 to 1600 of 1930\t\n"
      ]
     },
     "execution_count": 48,
     "metadata": {},
     "output_type": "execute_result"
    },
    {
     "data": {
      "text/plain": [
       "getting 1601 to 1700 of 1930\t\n",
       "getting 1701 to 1800 of 1930\t\n"
      ]
     },
     "execution_count": 48,
     "metadata": {},
     "output_type": "execute_result"
    },
    {
     "data": {
      "text/plain": [
       "getting 1801 to 1900 of 1930\t\n"
      ]
     },
     "execution_count": 48,
     "metadata": {},
     "output_type": "execute_result"
    },
    {
     "data": {
      "text/plain": [
       "getting 1901 to 1930 of 1930\t\n",
       "done.\t\n",
       "took 124.9816s\t\n",
       "training epoch 2\t\n",
       "training network\t\n",
       "getting 1 to 100 of 1930\t\n",
       "getting 101 to 200 of 1930\t\n"
      ]
     },
     "execution_count": 48,
     "metadata": {},
     "output_type": "execute_result"
    },
    {
     "data": {
      "text/plain": [
       "getting 201 to 300 of 1930\t\n"
      ]
     },
     "execution_count": 48,
     "metadata": {},
     "output_type": "execute_result"
    },
    {
     "data": {
      "text/plain": [
       "getting 301 to 400 of 1930\t\n",
       "getting 401 to 500 of 1930\t\n"
      ]
     },
     "execution_count": 48,
     "metadata": {},
     "output_type": "execute_result"
    },
    {
     "data": {
      "text/plain": [
       "getting 501 to 600 of 1930\t\n",
       "getting 601 to 700 of 1930\t\n"
      ]
     },
     "execution_count": 48,
     "metadata": {},
     "output_type": "execute_result"
    },
    {
     "data": {
      "text/plain": [
       "getting 701 to 800 of 1930\t\n",
       "getting 801 to 900 of 1930\t\n"
      ]
     },
     "execution_count": 48,
     "metadata": {},
     "output_type": "execute_result"
    },
    {
     "data": {
      "text/plain": [
       "getting 901 to 1000 of 1930\t\n"
      ]
     },
     "execution_count": 48,
     "metadata": {},
     "output_type": "execute_result"
    },
    {
     "data": {
      "text/plain": [
       "getting 1001 to 1100 of 1930\t\n",
       "getting 1101 to 1200 of 1930\t\n"
      ]
     },
     "execution_count": 48,
     "metadata": {},
     "output_type": "execute_result"
    },
    {
     "data": {
      "text/plain": [
       "getting 1201 to 1300 of 1930\t\n",
       "getting 1301 to 1400 of 1930\t\n"
      ]
     },
     "execution_count": 48,
     "metadata": {},
     "output_type": "execute_result"
    },
    {
     "data": {
      "text/plain": [
       "getting 1401 to 1500 of 1930\t\n"
      ]
     },
     "execution_count": 48,
     "metadata": {},
     "output_type": "execute_result"
    },
    {
     "data": {
      "text/plain": [
       "getting 1501 to 1600 of 1930\t\n",
       "getting 1601 to 1700 of 1930\t\n"
      ]
     },
     "execution_count": 48,
     "metadata": {},
     "output_type": "execute_result"
    },
    {
     "data": {
      "text/plain": [
       "getting 1701 to 1800 of 1930\t\n",
       "getting 1801 to 1900 of 1930\t\n"
      ]
     },
     "execution_count": 48,
     "metadata": {},
     "output_type": "execute_result"
    },
    {
     "data": {
      "text/plain": [
       "getting 1901 to 1930 of 1930\t\n",
       "done.\t\n",
       "took 122.888594s\t\n",
       "training epoch 3\t\n",
       "training network\t\n",
       "getting 1 to 100 of 1930\t\n"
      ]
     },
     "execution_count": 48,
     "metadata": {},
     "output_type": "execute_result"
    },
    {
     "data": {
      "text/plain": [
       "getting 101 to 200 of 1930\t\n",
       "getting 201 to 300 of 1930\t\n"
      ]
     },
     "execution_count": 48,
     "metadata": {},
     "output_type": "execute_result"
    },
    {
     "data": {
      "text/plain": [
       "getting 301 to 400 of 1930\t\n"
      ]
     },
     "execution_count": 48,
     "metadata": {},
     "output_type": "execute_result"
    },
    {
     "data": {
      "text/plain": [
       "getting 401 to 500 of 1930\t\n",
       "getting 501 to 600 of 1930\t\n"
      ]
     },
     "execution_count": 48,
     "metadata": {},
     "output_type": "execute_result"
    },
    {
     "data": {
      "text/plain": [
       "getting 601 to 700 of 1930\t\n",
       "getting 701 to 800 of 1930\t\n"
      ]
     },
     "execution_count": 48,
     "metadata": {},
     "output_type": "execute_result"
    },
    {
     "data": {
      "text/plain": [
       "getting 801 to 900 of 1930\t\n"
      ]
     },
     "execution_count": 48,
     "metadata": {},
     "output_type": "execute_result"
    },
    {
     "data": {
      "text/plain": [
       "getting 901 to 1000 of 1930\t\n"
      ]
     },
     "execution_count": 48,
     "metadata": {},
     "output_type": "execute_result"
    },
    {
     "data": {
      "text/plain": [
       "getting 1001 to 1100 of 1930\t\n"
      ]
     },
     "execution_count": 48,
     "metadata": {},
     "output_type": "execute_result"
    },
    {
     "data": {
      "text/plain": [
       "getting 1101 to 1200 of 1930\t\n"
      ]
     },
     "execution_count": 48,
     "metadata": {},
     "output_type": "execute_result"
    },
    {
     "data": {
      "text/plain": [
       "getting 1201 to 1300 of 1930\t\n"
      ]
     },
     "execution_count": 48,
     "metadata": {},
     "output_type": "execute_result"
    },
    {
     "data": {
      "text/plain": [
       "getting 1301 to 1400 of 1930\t\n"
      ]
     },
     "execution_count": 48,
     "metadata": {},
     "output_type": "execute_result"
    },
    {
     "data": {
      "text/plain": [
       "getting 1401 to 1500 of 1930\t\n"
      ]
     },
     "execution_count": 48,
     "metadata": {},
     "output_type": "execute_result"
    },
    {
     "data": {
      "text/plain": [
       "getting 1501 to 1600 of 1930\t\n"
      ]
     },
     "execution_count": 48,
     "metadata": {},
     "output_type": "execute_result"
    },
    {
     "data": {
      "text/plain": [
       "getting 1601 to 1700 of 1930\t\n",
       "getting 1701 to 1800 of 1930\t\n"
      ]
     },
     "execution_count": 48,
     "metadata": {},
     "output_type": "execute_result"
    },
    {
     "data": {
      "text/plain": [
       "getting 1801 to 1900 of 1930\t\n"
      ]
     },
     "execution_count": 48,
     "metadata": {},
     "output_type": "execute_result"
    },
    {
     "data": {
      "text/plain": [
       "getting 1901 to 1930 of 1930\t\n",
       "done.\t\n",
       "took 114.566029s\t\n",
       "training epoch 4\t\n",
       "training network\t\n",
       "getting 1 to 100 of 1930\t\n"
      ]
     },
     "execution_count": 48,
     "metadata": {},
     "output_type": "execute_result"
    },
    {
     "data": {
      "text/plain": [
       "getting 101 to 200 of 1930\t\n"
      ]
     },
     "execution_count": 48,
     "metadata": {},
     "output_type": "execute_result"
    },
    {
     "data": {
      "text/plain": [
       "getting 201 to 300 of 1930\t\n",
       "getting 301 to 400 of 1930\t\n"
      ]
     },
     "execution_count": 48,
     "metadata": {},
     "output_type": "execute_result"
    },
    {
     "data": {
      "text/plain": [
       "getting 401 to 500 of 1930\t\n"
      ]
     },
     "execution_count": 48,
     "metadata": {},
     "output_type": "execute_result"
    },
    {
     "data": {
      "text/plain": [
       "getting 501 to 600 of 1930\t\n",
       "getting 601 to 700 of 1930\t\n"
      ]
     },
     "execution_count": 48,
     "metadata": {},
     "output_type": "execute_result"
    },
    {
     "data": {
      "text/plain": [
       "getting 701 to 800 of 1930\t\n",
       "getting 801 to 900 of 1930\t\n"
      ]
     },
     "execution_count": 48,
     "metadata": {},
     "output_type": "execute_result"
    },
    {
     "data": {
      "text/plain": [
       "getting 901 to 1000 of 1930\t\n",
       "getting 1001 to 1100 of 1930\t\n"
      ]
     },
     "execution_count": 48,
     "metadata": {},
     "output_type": "execute_result"
    },
    {
     "data": {
      "text/plain": [
       "getting 1101 to 1200 of 1930\t\n"
      ]
     },
     "execution_count": 48,
     "metadata": {},
     "output_type": "execute_result"
    },
    {
     "data": {
      "text/plain": [
       "getting 1201 to 1300 of 1930\t\n",
       "getting 1301 to 1400 of 1930\t\n"
      ]
     },
     "execution_count": 48,
     "metadata": {},
     "output_type": "execute_result"
    },
    {
     "data": {
      "text/plain": [
       "getting 1401 to 1500 of 1930\t\n",
       "getting 1501 to 1600 of 1930\t\n"
      ]
     },
     "execution_count": 48,
     "metadata": {},
     "output_type": "execute_result"
    },
    {
     "data": {
      "text/plain": [
       "getting 1601 to 1700 of 1930\t\n"
      ]
     },
     "execution_count": 48,
     "metadata": {},
     "output_type": "execute_result"
    },
    {
     "data": {
      "text/plain": [
       "getting 1701 to 1800 of 1930\t\n",
       "getting 1801 to 1900 of 1930\t\n"
      ]
     },
     "execution_count": 48,
     "metadata": {},
     "output_type": "execute_result"
    },
    {
     "data": {
      "text/plain": [
       "getting 1901 to 1930 of 1930\t\n",
       "done.\t\n",
       "took 120.079824s\t\n"
      ]
     },
     "execution_count": 48,
     "metadata": {},
     "output_type": "execute_result"
    }
   ],
   "source": [
    "confusions = {}\n",
    "predictions = {}\n",
    "\n",
    "for k = 1, 10 do\n",
    "    local criterion = nn.BCECriterion()\n",
    "    local model = get_model(150, 300, .5, 3)\n",
    "    local x_train, y_train, x_test, y_test = get_kth_partition(k-1)\n",
    "\n",
    "    for e = 1, epochs do\n",
    "        print(\"training epoch \"..e)\n",
    "        -- train with batch_size = 100\n",
    "        train(model, criterion, 100, x_train, y_train)\n",
    "    end\n",
    "\n",
    "    local c, preds = evaluate(model, x_test, y_test)\n",
    "    predictions[k] = preds\n",
    "    confusions[k] = c\n",
    "end"
   ]
  },
  {
   "cell_type": "code",
   "execution_count": 49,
   "metadata": {
    "collapsed": false,
    "scrolled": false
   },
   "outputs": [
    {
     "data": {
      "text/plain": [
       "set 1\t\n",
       "class 1\t\n",
       "TP 119\t\n",
       "TN 5\t\n",
       "FP 79\t\n",
       "FN 12\t\n",
       "class 2\t\n",
       "TP 114\t\n",
       "TN 0\t\n",
       "FP 99\t\n",
       "FN 2\t\n",
       "class 3\t\n",
       "TP 142\t\n",
       "TN 4\t\n",
       "FP 66\t\n",
       "FN 3\t\n",
       "class 4\t\n",
       "TP 139\t\n",
       "TN 0\t\n",
       "FP 76\t\n",
       "FN 0\t\n",
       "class 5\t\n",
       "TP 13\t\n",
       "TN 63\t\n",
       "FP 7\t\n",
       "FN 132\t\n",
       "class 6\t\n",
       "TP 42\t\n",
       "TN 45\t\n",
       "FP 27\t\n",
       "FN 101\t\n",
       "class 7\t\n",
       "TP 98\t\n",
       "TN 6\t\n",
       "FP 78\t\n",
       "FN 33\t\n",
       "class 8\t\n",
       "TP 176\t\n",
       "TN 0\t\n",
       "FP 39\t\n",
       "FN 0\t\n",
       "  P macro: 0.64155947333826\t\n",
       "  R macro: 0.75199380860768\t\n",
       "  P micro: 0.7488908606921\t\n",
       "  R micro: 0.64182509505703\t\n",
       "set 2\t\n",
       "class 1\t\n",
       "TP 96\t\n",
       "TN 35\t\n",
       "FP 47\t\n",
       "FN 37\t\n",
       "class 2\t\n",
       "TP 133\t\n",
       "TN 0\t\n",
       "FP 82\t\n",
       "FN 0\t\n",
       "class 3\t\n",
       "TP 156\t\n",
       "TN 0\t\n",
       "FP 59\t\n",
       "FN 0\t\n",
       "class 4\t\n",
       "TP 147\t\n",
       "TN 0\t\n",
       "FP 68\t\n",
       "FN 0\t\n",
       "class 5\t\n",
       "TP 68\t\n",
       "TN 2\t\n",
       "FP 126\t\n",
       "FN 19\t\n",
       "class 6\t\n",
       "TP 46\t\n",
       "TN 41\t\n",
       "FP 29\t\n",
       "FN 99\t\n",
       "class 7\t\n",
       "TP 89\t\n",
       "TN 11\t\n",
       "FP 112\t\n",
       "FN 3\t\n",
       "class 8\t\n",
       "TP 177\t\n",
       "TN 0\t\n",
       "FP 38\t\n",
       "FN 0\t\n",
       "  P macro: 0.61848804419072\t\n",
       "  R macro: 0.84970390622611\t\n",
       "  P micro: 0.85247432306256\t\n",
       "  R micro: 0.61940298507463\t\n",
       "set 3\t\n",
       "class 1\t\n",
       "TP 133\t\n",
       "TN 0\t\n",
       "FP 82\t\n",
       "FN 0\t\n",
       "class 2\t\n",
       "TP 121\t\n",
       "TN 0\t\n",
       "FP 94\t\n",
       "FN 0\t\n",
       "class 3\t\n",
       "TP 139\t\n",
       "TN 8\t\n",
       "FP 66\t\n",
       "FN 2\t\n",
       "class 4\t\n",
       "TP 146\t\n",
       "TN 0\t\n",
       "FP 69\t\n",
       "FN 0\t\n",
       "class 5\t\n",
       "TP 67\t\n",
       "TN 8\t\n",
       "FP 114\t\n",
       "FN 26\t\n",
       "class 6\t\n",
       "TP 82\t\n",
       "TN 8\t\n",
       "FP 96\t\n",
       "FN 29\t\n",
       "class 7\t\n",
       "TP 29\t\n",
       "TN 80\t\n",
       "FP 3\t\n",
       "FN 103\t\n",
       "class 8\t\n",
       "TP 177\t\n",
       "TN 0\t\n",
       "FP 38\t\n",
       "FN 0\t\n",
       "  P macro: 0.63947886235694\t\n",
       "  R macro: 0.83449438582785\t\n",
       "  P micro: 0.84834123222749\t\n",
       "  R micro: 0.61427590940288\t\n",
       "set 4\t\n",
       "class 1\t\n",
       "TP 129\t\n",
       "TN 1\t\n",
       "FP 83\t\n",
       "FN 2\t\n",
       "class 2\t\n",
       "TP 92\t\n",
       "TN 40\t\n",
       "FP 54\t\n",
       "FN 29\t\n",
       "class 3\t\n",
       "TP 137\t\n",
       "TN 2\t\n",
       "FP 71\t\n",
       "FN 5\t\n",
       "class 4\t\n",
       "TP 149\t\n",
       "TN 1\t\n",
       "FP 65\t\n",
       "FN 0\t\n",
       "class 5\t\n",
       "TP 25\t\n",
       "TN 48\t\n",
       "FP 16\t\n",
       "FN 126\t\n",
       "class 6\t\n",
       "TP 83\t\n",
       "TN 3\t\n",
       "FP 123\t\n",
       "FN 6\t\n",
       "class 7\t\n",
       "TP 77\t\n",
       "TN 20\t\n",
       "FP 59\t\n",
       "FN 59\t\n",
       "class 8\t\n",
       "TP 170\t\n",
       "TN 0\t\n",
       "FP 44\t\n",
       "FN 1\t\n",
       "  P macro: 0.62380997788327\t\n",
       "  R macro: 0.797511701121\t\n",
       "  P micro: 0.7910174152154\t\n",
       "  R micro: 0.62626995645864\t\n",
       "set 5\t\n",
       "class 1\t\n",
       "TP 128\t\n",
       "TN 0\t\n",
       "FP 87\t\n",
       "FN 0\t\n",
       "class 2\t\n",
       "TP 112\t\n",
       "TN 3\t\n",
       "FP 93\t\n",
       "FN 7\t\n",
       "class 3\t\n",
       "TP 159\t\n",
       "TN 1\t\n",
       "FP 55\t\n",
       "FN 0\t\n",
       "class 4\t\n",
       "TP 137\t\n",
       "TN 4\t\n",
       "FP 74\t\n",
       "FN 0\t\n",
       "class 5\t\n",
       "TP 1\t\n",
       "TN 78\t\n",
       "FP 0\t\n",
       "FN 136\t\n",
       "class 6\t\n",
       "TP 24\t\n",
       "TN 72\t\n",
       "FP 23\t\n",
       "FN 96\t\n",
       "class 7\t\n",
       "TP 70\t\n",
       "TN 47\t\n",
       "FP 75\t\n",
       "FN 23\t\n",
       "class 8\t\n",
       "TP 173\t\n",
       "TN 0\t\n",
       "FP 42\t\n",
       "FN 0\t\n",
       "  P macro: 0.66919820162907\t\n",
       "  R macro: 0.73976126743424\t\n",
       "  P micro: 0.75445173383318\t\n",
       "  R micro: 0.64194577352472\t\n",
       "set 6\t\n",
       "class 1\t\n",
       "TP 133\t\n",
       "TN 1\t\n",
       "FP 80\t\n",
       "FN 1\t\n",
       "class 2\t\n",
       "TP 72\t\n",
       "TN 60\t\n",
       "FP 30\t\n",
       "FN 53\t\n",
       "class 3\t\n",
       "TP 136\t\n",
       "TN 5\t\n",
       "FP 59\t\n",
       "FN 15\t\n",
       "class 4\t\n",
       "TP 118\t\n",
       "TN 26\t\n",
       "FP 62\t\n",
       "FN 9\t\n",
       "class 5\t\n",
       "TP 72\t\n",
       "TN 2\t\n",
       "FP 140\t\n",
       "FN 1\t\n",
       "class 6\t\n",
       "TP 82\t\n",
       "TN 0\t\n",
       "FP 133\t\n",
       "FN 0\t\n",
       "class 7\t\n",
       "TP 106\t\n",
       "TN 0\t\n",
       "FP 109\t\n",
       "FN 0\t\n",
       "class 8\t\n",
       "TP 169\t\n",
       "TN 0\t\n",
       "FP 46\t\n",
       "FN 0\t\n",
       "  P macro: 0.58759173938886\t\n",
       "  R macro: 0.92368093098973\t\n",
       "  P micro: 0.91838842975207\t\n",
       "  R micro: 0.57428940568475\t\n",
       "set 7\t\n",
       "class 1\t\n",
       "TP 130\t\n",
       "TN 0\t\n",
       "FP 85\t\n",
       "FN 0\t\n",
       "class 2\t\n",
       "TP 131\t\n",
       "TN 0\t\n",
       "FP 84\t\n",
       "FN 0\t\n",
       "class 3\t\n",
       "TP 149\t\n",
       "TN 0\t\n",
       "FP 66\t\n",
       "FN 0\t\n",
       "class 4\t\n",
       "TP 144\t\n",
       "TN 0\t\n",
       "FP 71\t\n",
       "FN 0\t\n",
       "class 5\t\n",
       "TP 76\t\n",
       "TN 0\t\n",
       "FP 139\t\n",
       "FN 0\t\n",
       "class 6\t\n",
       "TP 76\t\n",
       "TN 0\t\n",
       "FP 139\t\n",
       "FN 0\t\n",
       "class 7\t\n",
       "TP 102\t\n",
       "TN 0\t\n",
       "FP 113\t\n",
       "FN 0\t\n",
       "class 8\t\n",
       "TP 0\t\n",
       "TN 175\t\n",
       "FP 0\t\n",
       "FN 40\t\n",
       "  P macro: 0.59664351851852\t\n",
       "  R macro: 0.8780487804878\t\n",
       "  P micro: 0.95288574793875\t\n",
       "  R micro: 0.53718459495352\t\n",
       "set 8\t\n",
       "class 1\t\n",
       "TP 127\t\n",
       "TN 2\t\n",
       "FP 82\t\n",
       "FN 4\t\n",
       "class 2\t\n",
       "TP 120\t\n",
       "TN 8\t\n",
       "FP 76\t\n",
       "FN 11\t\n",
       "class 3\t\n",
       "TP 147\t\n",
       "TN 4\t\n",
       "FP 61\t\n",
       "FN 3\t\n",
       "class 4\t\n",
       "TP 140\t\n",
       "TN 0\t\n",
       "FP 75\t\n",
       "FN 0\t\n",
       "class 5\t\n",
       "TP 59\t\n",
       "TN 10\t\n",
       "FP 75\t\n",
       "FN 71\t\n",
       "class 6\t\n",
       "TP 72\t\n",
       "TN 3\t\n",
       "FP 131\t\n",
       "FN 9\t\n",
       "class 7\t\n",
       "TP 107\t\n",
       "TN 1\t\n",
       "FP 103\t\n",
       "FN 4\t\n",
       "class 8\t\n",
       "TP 167\t\n",
       "TN 0\t\n",
       "FP 48\t\n",
       "FN 0\t\n",
       "  P macro: 0.58457030715904\t\n",
       "  R macro: 0.89738012132438\t\n",
       "  P micro: 0.9021113243762\t\n",
       "  R micro: 0.59082338152106\t\n",
       "set 9\t\n",
       "class 1\t\n",
       "TP 128\t\n",
       "TN 0\t\n",
       "FP 87\t\n",
       "FN 0\t\n",
       "class 2\t\n",
       "TP 1\t\n",
       "TN 127\t\n",
       "FP 1\t\n",
       "FN 86\t\n",
       "class 3\t\n",
       "TP 152\t\n",
       "TN 0\t\n",
       "FP 63\t\n",
       "FN 0\t\n",
       "class 4\t\n",
       "TP 125\t\n",
       "TN 20\t\n",
       "FP 57\t\n",
       "FN 13\t\n",
       "class 5\t\n",
       "TP 68\t\n",
       "TN 5\t\n",
       "FP 129\t\n",
       "FN 13\t\n",
       "class 6\t\n",
       "TP 0\t\n",
       "TN 92\t\n",
       "FP 0\t\n",
       "FN 123\t\n",
       "class 7\t\n",
       "TP 108\t\n",
       "TN 0\t\n",
       "FP 107\t\n",
       "FN 0\t\n",
       "class 8\t\n",
       "TP 167\t\n",
       "TN 0\t\n",
       "FP 48\t\n",
       "FN 0\t\n",
       "  P macro: 0.6614548835348\t\n",
       "  R macro: 0.72234125295429\t\n",
       "  P micro: 0.76142131979695\t\n",
       "  R micro: 0.60386473429952\t\n",
       "set 10\t\n",
       "class 1\t\n",
       "TP 132\t\n",
       "TN 0\t\n",
       "FP 83\t\n",
       "FN 0\t\n",
       "class 2\t\n",
       "TP 120\t\n",
       "TN 0\t\n",
       "FP 95\t\n",
       "FN 0\t\n",
       "class 3\t\n",
       "TP 135\t\n",
       "TN 0\t\n",
       "FP 80\t\n",
       "FN 0\t\n",
       "class 4\t\n",
       "TP 141\t\n",
       "TN 0\t\n",
       "FP 74\t\n",
       "FN 0\t\n",
       "class 5\t\n",
       "TP 69\t\n",
       "TN 10\t\n",
       "FP 109\t\n",
       "FN 27\t\n",
       "class 6\t\n",
       "TP 3\t\n",
       "TN 80\t\n",
       "FP 0\t\n",
       "FN 132\t\n",
       "class 7\t\n",
       "TP 92\t\n",
       "TN 2\t\n",
       "FP 108\t\n",
       "FN 13\t\n",
       "class 8\t\n",
       "TP 169\t\n",
       "TN 0\t\n",
       "FP 46\t\n",
       "FN 0\t\n",
       "  P macro: 0.63796850245977\t\n",
       "  R macro: 0.828552467476\t\n",
       "  P micro: 0.83365570"
      ]
     },
     "execution_count": 49,
     "metadata": {},
     "output_type": "execute_result"
    },
    {
     "data": {
      "text/plain": [
       "599613\t\n",
       "  R micro: 0.59162663006177\t\n",
       "P_macro: 0.62607635104592\t\n",
       "R_macro: 0.82234686224491\t\n",
       "F1_macro: 0.71091365849986\t\n",
       "P_micro: 0.83636380928908\t\n",
       "R_micro: 0.60415084660385\t\n",
       "F1_micro: 0.70154080194013\t\n"
      ]
     },
     "execution_count": 49,
     "metadata": {},
     "output_type": "execute_result"
    }
   ],
   "source": [
    "-- evaluating confusion \"matrices\". not real ones but class-wise TP, TN, FP, FN\n",
    "-- for each of the k partitioned datasets.\n",
    "-- now we need to calculate macro/micro F1/R/P\n",
    "local P_micro_aggr = 0\n",
    "local R_micro_aggr = 0\n",
    "local P_macro_aggr = 0\n",
    "local R_macro_aggr = 0\n",
    "\n",
    "-- the metrics are evaluated for each dataset.\n",
    "-- the micro averaging is calculated on the cumulative tp/fp/fn\n",
    "-- for a class while the macro averaging calculates the metric\n",
    "-- for each class, sums these up and divides them by the class\n",
    "-- count\n",
    "\n",
    "for i = 1, #confusions do\n",
    "    print('set '..i)\n",
    "    local P_aggr = 0\n",
    "    local R_aggr = 0\n",
    "    local TP_aggr = 0\n",
    "    local TN_aggr = 0\n",
    "    local FP_aggr = 0\n",
    "    local FN_aggr = 0\n",
    "\n",
    "    -- TP, TN, FP, FN\n",
    "    for j = 1, 8 do\n",
    "        print('class '..j)\n",
    "        local TP_i = confusions[i][j][1]\n",
    "        print('TP '..TP_i)\n",
    "        local TN_i = confusions[i][j][2]\n",
    "        print('TN '..TN_i)\n",
    "        local FP_i = confusions[i][j][3]\n",
    "        print('FP '..FP_i)\n",
    "        local FN_i = confusions[i][j][4]\n",
    "        print('FN '..FN_i)\n",
    "\n",
    "        TP_aggr = TP_aggr + TP_i\n",
    "        TN_aggr = TN_aggr + TN_i\n",
    "        FP_aggr = FP_aggr + FP_i\n",
    "        FN_aggr = FN_aggr + FN_i\n",
    "\n",
    "        -- macro\n",
    "        local P_i = (TP_i + 1) / (TP_i + FP_i + 1)\n",
    "        P_aggr = P_aggr + P_i\n",
    "\n",
    "        local R_i = (TP_i + 1) / (TP_i + FN_i + 1)\n",
    "        R_aggr = R_aggr + R_i\n",
    "    end\n",
    "\n",
    "    print('  P macro: '..(P_aggr / 8))\n",
    "    print('  R macro: '..(R_aggr / 8))\n",
    "    print('  P micro: '..((TP_aggr + 1) / (TP_aggr + FN_aggr + 1)))\n",
    "    print('  R micro: '..((TP_aggr + 1) / (TP_aggr + FP_aggr + 1)))\n",
    "\n",
    "    P_macro_aggr = P_macro_aggr + (P_aggr / 8)\n",
    "    R_macro_aggr = R_macro_aggr + (R_aggr / 8)\n",
    "    R_micro_aggr = R_micro_aggr + ((TP_aggr + 1) / (TP_aggr + FP_aggr + 1))\n",
    "    P_micro_aggr = P_micro_aggr + ((TP_aggr + 1) / (TP_aggr + FN_aggr + 1))\n",
    "end\n",
    "\n",
    "P_macro = P_macro_aggr / #confusions\n",
    "R_macro = R_macro_aggr / #confusions\n",
    "P_micro = P_micro_aggr / #confusions\n",
    "R_micro = R_micro_aggr / #confusions\n",
    "\n",
    "print('P_macro: '..P_macro)\n",
    "print('R_macro: '..R_macro)\n",
    "print('F1_macro: '..((2 * P_macro * R_macro) / (P_macro + R_macro)))\n",
    "print('P_micro: '..P_micro)\n",
    "print('R_micro: '..R_micro)\n",
    "print('F1_micro: '..((2 * P_micro * R_micro) / (P_micro + R_micro)))"
   ]
  },
  {
   "cell_type": "code",
   "execution_count": 16,
   "metadata": {
    "collapsed": true
   },
   "outputs": [],
   "source": [
    "-- 1 epochs\n",
    "-- P_macro: 0.69945066586954\n",
    "-- R_macro: 0.64201492791503\n",
    "-- F1_macro: 0.66950322230995\n",
    "-- P_micro: 0.68537999276845\n",
    "-- R_micro: 0.59231310709299\n",
    "-- F1_micro: 0.63545706414173\n",
    "\n",
    "-- 3 epochs\n",
    "-- P_macro: 0.63519394650611\n",
    "-- R_macro: 0.79737983358683\n",
    "-- F1_macro: 0.70710611962693\n",
    "-- P_micro: 0.81134224534116\n",
    "-- R_micro: 0.60977941734798\n",
    "-- F1_micro: 0.6962666387025\n",
    "\n",
    "-- 4 epochs\n",
    "-- P_macro: 0.62607635104592\n",
    "-- R_macro: 0.82234686224491\n",
    "-- F1_macro: 0.71091365849986\n",
    "-- P_micro: 0.83636380928908\n",
    "-- R_micro: 0.60415084660385\n",
    "-- F1_micro: 0.70154080194013\n",
    "\n"
   ]
  },
  {
   "cell_type": "markdown",
   "metadata": {},
   "source": [
    "## Sources\n",
    "* **(Kim, 2014):** Convolutional Neural Networks for Sentence Classification by Yoon Kim\n",
    "* **(Zhang and Wallace, 2015):** A Sensitivity Analysis of (and Practitioners' Guide to) Convolutional Neural Networks for Sentence Classification by Ye Zhang, Byron Wallace"
   ]
  },
  {
   "cell_type": "code",
   "execution_count": null,
   "metadata": {
    "collapsed": true
   },
   "outputs": [],
   "source": []
  }
 ],
 "metadata": {
  "kernelspec": {
   "display_name": "iTorch",
   "language": "lua",
   "name": "itorch"
  },
  "language_info": {
   "name": "lua",
   "version": "20100"
  }
 },
 "nbformat": 4,
 "nbformat_minor": 0
}
