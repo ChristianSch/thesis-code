{
 "cells": [
  {
   "cell_type": "code",
   "execution_count": 1,
   "metadata": {
    "collapsed": false
   },
   "outputs": [],
   "source": [
    "require 'torch'\n",
    "require 'nn'\n",
    "require 'optim'\n",
    "hdf5 = require 'hdf5'"
   ]
  },
  {
   "cell_type": "code",
   "execution_count": 70,
   "metadata": {
    "collapsed": true
   },
   "outputs": [],
   "source": [
    "-- TODO:\n",
    "-- * 200 wordvector length\n",
    "-- * GloVe 200/300"
   ]
  },
  {
   "cell_type": "markdown",
   "metadata": {},
   "source": [
    "## Hyperparameters\n",
    "* Filter windows of height $h$ are applied in sizes of $3,4,5$ with TODO feature\n",
    "maps. Specifically the filters are applied as a matrix $W \\in \\mathbb{R}^{h \\times k}$\n",
    "to a window of size $h \\times k$.\n",
    "* The stride of the filters is $1$ to iterate over all possible windows of words\n",
    "(*narrow convolution*).\n",
    "* A dropout of rate $\\rho = .5$ is applied at training time to prevent overfitting.\n",
    "* An $l_2$ constraint $s = 3$ is applied in (Kim, 2014). However (Zhang and Wallace, 2015)\n",
    "found that this constraint had little effect on the performance of the network."
   ]
  },
  {
   "cell_type": "code",
   "execution_count": 11,
   "metadata": {
    "collapsed": false
   },
   "outputs": [],
   "source": [
    "-- metadata\n",
    "epochs = 1\n",
    "classes = {'1', '2', '3', '4', '5', '6', '7', '8'}"
   ]
  },
  {
   "cell_type": "markdown",
   "metadata": {},
   "source": [
    "## Data\n",
    "Input format is a matrix $M \\in \\mathbb{R}^{n} \\times k$\n",
    "with:\n",
    "* $n$ number of words in the document\n",
    "* $k$ the dimension of the word vectors obtained from word2vec\n",
    "* the data is zero-padded to the length of the longest document\n",
    "(alternatively to a given maximum length). All not-taken word spaces\n",
    "are set to zero in the matrix."
   ]
  },
  {
   "cell_type": "code",
   "execution_count": 3,
   "metadata": {
    "collapsed": false
   },
   "outputs": [],
   "source": [
    "function get_kth_partition(k)\n",
    "    fname = \"../data/prepped_train_X_word2vec_wordvecs_\"..k..\".h5\"\n",
    "    print(\"retrieving \"..fname)\n",
    "    file = hdf5.open(fname, 'r')\n",
    "    data = file:read():all()\n",
    "    file:close()\n",
    "\n",
    "    return data[\"dataset_\"..k..\"_x_train\"]\n",
    "        , data[\"dataset_\"..k..\"_y_train\"]\n",
    "        , data[\"dataset_\"..k..\"_x_test\"]\n",
    "        , data[\"dataset_\"..k..\"_y_test\"]\n",
    "end"
   ]
  },
  {
   "cell_type": "code",
   "execution_count": 4,
   "metadata": {
    "collapsed": true
   },
   "outputs": [],
   "source": [
    "-- FIXME: replace this with something better\n",
    "function copy_example(example)\n",
    "    local X_i = torch.Tensor(6, sent_len, example:size()[2]):zero()\n",
    "\n",
    "    for j = 1, sent_len do\n",
    "        X_i[{1, j}] = example[j]\n",
    "        X_i[{2, j}] = example[j]\n",
    "        X_i[{3, j}] = example[j]\n",
    "        X_i[{4, j}] = example[j]\n",
    "        X_i[{5, j}] = example[j]\n",
    "        X_i[{6, j}] = example[j]\n",
    "    end\n",
    "\n",
    "    return X_i\n",
    "end"
   ]
  },
  {
   "cell_type": "code",
   "execution_count": 5,
   "metadata": {
    "collapsed": true
   },
   "outputs": [],
   "source": [
    "-- binarize label probabilities\n",
    "function binarize_pred_labels(labels)\n",
    "    bin = torch.Tensor(labels:size()[1])\n",
    "\n",
    "    for i = 1, labels:size()[1] do\n",
    "        if labels[i] > .5 then\n",
    "            bin[i] = 1\n",
    "        else\n",
    "            bin[i] = 0\n",
    "        end\n",
    "    end\n",
    "\n",
    "    return bin\n",
    "end"
   ]
  },
  {
   "cell_type": "markdown",
   "metadata": {},
   "source": [
    "## Model"
   ]
  },
  {
   "cell_type": "code",
   "execution_count": 10,
   "metadata": {
    "collapsed": false
   },
   "outputs": [],
   "source": [
    "function get_model(sent_len, wordvec_len, dropout_rho, l2_constr)\n",
    "    local model = nn.Sequential()\n",
    "    model:add(nn.Identity())\n",
    "\n",
    "    -- stage 1: convolutions\n",
    "\n",
    "    -- in: applies the following declared layers to the first dimension of the\n",
    "    -- tensor (see above.)\n",
    "    --\n",
    "    -- out: concatenating the three concatenated max-pooled values to a vector\n",
    "    -- fed to the fully connected softmax layer yielding the outputs\n",
    "\n",
    "    -- in: tensor of 6 x num_exaples x sent_len x wordvec_len\n",
    "    --p = nn.ConcatTable()\n",
    "    local p = nn.Parallel(1,1)\n",
    "\n",
    "    -- this is a convolution unit differing in the height of the filter being\n",
    "    -- applied. each filter is used double time to further improve performance.\n",
    "    -- each filter yields a feature map, thus for each region size we then\n",
    "    -- have two feature maps, and in total then six (if using default n-grams\n",
    "    -- 3 to 5 like (Kim, 2014))\n",
    "    for i = 3, 5 do\n",
    "        -- elements of the convolution\n",
    "        local s1 = nn.Sequential()\n",
    "        local s2 = nn.Sequential()\n",
    "\n",
    "        -- input: sent_len x wordvec_len\n",
    "        s1:add(nn.Reshape(1, sent_len, wordvec_len))\n",
    "        s2:add(nn.Reshape(1, sent_len, wordvec_len))\n",
    "\n",
    "        -- takes size of input plane (we only have one channel though)\n",
    "        -- as well as output plane (again, using only one channel)\n",
    "        -- kernel width and kernel height as third and fourth arguments\n",
    "\n",
    "        -- in: 1 x sent_len x wordvec_len\n",
    "        -- args: input channels, output channels, kernel width, kernel height\n",
    "        s1:add(nn.SpatialConvolution(1, 1, wordvec_len, i))\n",
    "        s2:add(nn.SpatialConvolution(1, 1, wordvec_len, i))\n",
    "        -- out: sent_len - filter_height + 1\n",
    "\n",
    "        -- non-linearities\n",
    "        -- in: sent_len - filter_height + 1\n",
    "        s1:add(nn.ReLU())\n",
    "        s2:add(nn.ReLU())\n",
    "        -- out: sent_len - filter_height + 1\n",
    "\n",
    "        -- the viewed region of the matrix for max-pooling shall be the\n",
    "        -- size of the matrix, as we want all values to be considered at\n",
    "        -- once for a single maximum for each filter map.\n",
    "        -- in: sent_len - filter_height + 1\n",
    "        s1:add(nn.SpatialMaxPooling(1, sent_len - i + 1))\n",
    "        s2:add(nn.SpatialMaxPooling(1, sent_len - i + 1))\n",
    "        -- out: scalar\n",
    "\n",
    "        p:add(s1)\n",
    "        p:add(s2)\n",
    "    end\n",
    "\n",
    "    model:add(p)\n",
    "\n",
    "    -- [6x1x1] -> [1x6]\n",
    "    model:add(nn.View(1,6))\n",
    "\n",
    "    -- stage 2: fully connected softmax layer\n",
    "    model:add(nn.Normalize(2, l2_constr))\n",
    "    model:add(nn.Dropout(dropout_rho))\n",
    "    model:add(nn.Linear(6, 8))\n",
    "\n",
    "    --model:add(nn.LogSoftMax()) -- for ClassNLLCriterion\n",
    "    model:add(nn.Sigmoid())\n",
    "\n",
    "    return model\n",
    "end"
   ]
  },
  {
   "cell_type": "code",
   "execution_count": 67,
   "metadata": {
    "collapsed": true
   },
   "outputs": [],
   "source": [
    "function train(model, criterion, X_k, Y_k)\n",
    "    local no_examples = X_k:size()[1]\n",
    "    local parameters, grad_parameters = model:getParameters()\n",
    "    model:training()\n",
    "    local tic = os.clock()\n",
    "\n",
    "    print(\"training network\")\n",
    "\n",
    "    local next_batch = function(offset, inputs, targets)\n",
    "        end_offset = offset + batch_size - 1\n",
    "\n",
    "        -- calculate size of remaining items if we have less than\n",
    "        -- batch_size examples left.\n",
    "        if end_offset > inputs:size()[1] then\n",
    "            end_offset = offset + (inputs:size()[1] - offset)\n",
    "        end\n",
    "\n",
    "        print(\"getting \"..offset..\" to \"..end_offset..\" of \"..inputs:size()[1])\n",
    "\n",
    "        return inputs[{{offset, end_offset}, {}, {}}], targets[{{offset, end_offset}, {}}]\n",
    "    end\n",
    "\n",
    "    for i = 1, no_examples, batch_size do\n",
    "        inputs, targets = next_batch(i, X_k, Y_k)\n",
    "        num_inputs = inputs:size()[1]\n",
    "\n",
    "        local feval = function(x)\n",
    "            if x ~= parameters then\n",
    "                parameters:copy(x)\n",
    "            end\n",
    "\n",
    "            grad_parameters:zero()\n",
    "\n",
    "            local f = 0\n",
    "            for i = 1, num_inputs do\n",
    "                local X_k_i = copy_example(inputs[i])\n",
    "                local output = model:forward(X_k_i):reshape(8)\n",
    "                local bin_output = binarize_pred_labels(output)\n",
    "                local targets_i = targets[i]:type(\"torch.DoubleTensor\")\n",
    "\n",
    "                local err = criterion:forward(output, targets_i)\n",
    "                f = f + err\n",
    "\n",
    "                local df_do = criterion:backward(bin_output, targets_i)\n",
    "                model:backward(inputs[i], df_do)\n",
    "            end\n",
    "\n",
    "            grad_parameters:div(num_inputs)\n",
    "            f = f / num_inputs\n",
    "\n",
    "            return f, grad_parameters\n",
    "        end\n",
    "\n",
    "        optim.adadelta(feval, parameters, {})\n",
    "    end\n",
    "\n",
    "    print(\"done.\")\n",
    "    local toc = os.clock() - tic\n",
    "    print(\"took \"..toc..\"s\")\n",
    "end"
   ]
  },
  {
   "cell_type": "code",
   "execution_count": 68,
   "metadata": {
    "collapsed": false
   },
   "outputs": [],
   "source": [
    "function evaluate(model, inputs, targets)\n",
    "    local c = torch.Tensor(8, 4):zero()\n",
    "\n",
    "    local preds = {}\n",
    "    model:evaluate()\n",
    "\n",
    "    -- check for TN, TP, FN, FP\n",
    "    for i = 1, inputs:size()[1] do\n",
    "        local prediction = model:forward(copy_example(inputs[i])):reshape(8)\n",
    "        preds[#preds + 1] = prediction\n",
    "\n",
    "        for j = 1, 8 do\n",
    "            if torch.ceil(prediction[j]) ~= targets[i][j] then\n",
    "                if prediction[j] >= .5 and targets[i][j] <= .5 then\n",
    "                    -- false positive\n",
    "                    c[j][3] = c[j][3] + 1\n",
    "                else\n",
    "                    -- false negative\n",
    "                    c[j][4] = c[j][4] + 1\n",
    "                end\n",
    "            else\n",
    "                if prediction[j] >= .5 then\n",
    "                    -- true positive\n",
    "                    c[j][1] = c[j][1] + 1\n",
    "                else\n",
    "                    -- true negative\n",
    "                    c[j][2] = c[j][2] + 1\n",
    "                end\n",
    "            end\n",
    "        end\n",
    "    end\n",
    "\n",
    "    return c, preds\n",
    "end"
   ]
  },
  {
   "cell_type": "code",
   "execution_count": 69,
   "metadata": {
    "collapsed": true
   },
   "outputs": [
    {
     "data": {
      "text/plain": [
       "retrieving ../data/prepped_train_X_word2vec_wordvecs_0.h5\t\n"
      ]
     },
     "execution_count": 69,
     "metadata": {},
     "output_type": "execute_result"
    },
    {
     "data": {
      "text/plain": [
       "training epoch 1\t\n",
       "training network\t\n",
       "getting 1 to 100 of 1930\t\n"
      ]
     },
     "execution_count": 69,
     "metadata": {},
     "output_type": "execute_result"
    },
    {
     "data": {
      "text/plain": [
       "getting 101 to 200 of 1930\t\n"
      ]
     },
     "execution_count": 69,
     "metadata": {},
     "output_type": "execute_result"
    },
    {
     "data": {
      "text/plain": [
       "getting 201 to 300 of 1930\t\n"
      ]
     },
     "execution_count": 69,
     "metadata": {},
     "output_type": "execute_result"
    },
    {
     "data": {
      "text/plain": [
       "getting 301 to 400 of 1930\t\n"
      ]
     },
     "execution_count": 69,
     "metadata": {},
     "output_type": "execute_result"
    },
    {
     "data": {
      "text/plain": [
       "getting 401 to 500 of 1930\t\n"
      ]
     },
     "execution_count": 69,
     "metadata": {},
     "output_type": "execute_result"
    },
    {
     "data": {
      "text/plain": [
       "getting 501 to 600 of 1930\t\n",
       "getting 601 to 700 of 1930\t\n"
      ]
     },
     "execution_count": 69,
     "metadata": {},
     "output_type": "execute_result"
    },
    {
     "data": {
      "text/plain": [
       "getting 701 to 800 of 1930\t\n",
       "getting 801 to 900 of 1930\t\n"
      ]
     },
     "execution_count": 69,
     "metadata": {},
     "output_type": "execute_result"
    },
    {
     "data": {
      "text/plain": [
       "getting 901 to 1000 of 1930\t\n"
      ]
     },
     "execution_count": 69,
     "metadata": {},
     "output_type": "execute_result"
    },
    {
     "data": {
      "text/plain": [
       "getting 1001 to 1100 of 1930\t\n",
       "getting 1101 to 1200 of 1930\t\n"
      ]
     },
     "execution_count": 69,
     "metadata": {},
     "output_type": "execute_result"
    },
    {
     "data": {
      "text/plain": [
       "getting 1201 to 1300 of 1930\t\n",
       "getting 1301 to 1400 of 1930\t\n"
      ]
     },
     "execution_count": 69,
     "metadata": {},
     "output_type": "execute_result"
    },
    {
     "data": {
      "text/plain": [
       "getting 1401 to 1500 of 1930\t\n",
       "getting 1501 to 1600 of 1930\t\n"
      ]
     },
     "execution_count": 69,
     "metadata": {},
     "output_type": "execute_result"
    },
    {
     "data": {
      "text/plain": [
       "getting 1601 to 1700 of 1930\t\n",
       "getting 1701 to 1800 of 1930\t\n"
      ]
     },
     "execution_count": 69,
     "metadata": {},
     "output_type": "execute_result"
    },
    {
     "data": {
      "text/plain": [
       "getting 1801 to 1900 of 1930\t\n",
       "getting 1901 to 1930 of 1930\t\n"
      ]
     },
     "execution_count": 69,
     "metadata": {},
     "output_type": "execute_result"
    },
    {
     "data": {
      "text/plain": [
       "done.\t\n",
       "took 113.795366s\t\n",
       "retrieving ../data/prepped_train_X_word2vec_wordvecs_1.h5\t\n"
      ]
     },
     "execution_count": 69,
     "metadata": {},
     "output_type": "execute_result"
    },
    {
     "data": {
      "text/plain": [
       "training epoch 1\t\n",
       "training network\t\n",
       "getting 1 to 100 of 1930\t\n"
      ]
     },
     "execution_count": 69,
     "metadata": {},
     "output_type": "execute_result"
    },
    {
     "data": {
      "text/plain": [
       "getting 101 to 200 of 1930\t\n"
      ]
     },
     "execution_count": 69,
     "metadata": {},
     "output_type": "execute_result"
    },
    {
     "data": {
      "text/plain": [
       "getting 201 to 300 of 1930\t\n",
       "getting 301 to 400 of 1930\t\n"
      ]
     },
     "execution_count": 69,
     "metadata": {},
     "output_type": "execute_result"
    },
    {
     "data": {
      "text/plain": [
       "getting 401 to 500 of 1930\t\n",
       "getting 501 to 600 of 1930\t\n"
      ]
     },
     "execution_count": 69,
     "metadata": {},
     "output_type": "execute_result"
    },
    {
     "data": {
      "text/plain": [
       "getting 601 to 700 of 1930\t\n"
      ]
     },
     "execution_count": 69,
     "metadata": {},
     "output_type": "execute_result"
    },
    {
     "data": {
      "text/plain": [
       "getting 701 to 800 of 1930\t\n",
       "getting 801 to 900 of 1930\t\n"
      ]
     },
     "execution_count": 69,
     "metadata": {},
     "output_type": "execute_result"
    },
    {
     "data": {
      "text/plain": [
       "getting 901 to 1000 of 1930\t\n"
      ]
     },
     "execution_count": 69,
     "metadata": {},
     "output_type": "execute_result"
    },
    {
     "data": {
      "text/plain": [
       "getting 1001 to 1100 of 1930\t\n"
      ]
     },
     "execution_count": 69,
     "metadata": {},
     "output_type": "execute_result"
    },
    {
     "data": {
      "text/plain": [
       "getting 1101 to 1200 of 1930\t\n",
       "getting 1201 to 1300 of 1930\t\n"
      ]
     },
     "execution_count": 69,
     "metadata": {},
     "output_type": "execute_result"
    },
    {
     "data": {
      "text/plain": [
       "getting 1301 to 1400 of 1930\t\n",
       "getting 1401 to 1500 of 1930\t\n"
      ]
     },
     "execution_count": 69,
     "metadata": {},
     "output_type": "execute_result"
    },
    {
     "data": {
      "text/plain": [
       "getting 1501 to 1600 of 1930\t\n",
       "getting 1601 to 1700 of 1930\t\n"
      ]
     },
     "execution_count": 69,
     "metadata": {},
     "output_type": "execute_result"
    },
    {
     "data": {
      "text/plain": [
       "getting 1701 to 1800 of 1930\t\n",
       "getting 1801 to 1900 of 1930\t\n"
      ]
     },
     "execution_count": 69,
     "metadata": {},
     "output_type": "execute_result"
    },
    {
     "data": {
      "text/plain": [
       "getting 1901 to 1930 of 1930\t\n",
       "done.\t\n",
       "took 104.726689s\t\n"
      ]
     },
     "execution_count": 69,
     "metadata": {},
     "output_type": "execute_result"
    },
    {
     "data": {
      "text/plain": [
       "retrieving ../data/prepped_train_X_word2vec_wordvecs_2.h5\t\n"
      ]
     },
     "execution_count": 69,
     "metadata": {},
     "output_type": "execute_result"
    },
    {
     "data": {
      "text/plain": [
       "training epoch 1\t\n",
       "training network\t\n",
       "getting 1 to 100 of 1930\t\n"
      ]
     },
     "execution_count": 69,
     "metadata": {},
     "output_type": "execute_result"
    },
    {
     "data": {
      "text/plain": [
       "getting 101 to 200 of 1930\t\n",
       "getting 201 to 300 of 1930\t\n"
      ]
     },
     "execution_count": 69,
     "metadata": {},
     "output_type": "execute_result"
    },
    {
     "data": {
      "text/plain": [
       "getting 301 to 400 of 1930\t\n",
       "getting 401 to 500 of 1930\t\n"
      ]
     },
     "execution_count": 69,
     "metadata": {},
     "output_type": "execute_result"
    },
    {
     "data": {
      "text/plain": [
       "getting 501 to 600 of 1930\t\n"
      ]
     },
     "execution_count": 69,
     "metadata": {},
     "output_type": "execute_result"
    },
    {
     "data": {
      "text/plain": [
       "getting 601 to 700 of 1930\t\n"
      ]
     },
     "execution_count": 69,
     "metadata": {},
     "output_type": "execute_result"
    },
    {
     "data": {
      "text/plain": [
       "getting 701 to 800 of 1930\t\n"
      ]
     },
     "execution_count": 69,
     "metadata": {},
     "output_type": "execute_result"
    },
    {
     "data": {
      "text/plain": [
       "getting 801 to 900 of 1930\t\n"
      ]
     },
     "execution_count": 69,
     "metadata": {},
     "output_type": "execute_result"
    },
    {
     "data": {
      "text/plain": [
       "getting 901 to 1000 of 1930\t\n"
      ]
     },
     "execution_count": 69,
     "metadata": {},
     "output_type": "execute_result"
    },
    {
     "data": {
      "text/plain": [
       "getting 1001 to 1100 of 1930\t\n"
      ]
     },
     "execution_count": 69,
     "metadata": {},
     "output_type": "execute_result"
    },
    {
     "data": {
      "text/plain": [
       "getting 1101 to 1200 of 1930\t\n"
      ]
     },
     "execution_count": 69,
     "metadata": {},
     "output_type": "execute_result"
    },
    {
     "data": {
      "text/plain": [
       "getting 1201 to 1300 of 1930\t\n"
      ]
     },
     "execution_count": 69,
     "metadata": {},
     "output_type": "execute_result"
    },
    {
     "data": {
      "text/plain": [
       "getting 1301 to 1400 of 1930\t\n"
      ]
     },
     "execution_count": 69,
     "metadata": {},
     "output_type": "execute_result"
    },
    {
     "data": {
      "text/plain": [
       "getting 1401 to 1500 of 1930\t\n"
      ]
     },
     "execution_count": 69,
     "metadata": {},
     "output_type": "execute_result"
    },
    {
     "data": {
      "text/plain": [
       "getting 1501 to 1600 of 1930\t\n"
      ]
     },
     "execution_count": 69,
     "metadata": {},
     "output_type": "execute_result"
    },
    {
     "data": {
      "text/plain": [
       "getting 1601 to 1700 of 1930\t\n"
      ]
     },
     "execution_count": 69,
     "metadata": {},
     "output_type": "execute_result"
    },
    {
     "data": {
      "text/plain": [
       "getting 1701 to 1800 of 1930\t\n"
      ]
     },
     "execution_count": 69,
     "metadata": {},
     "output_type": "execute_result"
    },
    {
     "data": {
      "text/plain": [
       "getting 1801 to 1900 of 1930\t\n"
      ]
     },
     "execution_count": 69,
     "metadata": {},
     "output_type": "execute_result"
    },
    {
     "data": {
      "text/plain": [
       "getting 1901 to 1930 of 1930\t\n",
       "done.\t\n",
       "took 98.849381s\t\n",
       "retrieving ../data/prepped_train_X_word2vec_wordvecs_3.h5\t\n"
      ]
     },
     "execution_count": 69,
     "metadata": {},
     "output_type": "execute_result"
    },
    {
     "data": {
      "text/plain": [
       "training epoch 1\t\n",
       "training network\t\n",
       "getting 1 to 100 of 1930\t\n",
       "getting 101 to 200 of 1930\t\n"
      ]
     },
     "execution_count": 69,
     "metadata": {},
     "output_type": "execute_result"
    },
    {
     "data": {
      "text/plain": [
       "getting 201 to 300 of 1930\t\n",
       "getting 301 to 400 of 1930\t\n"
      ]
     },
     "execution_count": 69,
     "metadata": {},
     "output_type": "execute_result"
    },
    {
     "data": {
      "text/plain": [
       "getting 401 to 500 of 1930\t\n",
       "getting 501 to 600 of 1930\t\n"
      ]
     },
     "execution_count": 69,
     "metadata": {},
     "output_type": "execute_result"
    },
    {
     "data": {
      "text/plain": [
       "getting 601 to 700 of 1930\t\n",
       "getting 701 to 800 of 1930\t\n"
      ]
     },
     "execution_count": 69,
     "metadata": {},
     "output_type": "execute_result"
    },
    {
     "data": {
      "text/plain": [
       "getting 801 to 900 of 1930\t\n",
       "getting 901 to 1000 of 1930\t\n"
      ]
     },
     "execution_count": 69,
     "metadata": {},
     "output_type": "execute_result"
    },
    {
     "data": {
      "text/plain": [
       "getting 1001 to 1100 of 1930\t\n",
       "getting 1101 to 1200 of 1930\t\n",
       "getting 1201 to 1300 of 1930\t\n"
      ]
     },
     "execution_count": 69,
     "metadata": {},
     "output_type": "execute_result"
    },
    {
     "data": {
      "text/plain": [
       "getting 1301 to 1400 of 1930\t\n",
       "getting 1401 to 1500 of 1930\t\n"
      ]
     },
     "execution_count": 69,
     "metadata": {},
     "output_type": "execute_result"
    },
    {
     "data": {
      "text/plain": [
       "getting 1501 to 1600 of 1930\t\n",
       "getting 1601 to 1700 of 1930\t\n"
      ]
     },
     "execution_count": 69,
     "metadata": {},
     "output_type": "execute_result"
    },
    {
     "data": {
      "text/plain": [
       "getting 1701 to 1800 of 1930\t\n",
       "getting 1801 to 1900 of 1930\t\n"
      ]
     },
     "execution_count": 69,
     "metadata": {},
     "output_type": "execute_result"
    },
    {
     "data": {
      "text/plain": [
       "getting 1901 to 1930 of 1930\t\n",
       "done.\t\n",
       "took 96.525523s\t\n"
      ]
     },
     "execution_count": 69,
     "metadata": {},
     "output_type": "execute_result"
    },
    {
     "data": {
      "text/plain": [
       "retrieving ../data/prepped_train_X_word2vec_wordvecs_4.h5\t\n"
      ]
     },
     "execution_count": 69,
     "metadata": {},
     "output_type": "execute_result"
    },
    {
     "data": {
      "text/plain": [
       "training epoch 1\t\n",
       "training network\t\n",
       "getting 1 to 100 of 1930\t\n",
       "getting 101 to 200 of 1930\t\n",
       "getting 201 to 300 of 1930\t\n"
      ]
     },
     "execution_count": 69,
     "metadata": {},
     "output_type": "execute_result"
    },
    {
     "data": {
      "text/plain": [
       "getting 301 to 400 of 1930\t\n"
      ]
     },
     "execution_count": 69,
     "metadata": {},
     "output_type": "execute_result"
    },
    {
     "data": {
      "text/plain": [
       "getting 401 to 500 of 1930\t\n"
      ]
     },
     "execution_count": 69,
     "metadata": {},
     "output_type": "execute_result"
    },
    {
     "data": {
      "text/plain": [
       "getting 501 to 600 of 1930\t\n",
       "getting 601 to 700 of 1930\t\n"
      ]
     },
     "execution_count": 69,
     "metadata": {},
     "output_type": "execute_result"
    },
    {
     "data": {
      "text/plain": [
       "getting 701 to 800 of 1930\t\n"
      ]
     },
     "execution_count": 69,
     "metadata": {},
     "output_type": "execute_result"
    },
    {
     "data": {
      "text/plain": [
       "getting 801 to 900 of 1930\t\n",
       "getting 901 to 1000 of 1930\t\n"
      ]
     },
     "execution_count": 69,
     "metadata": {},
     "output_type": "execute_result"
    },
    {
     "data": {
      "text/plain": [
       "getting 1001 to 1100 of 1930\t\n",
       "getting 1101 to 1200 of 1930\t\n"
      ]
     },
     "execution_count": 69,
     "metadata": {},
     "output_type": "execute_result"
    },
    {
     "data": {
      "text/plain": [
       "getting 1201 to 1300 of 1930\t\n"
      ]
     },
     "execution_count": 69,
     "metadata": {},
     "output_type": "execute_result"
    },
    {
     "data": {
      "text/plain": [
       "getting 1301 to 1400 of 1930\t\n",
       "getting 1401 to 1500 of 1930\t\n"
      ]
     },
     "execution_count": 69,
     "metadata": {},
     "output_type": "execute_result"
    },
    {
     "data": {
      "text/plain": [
       "getting 1501 to 1600 of 1930\t\n"
      ]
     },
     "execution_count": 69,
     "metadata": {},
     "output_type": "execute_result"
    },
    {
     "data": {
      "text/plain": [
       "getting 1601 to 1700 of 1930\t\n"
      ]
     },
     "execution_count": 69,
     "metadata": {},
     "output_type": "execute_result"
    },
    {
     "data": {
      "text/plain": [
       "getting 1701 to 1800 of 1930\t\n",
       "getting 1801 to 1900 of 1930\t\n"
      ]
     },
     "execution_count": 69,
     "metadata": {},
     "output_type": "execute_result"
    },
    {
     "data": {
      "text/plain": [
       "getting 1901 to 1930 of 1930\t\n",
       "done.\t\n",
       "took 98.511162s\t\n",
       "retrieving ../data/prepped_train_X_word2vec_wordvecs_5.h5\t\n"
      ]
     },
     "execution_count": 69,
     "metadata": {},
     "output_type": "execute_result"
    },
    {
     "data": {
      "text/plain": [
       "training epoch 1\t\n",
       "training network\t\n",
       "getting 1 to 100 of 1930\t\n"
      ]
     },
     "execution_count": 69,
     "metadata": {},
     "output_type": "execute_result"
    },
    {
     "data": {
      "text/plain": [
       "getting 101 to 200 of 1930\t\n",
       "getting 201 to 300 of 1930\t\n"
      ]
     },
     "execution_count": 69,
     "metadata": {},
     "output_type": "execute_result"
    },
    {
     "data": {
      "text/plain": [
       "getting 301 to 400 of 1930\t\n",
       "getting 401 to 500 of 1930\t\n"
      ]
     },
     "execution_count": 69,
     "metadata": {},
     "output_type": "execute_result"
    },
    {
     "data": {
      "text/plain": [
       "getting 501 to 600 of 1930\t\n"
      ]
     },
     "execution_count": 69,
     "metadata": {},
     "output_type": "execute_result"
    },
    {
     "data": {
      "text/plain": [
       "getting 601 to 700 of 1930\t\n",
       "getting 701 to 800 of 1930\t\n"
      ]
     },
     "execution_count": 69,
     "metadata": {},
     "output_type": "execute_result"
    },
    {
     "data": {
      "text/plain": [
       "getting 801 to 900 of 1930\t\n",
       "getting 901 to 1000 of 1930\t\n"
      ]
     },
     "execution_count": 69,
     "metadata": {},
     "output_type": "execute_result"
    },
    {
     "data": {
      "text/plain": [
       "getting 1001 to 1100 of 1930\t\n",
       "getting 1101 to 1200 of 1930\t\n"
      ]
     },
     "execution_count": 69,
     "metadata": {},
     "output_type": "execute_result"
    },
    {
     "data": {
      "text/plain": [
       "getting 1201 to 1300 of 1930\t\n"
      ]
     },
     "execution_count": 69,
     "metadata": {},
     "output_type": "execute_result"
    },
    {
     "data": {
      "text/plain": [
       "getting 1301 to 1400 of 1930\t\n"
      ]
     },
     "execution_count": 69,
     "metadata": {},
     "output_type": "execute_result"
    },
    {
     "data": {
      "text/plain": [
       "getting 1401 to 1500 of 1930\t\n",
       "getting 1501 to 1600 of 1930\t\n"
      ]
     },
     "execution_count": 69,
     "metadata": {},
     "output_type": "execute_result"
    },
    {
     "data": {
      "text/plain": [
       "getting 1601 to 1700 of 1930\t\n"
      ]
     },
     "execution_count": 69,
     "metadata": {},
     "output_type": "execute_result"
    },
    {
     "data": {
      "text/plain": [
       "getting 1701 to 1800 of 1930\t\n",
       "getting 1801 to 1900 of 1930\t\n"
      ]
     },
     "execution_count": 69,
     "metadata": {},
     "output_type": "execute_result"
    },
    {
     "data": {
      "text/plain": [
       "getting 1901 to 1930 of 1930\t\n",
       "done.\t\n",
       "took 102.478107s\t\n",
       "retrieving ../data/prepped_train_X_word2vec_wordvecs_6.h5\t\n"
      ]
     },
     "execution_count": 69,
     "metadata": {},
     "output_type": "execute_result"
    },
    {
     "data": {
      "text/plain": [
       "training epoch 1\t\n",
       "training network\t\n",
       "getting 1 to 100 of 1930\t\n",
       "getting 101 to 200 of 1930\t\n"
      ]
     },
     "execution_count": 69,
     "metadata": {},
     "output_type": "execute_result"
    },
    {
     "data": {
      "text/plain": [
       "getting 201 to 300 of 1930\t\n",
       "getting 301 to 400 of 1930\t\n"
      ]
     },
     "execution_count": 69,
     "metadata": {},
     "output_type": "execute_result"
    },
    {
     "data": {
      "text/plain": [
       "getting 401 to 500 of 1930\t\n"
      ]
     },
     "execution_count": 69,
     "metadata": {},
     "output_type": "execute_result"
    },
    {
     "data": {
      "text/plain": [
       "getting 501 to 600 of 1930\t\n"
      ]
     },
     "execution_count": 69,
     "metadata": {},
     "output_type": "execute_result"
    },
    {
     "data": {
      "text/plain": [
       "getting 601 to 700 of 1930\t\n"
      ]
     },
     "execution_count": 69,
     "metadata": {},
     "output_type": "execute_result"
    },
    {
     "data": {
      "text/plain": [
       "getting 701 to 800 of 1930\t\n",
       "getting 801 to 900 of 1930\t\n"
      ]
     },
     "execution_count": 69,
     "metadata": {},
     "output_type": "execute_result"
    },
    {
     "data": {
      "text/plain": [
       "getting 901 to 1000 of 1930\t\n"
      ]
     },
     "execution_count": 69,
     "metadata": {},
     "output_type": "execute_result"
    },
    {
     "data": {
      "text/plain": [
       "getting 1001 to 1100 of 1930\t\n"
      ]
     },
     "execution_count": 69,
     "metadata": {},
     "output_type": "execute_result"
    },
    {
     "data": {
      "text/plain": [
       "getting 1101 to 1200 of 1930\t\n"
      ]
     },
     "execution_count": 69,
     "metadata": {},
     "output_type": "execute_result"
    },
    {
     "data": {
      "text/plain": [
       "getting 1201 to 1300 of 1930\t\n"
      ]
     },
     "execution_count": 69,
     "metadata": {},
     "output_type": "execute_result"
    },
    {
     "data": {
      "text/plain": [
       "getting 1301 to 1400 of 1930\t\n"
      ]
     },
     "execution_count": 69,
     "metadata": {},
     "output_type": "execute_result"
    },
    {
     "data": {
      "text/plain": [
       "getting 1401 to 1500 of 1930\t\n",
       "getting 1501 to 1600 of 1930\t\n"
      ]
     },
     "execution_count": 69,
     "metadata": {},
     "output_type": "execute_result"
    },
    {
     "data": {
      "text/plain": [
       "getting 1601 to 1700 of 1930\t\n"
      ]
     },
     "execution_count": 69,
     "metadata": {},
     "output_type": "execute_result"
    },
    {
     "data": {
      "text/plain": [
       "getting 1701 to 1800 of 1930\t\n",
       "getting 1801 to 1900 of 1930\t\n"
      ]
     },
     "execution_count": 69,
     "metadata": {},
     "output_type": "execute_result"
    },
    {
     "data": {
      "text/plain": [
       "getting 1901 to 1930 of 1930\t\n",
       "done.\t\n",
       "took 107.437483s\t\n"
      ]
     },
     "execution_count": 69,
     "metadata": {},
     "output_type": "execute_result"
    },
    {
     "data": {
      "text/plain": [
       "retrieving ../data/prepped_train_X_word2vec_wordvecs_7.h5\t\n"
      ]
     },
     "execution_count": 69,
     "metadata": {},
     "output_type": "execute_result"
    },
    {
     "data": {
      "text/plain": [
       "training epoch 1\t\n",
       "training network\t\n",
       "getting 1 to 100 of 1930\t\n",
       "getting 101 to 200 of 1930\t\n"
      ]
     },
     "execution_count": 69,
     "metadata": {},
     "output_type": "execute_result"
    },
    {
     "data": {
      "text/plain": [
       "getting 201 to 300 of 1930\t\n",
       "getting 301 to 400 of 1930\t\n"
      ]
     },
     "execution_count": 69,
     "metadata": {},
     "output_type": "execute_result"
    },
    {
     "data": {
      "text/plain": [
       "getting 401 to 500 of 1930\t\n",
       "getting 501 to 600 of 1930\t\n"
      ]
     },
     "execution_count": 69,
     "metadata": {},
     "output_type": "execute_result"
    },
    {
     "data": {
      "text/plain": [
       "getting 601 to 700 of 1930\t\n",
       "getting 701 to 800 of 1930\t\n"
      ]
     },
     "execution_count": 69,
     "metadata": {},
     "output_type": "execute_result"
    },
    {
     "data": {
      "text/plain": [
       "getting 801 to 900 of 1930\t\n",
       "getting 901 to 1000 of 1930\t\n"
      ]
     },
     "execution_count": 69,
     "metadata": {},
     "output_type": "execute_result"
    },
    {
     "data": {
      "text/plain": [
       "getting 1001 to 1100 of 1930\t\n",
       "getting 1101 to 1200 of 1930\t\n"
      ]
     },
     "execution_count": 69,
     "metadata": {},
     "output_type": "execute_result"
    },
    {
     "data": {
      "text/plain": [
       "getting 1201 to 1300 of 1930\t\n",
       "getting 1301 to 1400 of 1930\t\n"
      ]
     },
     "execution_count": 69,
     "metadata": {},
     "output_type": "execute_result"
    },
    {
     "data": {
      "text/plain": [
       "getting 1401 to 1500 of 1930\t\n",
       "getting 1501 to 1600 of 1930\t\n"
      ]
     },
     "execution_count": 69,
     "metadata": {},
     "output_type": "execute_result"
    },
    {
     "data": {
      "text/plain": [
       "getting 1601 to 1700 of 1930\t\n",
       "getting 1701 to 1800 of 1930\t\n"
      ]
     },
     "execution_count": 69,
     "metadata": {},
     "output_type": "execute_result"
    },
    {
     "data": {
      "text/plain": [
       "getting 1801 to 1900 of 1930\t\n",
       "getting 1901 to 1930 of 1930\t\n"
      ]
     },
     "execution_count": 69,
     "metadata": {},
     "output_type": "execute_result"
    },
    {
     "data": {
      "text/plain": [
       "done.\t\n",
       "took 106.059364s\t\n",
       "retrieving ../data/prepped_train_X_word2vec_wordvecs_8.h5\t\n"
      ]
     },
     "execution_count": 69,
     "metadata": {},
     "output_type": "execute_result"
    },
    {
     "data": {
      "text/plain": [
       "training epoch 1\t\n",
       "training network\t\n",
       "getting 1 to 100 of 1930\t\n"
      ]
     },
     "execution_count": 69,
     "metadata": {},
     "output_type": "execute_result"
    },
    {
     "data": {
      "text/plain": [
       "getting 101 to 200 of 1930\t\n",
       "getting 201 to 300 of 1930\t\n"
      ]
     },
     "execution_count": 69,
     "metadata": {},
     "output_type": "execute_result"
    },
    {
     "data": {
      "text/plain": [
       "getting 301 to 400 of 1930\t\n"
      ]
     },
     "execution_count": 69,
     "metadata": {},
     "output_type": "execute_result"
    },
    {
     "data": {
      "text/plain": [
       "getting 401 to 500 of 1930\t\n"
      ]
     },
     "execution_count": 69,
     "metadata": {},
     "output_type": "execute_result"
    },
    {
     "data": {
      "text/plain": [
       "getting 501 to 600 of 1930\t\n",
       "getting 601 to 700 of 1930\t\n"
      ]
     },
     "execution_count": 69,
     "metadata": {},
     "output_type": "execute_result"
    },
    {
     "data": {
      "text/plain": [
       "getting 701 to 800 of 1930\t\n"
      ]
     },
     "execution_count": 69,
     "metadata": {},
     "output_type": "execute_result"
    },
    {
     "data": {
      "text/plain": [
       "getting 801 to 900 of 1930\t\n",
       "getting 901 to 1000 of 1930\t\n"
      ]
     },
     "execution_count": 69,
     "metadata": {},
     "output_type": "execute_result"
    },
    {
     "data": {
      "text/plain": [
       "getting 1001 to 1100 of 1930\t\n",
       "getting 1101 to 1200 of 1930\t\n"
      ]
     },
     "execution_count": 69,
     "metadata": {},
     "output_type": "execute_result"
    },
    {
     "data": {
      "text/plain": [
       "getting 1201 to 1300 of 1930\t\n",
       "getting 1301 to 1400 of 1930\t\n"
      ]
     },
     "execution_count": 69,
     "metadata": {},
     "output_type": "execute_result"
    },
    {
     "data": {
      "text/plain": [
       "getting 1401 to 1500 of 1930\t\n",
       "getting 1501 to 1600 of 1930\t\n"
      ]
     },
     "execution_count": 69,
     "metadata": {},
     "output_type": "execute_result"
    },
    {
     "data": {
      "text/plain": [
       "getting 1601 to 1700 of 1930\t\n",
       "getting 1701 to 1800 of 1930\t\n"
      ]
     },
     "execution_count": 69,
     "metadata": {},
     "output_type": "execute_result"
    },
    {
     "data": {
      "text/plain": [
       "getting 1801 to 1900 of 1930\t\n",
       "getting 1901 to 1930 of 1930\t\n",
       "done.\t\n",
       "took 103.232415s\t\n"
      ]
     },
     "execution_count": 69,
     "metadata": {},
     "output_type": "execute_result"
    },
    {
     "data": {
      "text/plain": [
       "retrieving ../data/prepped_train_X_word2vec_wordvecs_9.h5\t\n"
      ]
     },
     "execution_count": 69,
     "metadata": {},
     "output_type": "execute_result"
    },
    {
     "data": {
      "text/plain": [
       "training epoch 1\t\n",
       "training network\t\n",
       "getting 1 to 100 of 1930\t\n",
       "getting 101 to 200 of 1930\t\n"
      ]
     },
     "execution_count": 69,
     "metadata": {},
     "output_type": "execute_result"
    },
    {
     "data": {
      "text/plain": [
       "getting 201 to 300 of 1930\t\n",
       "getting 301 to 400 of 1930\t\n"
      ]
     },
     "execution_count": 69,
     "metadata": {},
     "output_type": "execute_result"
    },
    {
     "data": {
      "text/plain": [
       "getting 401 to 500 of 1930\t\n",
       "getting 501 to 600 of 1930\t\n"
      ]
     },
     "execution_count": 69,
     "metadata": {},
     "output_type": "execute_result"
    },
    {
     "data": {
      "text/plain": [
       "getting 601 to 700 of 1930\t\n",
       "getting 701 to 800 of 1930\t\n"
      ]
     },
     "execution_count": 69,
     "metadata": {},
     "output_type": "execute_result"
    },
    {
     "data": {
      "text/plain": [
       "getting 801 to 900 of 1930\t\n",
       "getting 901 to 1000 of 1930\t\n"
      ]
     },
     "execution_count": 69,
     "metadata": {},
     "output_type": "execute_result"
    },
    {
     "data": {
      "text/plain": [
       "getting 1001 to 1100 of 1930\t\n",
       "getting 1101 to 1200 of 1930\t\n"
      ]
     },
     "execution_count": 69,
     "metadata": {},
     "output_type": "execute_result"
    },
    {
     "data": {
      "text/plain": [
       "getting 1201 to 1300 of 1930\t\n",
       "getting 1301 to 1400 of 1930\t\n"
      ]
     },
     "execution_count": 69,
     "metadata": {},
     "output_type": "execute_result"
    },
    {
     "data": {
      "text/plain": [
       "getting 1401 to 1500 of 1930\t\n",
       "getting 1501 to 1600 of 1930\t\n"
      ]
     },
     "execution_count": 69,
     "metadata": {},
     "output_type": "execute_result"
    },
    {
     "data": {
      "text/plain": [
       "getting 1601 to 1700 of 1930\t\n",
       "getting 1701 to 1800 of 1930\t\n"
      ]
     },
     "execution_count": 69,
     "metadata": {},
     "output_type": "execute_result"
    },
    {
     "data": {
      "text/plain": [
       "getting 1801 to 1900 of 1930\t\n",
       "getting 1901 to 1930 of 1930\t\n"
      ]
     },
     "execution_count": 69,
     "metadata": {},
     "output_type": "execute_result"
    },
    {
     "data": {
      "text/plain": [
       "done.\t\n",
       "took 108.726502s\t\n"
      ]
     },
     "execution_count": 69,
     "metadata": {},
     "output_type": "execute_result"
    }
   ],
   "source": [
    "confusions = {}\n",
    "predictions = {}\n",
    "\n",
    "for k = 1, 10 do\n",
    "    local criterion = nn.BCECriterion()\n",
    "    local model = get_model(150, 300, .5, 3)\n",
    "    local x_train, y_train, x_test, y_test = get_kth_partition(k-1)\n",
    "\n",
    "    for e = 1, epochs do\n",
    "        print(\"training epoch \"..e)\n",
    "        train(model, criterion, x_train, y_train)\n",
    "    end\n",
    "\n",
    "    local c, preds = evaluate(model, x_test, y_test)\n",
    "    predictions[k] = preds\n",
    "    confusions[k] = c\n",
    "end"
   ]
  },
  {
   "cell_type": "code",
   "execution_count": 71,
   "metadata": {
    "collapsed": true
   },
   "outputs": [
    {
     "data": {
      "text/plain": [
       "set 1\t\n",
       "class 1\t\n",
       "TP 124\t\n",
       "TN 0\t\n",
       "FP 91\t\n",
       "FN 0\t\n",
       "class 2\t\n",
       "TP 28\t\n",
       "TN 86\t\n",
       "FP 24\t\n",
       "FN 77\t\n",
       "class 3\t\n",
       "TP 146\t\n",
       "TN 0\t\n",
       "FP 69\t\n",
       "FN 0\t\n",
       "class 4\t\n",
       "TP 139\t\n",
       "TN 0\t\n",
       "FP 76\t\n",
       "FN 0\t\n",
       "class 5\t\n",
       "TP 5\t\n",
       "TN 71\t\n",
       "FP 11\t\n",
       "FN 128\t\n",
       "class 6\t\n",
       "TP 2\t\n",
       "TN 85\t\n",
       "FP 3\t\n",
       "FN 125\t\n",
       "class 7\t\n",
       "TP 104\t\n",
       "TN 0\t\n",
       "FP 111\t\n",
       "FN 0\t\n",
       "class 8\t\n",
       "TP 176\t\n",
       "TN 0\t\n",
       "FP 39\t\n",
       "FN 0\t\n",
       "  P macro: 0.57663424384429\t\n",
       "  R macro: 0.66772481563292\t\n",
       "  P micro: 0.68720379146919\t\n",
       "  R micro: 0.63098346388164\t\n",
       "set 2\t\n",
       "class 1\t\n",
       "TP 131\t\n",
       "TN 0\t\n",
       "FP 84\t\n",
       "FN 0\t\n",
       "class 2\t\n",
       "TP 29\t\n",
       "TN 104\t\n",
       "FP 39\t\n",
       "FN 43\t\n",
       "class 3\t\n",
       "TP 0\t\n",
       "TN 156\t\n",
       "FP 0\t\n",
       "FN 59\t\n",
       "class 4\t\n",
       "TP 147\t\n",
       "TN 0\t\n",
       "FP 68\t\n",
       "FN 0\t\n",
       "class 5\t\n",
       "TP 70\t\n",
       "TN 0\t\n",
       "FP 145\t\n",
       "FN 0\t\n",
       "class 6\t\n",
       "TP 87\t\n",
       "TN 0\t\n",
       "FP 128\t\n",
       "FN 0\t\n",
       "class 7\t\n",
       "TP 100\t\n",
       "TN 0\t\n",
       "FP 115\t\n",
       "FN 0\t\n",
       "class 8\t\n",
       "TP 173\t\n",
       "TN 4\t\n",
       "FP 35\t\n",
       "FN 3\t\n",
       "  P macro: 0.59591481173289\t\n",
       "  R macro: 0.80133455227924\t\n",
       "  P micro: 0.87544483985765\t\n",
       "  R micro: 0.54585798816568\t\n",
       "set 3\t\n",
       "class 1\t\n",
       "TP 133\t\n",
       "TN 0\t\n",
       "FP 82\t\n",
       "FN 0\t\n",
       "class 2\t\n",
       "TP 0\t\n",
       "TN 121\t\n",
       "FP 0\t\n",
       "FN 94\t\n",
       "class 3\t\n",
       "TP 147\t\n",
       "TN 0\t\n",
       "FP 68\t\n",
       "FN 0\t\n",
       "class 4\t\n",
       "TP 0\t\n",
       "TN 146\t\n",
       "FP 0\t\n",
       "FN 69\t\n",
       "class 5\t\n",
       "TP 75\t\n",
       "TN 0\t\n",
       "FP 140\t\n",
       "FN 0\t\n",
       "class 6\t\n",
       "TP 0\t\n",
       "TN 90\t\n",
       "FP 0\t\n",
       "FN 125\t\n",
       "class 7\t\n",
       "TP 109\t\n",
       "TN 0\t\n",
       "FP 106\t\n",
       "FN 0\t\n",
       "class 8\t\n",
       "TP 177\t\n",
       "TN 0\t\n",
       "FP 38\t\n",
       "FN 0\t\n",
       "  P macro: 0.74884259259259\t\n",
       "  R macro: 0.62909356725146\t\n",
       "  P micro: 0.69032258064516\t\n",
       "  R micro: 0.59665427509294\t\n",
       "set 4\t\n",
       "class 1\t\n",
       "TP 126\t\n",
       "TN 4\t\n",
       "FP 84\t\n",
       "FN 1\t\n",
       "class 2\t\n",
       "TP 132\t\n",
       "TN 0\t\n",
       "FP 83\t\n",
       "FN 0\t\n",
       "class 3\t\n",
       "TP 139\t\n",
       "TN 0\t\n",
       "FP 76\t\n",
       "FN 0\t\n",
       "class 4\t\n",
       "TP 50\t\n",
       "TN 100\t\n",
       "FP 14\t\n",
       "FN 51\t\n",
       "class 5\t\n",
       "TP 73\t\n",
       "TN 0\t\n",
       "FP 142\t\n",
       "FN 0\t\n",
       "class 6\t\n",
       "TP 0\t\n",
       "TN 86\t\n",
       "FP 0\t\n",
       "FN 129\t\n",
       "class 7\t\n",
       "TP 97\t\n",
       "TN 0\t\n",
       "FP 118\t\n",
       "FN 0\t\n",
       "class 8\t\n",
       "TP 170\t\n",
       "TN 0\t\n",
       "FP 44\t\n",
       "FN 1\t\n",
       "  P macro: 0.65525564270088\t\n",
       "  R macro: 0.81175823177549\t\n",
       "  P micro: 0.81237113402062\t\n",
       "  R micro: 0.58413639733136\t\n",
       "set 5\t\n",
       "class 1\t\n",
       "TP 115\t\n",
       "TN 13\t\n",
       "FP 69\t\n",
       "FN 18\t\n",
       "class 2\t\n",
       "TP 114\t\n",
       "TN 1\t\n",
       "FP 100\t\n",
       "FN 0\t\n",
       "class 3\t\n",
       "TP 3\t\n",
       "TN 157\t\n",
       "FP 0\t\n",
       "FN 55\t\n",
       "class 4\t\n",
       "TP 141\t\n",
       "TN 0\t\n",
       "FP 74\t\n",
       "FN 0\t\n",
       "class 5\t\n",
       "TP 27\t\n",
       "TN 52\t\n",
       "FP 33\t\n",
       "FN 103\t\n",
       "class 6\t\n",
       "TP 0\t\n",
       "TN 96\t\n",
       "FP 0\t\n",
       "FN 119\t\n",
       "class 7\t\n",
       "TP 117\t\n",
       "TN 0\t\n",
       "FP 98\t\n",
       "FN 0\t\n",
       "class 8\t\n",
       "TP 173\t\n",
       "TN 0\t\n",
       "FP 42\t\n",
       "FN 0\t\n",
       "  P macro: 0.70377330008239\t\n",
       "  R macro: 0.64444275541364\t\n",
       "  P micro: 0.70081135902637\t\n",
       "  R micro: 0.62420957542909\t\n",
       "set 6\t\n",
       "class 1\t\n",
       "TP 0\t\n",
       "TN 134\t\n",
       "FP 0\t\n",
       "FN 81\t\n",
       "class 2\t\n",
       "TP 77\t\n",
       "TN 55\t\n",
       "FP 49\t\n",
       "FN 34\t\n",
       "class 3\t\n",
       "TP 0\t\n",
       "TN 141\t\n",
       "FP 0\t\n",
       "FN 74\t\n",
       "class 4\t\n",
       "TP 0\t\n",
       "TN 144\t\n",
       "FP 0\t\n",
       "FN 71\t\n",
       "class 5\t\n",
       "TP 0\t\n",
       "TN 74\t\n",
       "FP 0\t\n",
       "FN 141\t\n",
       "class 6\t\n",
       "TP 82\t\n",
       "TN 0\t\n",
       "FP 133\t\n",
       "FN 0\t\n",
       "class 7\t\n",
       "TP 1\t\n",
       "TN 105\t\n",
       "FP 0\t\n",
       "FN 109\t\n",
       "class 8\t\n",
       "TP 169\t\n",
       "TN 0\t\n",
       "FP 46\t\n",
       "FN 0\t\n",
       "  P macro: 0.84818369058034\t\n",
       "  R macro: 0.34511327339264\t\n",
       "  P micro: 0.39285714285714\t\n",
       "  R micro: 0.59139784946237\t\n",
       "set 7\t\n",
       "class 1\t\n",
       "TP 0\t\n",
       "TN 130\t\n",
       "FP 0\t\n",
       "FN 85\t\n",
       "class 2\t\n",
       "TP 129\t\n",
       "TN 2\t\n",
       "FP 83\t\n",
       "FN 1\t\n",
       "class 3\t\n",
       "TP 0\t\n",
       "TN 149\t\n",
       "FP 0\t\n",
       "FN 66\t\n",
       "class 4\t\n",
       "TP 3\t\n",
       "TN 141\t\n",
       "FP 0\t\n",
       "FN 71\t\n",
       "class 5\t\n",
       "TP 76\t\n",
       "TN 0\t\n",
       "FP 137\t\n",
       "FN 2\t\n",
       "class 6\t\n",
       "TP 61\t\n",
       "TN 15\t\n",
       "FP 78\t\n",
       "FN 61\t\n",
       "class 7\t\n",
       "TP 102\t\n",
       "TN 0\t\n",
       "FP 113\t\n",
       "FN 0\t\n",
       "class 8\t\n",
       "TP 175\t\n",
       "TN 0\t\n",
       "FP 40\t\n",
       "FN 0\t\n",
       "  P macro: 0.7130831915167\t\n",
       "  R macro: 0.56887520132654\t\n",
       "  P micro: 0.65666266506603\t\n",
       "  R micro: 0.54809619238477\t\n",
       "set 8\t\n",
       "class 1\t\n",
       "TP 0\t\n",
       "TN 129\t\n",
       "FP 0\t\n",
       "FN 86\t\n",
       "class 2\t\n",
       "TP 128\t\n",
       "TN 0\t\n",
       "FP 87\t\n",
       "FN 0\t\n",
       "class 3\t\n",
       "TP 151\t\n",
       "TN 0\t\n",
       "FP 64\t\n",
       "FN 0\t\n",
       "class 4\t\n",
       "TP 140\t\n",
       "TN 0\t\n",
       "FP 75\t\n",
       "FN 0\t\n",
       "class 5\t\n",
       "TP 69\t\n",
       "TN 0\t\n",
       "FP 146\t\n",
       "FN 0\t\n",
       "class 6\t\n",
       "TP 0\t\n",
       "TN 75\t\n",
       "FP 0\t\n",
       "FN 140\t\n",
       "class 7\t\n",
       "TP 0\t\n",
       "TN 108\t\n",
       "FP 0\t\n",
       "FN 107\t\n",
       "class 8\t\n",
       "TP 167\t\n",
       "TN 0\t\n",
       "FP 48\t\n",
       "FN 0\t\n",
       "  P macro: 0.75694444444444\t\n",
       "  R macro: 0.6284807138393\t\n",
       "  P micro: 0.66329625884732\t\n",
       "  R micro: 0.60966542750929\t\n",
       "set 9\t\n",
       "class 1\t\n",
       "TP 17\t\n",
       "TN 111\t\n",
       "FP 3\t\n",
       "FN 84\t\n",
       "class 2\t\n",
       "TP 128\t\n",
       "TN 0\t\n",
       "FP 87\t\n",
       "FN 0\t\n",
       "class 3\t\n",
       "TP 151\t\n",
       "TN 1\t\n",
       "FP 55\t\n",
       "FN 8\t\n",
       "class 4\t\n",
       "TP 90\t\n",
       "TN 55\t\n",
       "FP 29\t\n",
       "FN 41\t\n",
       "class 5\t\n",
       "TP 73\t\n",
       "TN 0\t\n",
       "FP 142\t\n",
       "FN 0\t\n",
       "class 6\t\n",
       "TP 0\t\n",
       "TN 92\t\n",
       "FP 0\t\n",
       "FN 123\t\n",
       "class 7\t\n",
       "TP 108\t\n",
       "TN 0\t\n",
       "FP 107\t\n",
       "FN 0\t\n",
       "class 8\t\n",
       "TP 167\t\n",
       "TN 0\t\n",
       "FP 48\t\n",
       "FN 0\t\n",
       "  P macro: 0.69649974120083\t\n",
       "  R macro: 0.72799113046978\t\n",
       "  P micro: 0.74167507568113\t\n",
       "  R micro: 0.60945273631841\t\n",
       "set 10\t\n",
       "class 1\t\n",
       "TP 0\t\n",
       "TN 132\t\n",
       "FP 0\t\n",
       "FN 83\t\n",
       "class 2\t\n",
       "TP 120\t\n",
       "TN 0\t\n",
       "FP 95\t\n",
       "FN 0\t\n",
       "class 3\t\n",
       "TP 17\t\n",
       "TN 118\t\n",
       "FP 7\t\n",
       "FN 73\t\n",
       "class 4\t\n",
       "TP 141\t\n",
       "TN 0\t\n",
       "FP 74\t\n",
       "FN 0\t\n",
       "class 5\t\n",
       "TP 79\t\n",
       "TN 0\t\n",
       "FP 136\t\n",
       "FN 0\t\n",
       "class 6\t\n",
       "TP 0\t\n",
       "TN 83\t\n",
       "FP 0\t\n",
       "FN 132\t\n",
       "class 7\t\n",
       "TP 65\t\n",
       "TN 29\t\n",
       "FP 66\t\n",
       "FN 55\t\n",
       "class 8\t\n",
       "TP 169\t\n",
       "TN 0\t\n",
       "FP 46\t\n",
       "FN 0\t\n",
       "  P macro: 0.699375\t\n",
       "  R macro: 0.59533503776925\t\n",
       "  P micro: 0.6331550802139\t\n",
       " "
      ]
     },
     "execution_count": 71,
     "metadata": {},
     "output_type": "execute_result"
    },
    {
     "data": {
      "text/plain": [
       " R micro: 0.58267716535433\t\n",
       "P_macro: 0.69945066586954\t\n",
       "R_macro: 0.64201492791503\t\n",
       "F1_macro: 0.66950322230995\t\n",
       "P_micro: 0.68537999276845\t\n",
       "R_micro: 0.59231310709299\t\n",
       "F1_micro: 0.63545706414173\t\n"
      ]
     },
     "execution_count": 71,
     "metadata": {},
     "output_type": "execute_result"
    }
   ],
   "source": [
    "-- evaluating confusion \"matrices\". not real ones but class-wise TP, TN, FP, FN\n",
    "-- for each of the k partitioned datasets.\n",
    "-- now we need to calculate macro/micro F1/R/P\n",
    "local P_micro_aggr = 0\n",
    "local R_micro_aggr = 0\n",
    "local P_macro_aggr = 0\n",
    "local R_macro_aggr = 0\n",
    "\n",
    "-- the metrics are evaluated for each dataset.\n",
    "-- the micro averaging is calculated on the cumulative tp/fp/fn\n",
    "-- for a class while the macro averaging calculates the metric\n",
    "-- for each class, sums these up and divides them by the class\n",
    "-- count\n",
    "\n",
    "for i = 1, #confusions do\n",
    "    print('set '..i)\n",
    "    local P_aggr = 0\n",
    "    local R_aggr = 0\n",
    "    local TP_aggr = 0\n",
    "    local TN_aggr = 0\n",
    "    local FP_aggr = 0\n",
    "    local FN_aggr = 0\n",
    "\n",
    "    -- TP, TN, FP, FN\n",
    "    for j = 1, 8 do\n",
    "        print('class '..j)\n",
    "        local TP_i = confusions[i][j][1]\n",
    "        print('TP '..TP_i)\n",
    "        local TN_i = confusions[i][j][2]\n",
    "        print('TN '..TN_i)\n",
    "        local FP_i = confusions[i][j][3]\n",
    "        print('FP '..FP_i)\n",
    "        local FN_i = confusions[i][j][4]\n",
    "        print('FN '..FN_i)\n",
    "\n",
    "        TP_aggr = TP_aggr + TP_i\n",
    "        TN_aggr = TN_aggr + TN_i\n",
    "        FP_aggr = FP_aggr + FP_i\n",
    "        FN_aggr = FN_aggr + FN_i\n",
    "\n",
    "        -- macro\n",
    "        local P_i = (TP_i + 1) / (TP_i + FP_i + 1)\n",
    "        P_aggr = P_aggr + P_i\n",
    "\n",
    "        local R_i = (TP_i + 1) / (TP_i + FN_i + 1)\n",
    "        R_aggr = R_aggr + R_i\n",
    "    end\n",
    "\n",
    "    print('  P macro: '..(P_aggr / 8))\n",
    "    print('  R macro: '..(R_aggr / 8))\n",
    "    print('  P micro: '..((TP_aggr + 1) / (TP_aggr + FN_aggr + 1)))\n",
    "    print('  R micro: '..((TP_aggr + 1) / (TP_aggr + FP_aggr + 1)))\n",
    "\n",
    "    P_macro_aggr = P_macro_aggr + (P_aggr / 8)\n",
    "    R_macro_aggr = R_macro_aggr + (R_aggr / 8)\n",
    "    R_micro_aggr = R_micro_aggr + ((TP_aggr + 1) / (TP_aggr + FP_aggr + 1))\n",
    "    P_micro_aggr = P_micro_aggr + ((TP_aggr + 1) / (TP_aggr + FN_aggr + 1))\n",
    "end\n",
    "\n",
    "P_macro = P_macro_aggr / #confusions\n",
    "R_macro = R_macro_aggr / #confusions\n",
    "P_micro = P_micro_aggr / #confusions\n",
    "R_micro = R_micro_aggr / #confusions\n",
    "\n",
    "print('P_macro: '..P_macro)\n",
    "print('R_macro: '..R_macro)\n",
    "print('F1_macro: '..((2 * P_macro * R_macro) / (P_macro + R_macro)))\n",
    "print('P_micro: '..P_micro)\n",
    "print('R_micro: '..R_micro)\n",
    "print('F1_micro: '..((2 * P_micro * R_micro) / (P_micro + R_micro)))"
   ]
  },
  {
   "cell_type": "code",
   "execution_count": 66,
   "metadata": {
    "collapsed": true
   },
   "outputs": [],
   "source": [
    "-- binarized output backpropagated:\n",
    "-- P_macro: 0.68814316016093\n",
    "-- R_macro: 0.67240044711695\n",
    "-- F1_macro: 0.68018072496544\n",
    "-- P_micro: 0.70336728482846\n",
    "-- R_micro: 0.57961665499651\n",
    "-- F1_micro: 0.63552376645006\n",
    "\n",
    "-- raw predictions backpropagated:\n",
    "-- P_macro: 0.69945066586954\n",
    "-- R_macro: 0.64201492791503\n",
    "-- F1_macro: 0.66950322230995\n",
    "-- P_micro: 0.68537999276845\n",
    "-- R_micro: 0.59231310709299\n",
    "-- F1_micro: 0.63545706414173"
   ]
  },
  {
   "cell_type": "markdown",
   "metadata": {},
   "source": [
    "## Sources\n",
    "* **(Kim, 2014):** Convolutional Neural Networks for Sentence Classification by Yoon Kim\n",
    "* **(Zhang and Wallace, 2015):** A Sensitivity Analysis of (and Practitioners' Guide to) Convolutional Neural Networks for Sentence Classification by Ye Zhang, Byron Wallace"
   ]
  }
 ],
 "metadata": {
  "kernelspec": {
   "display_name": "iTorch",
   "language": "lua",
   "name": "itorch"
  },
  "language_info": {
   "name": "lua",
   "version": "20100"
  }
 },
 "nbformat": 4,
 "nbformat_minor": 0
}
