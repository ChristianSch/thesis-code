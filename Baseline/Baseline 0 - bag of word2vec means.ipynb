{
 "cells": [
  {
   "cell_type": "code",
   "execution_count": 1,
   "metadata": {
    "collapsed": true
   },
   "outputs": [],
   "source": [
    "# -*- coding: utf-8 -*-"
   ]
  },
  {
   "cell_type": "code",
   "execution_count": 2,
   "metadata": {
    "collapsed": false
   },
   "outputs": [],
   "source": [
    "import re"
   ]
  },
  {
   "cell_type": "code",
   "execution_count": 3,
   "metadata": {
    "collapsed": true
   },
   "outputs": [],
   "source": [
    "from functools import partial"
   ]
  },
  {
   "cell_type": "code",
   "execution_count": 4,
   "metadata": {
    "collapsed": true
   },
   "outputs": [],
   "source": [
    "from gensim.models import Word2Vec"
   ]
  },
  {
   "cell_type": "code",
   "execution_count": 5,
   "metadata": {
    "collapsed": true
   },
   "outputs": [],
   "source": [
    "import numpy as np\n",
    "import pandas as pd"
   ]
  },
  {
   "cell_type": "code",
   "execution_count": 6,
   "metadata": {
    "collapsed": true
   },
   "outputs": [],
   "source": [
    "from sklearn import cross_validation\n",
    "from sklearn.feature_extraction.text import CountVectorizer"
   ]
  },
  {
   "cell_type": "code",
   "execution_count": 7,
   "metadata": {
    "collapsed": false
   },
   "outputs": [],
   "source": [
    "from skmultilearn.meta.br import BinaryRelevance\n",
    "from skmultilearn.meta.lp import LabelPowerset "
   ]
  },
  {
   "cell_type": "code",
   "execution_count": 8,
   "metadata": {
    "collapsed": true
   },
   "outputs": [],
   "source": [
    "# these are the metrics we want to use for evaluation\n",
    "from sklearn.metrics import hamming_loss\n",
    "from sklearn.metrics import accuracy_score\n",
    "from sklearn.metrics import f1_score\n",
    "from sklearn.metrics import precision_score"
   ]
  },
  {
   "cell_type": "code",
   "execution_count": 18,
   "metadata": {
    "collapsed": true
   },
   "outputs": [],
   "source": [
    "# actual estimators\n",
    "from sklearn.ensemble import RandomForestClassifier\n",
    "from sklearn.svm import LinearSVC\n",
    "from sklearn.naive_bayes import GaussianNB, BernoulliNB, MultinomialNB"
   ]
  },
  {
   "cell_type": "code",
   "execution_count": 10,
   "metadata": {
    "collapsed": false
   },
   "outputs": [
    {
     "data": {
      "text/plain": [
       "'\\nMETRICS = {\\n    \"hamming_loss\": hamming_loss,\\n    \"subset_accuracy\": accuracy_score,\\n    \"precision\": precision_score,\\n    \"macro-f1\": partial(f1_score, average=\"macro\"),\\n    \"micro-f1\": partial(f1_score, average=\"micro\"),\\n}\\n'"
      ]
     },
     "execution_count": 10,
     "metadata": {},
     "output_type": "execute_result"
    }
   ],
   "source": [
    "# scoring metrics used for evaluation. namely precision, accuracy, hamming loss (recall)\n",
    "# and f_1-score with several different averages\n",
    "METRICS = ['precision_macro', 'recall_macro', 'f1_macro', 'precision_micro', 'recall_micro', 'f1_micro']"
   ]
  },
  {
   "cell_type": "markdown",
   "metadata": {},
   "source": [
    "## Step 1: Prepare Training Data"
   ]
  },
  {
   "cell_type": "code",
   "execution_count": 11,
   "metadata": {
    "collapsed": false
   },
   "outputs": [],
   "source": [
    "test_data = pd.read_csv('../data/atmosphere_train.csv', delimiter=\",\")"
   ]
  },
  {
   "cell_type": "code",
   "execution_count": 12,
   "metadata": {
    "collapsed": false
   },
   "outputs": [],
   "source": [
    "# loading the already trained word embedding model\n",
    "model = Word2Vec.load(\"../prep/300features_40minwords_10context\")"
   ]
  },
  {
   "cell_type": "markdown",
   "metadata": {},
   "source": [
    "The $j$-th component of the label vector is $1$ if the $j$-th label value is greater or equal to three. $0$ is used otherwise.\n",
    "\n",
    "$v_{ij} = I[l_{ij} \\geq 3]$"
   ]
  },
  {
   "cell_type": "code",
   "execution_count": 13,
   "metadata": {
    "collapsed": true
   },
   "outputs": [],
   "source": [
    "def make_wordlist(text, remove_stops=False):\n",
    "    \"\"\"\n",
    "    Function that cleans the movie description text. Removes\n",
    "    non-alphabetical letters and optionally english stop words.\n",
    "    \"\"\"\n",
    "    # first step is to remove non-alphabetical characters\n",
    "    text = re.sub(\"[^a-zA-Z]\", \" \", text)\n",
    "    \n",
    "    words = text.lower().split()\n",
    "    \n",
    "    if remove_stops:\n",
    "        stops = set(stopwords.words(\"english\"))\n",
    "        return [w for w in words if not w in stops]\n",
    "    \n",
    "    return words"
   ]
  },
  {
   "cell_type": "code",
   "execution_count": 14,
   "metadata": {
    "collapsed": true
   },
   "outputs": [],
   "source": [
    "def get_feature_vec(words, f_size, model):\n",
    "    n = .0\n",
    "    x_i = np.zeros(f_size, dtype=\"float32\")\n",
    "    \n",
    "    # internal word list of word2vec\n",
    "    idx2words = set(model.index2word)\n",
    "    \n",
    "    s = filter(lambda e: e in idx2words, words)\n",
    "\n",
    "    for w in s:\n",
    "        n += 1.\n",
    "        x_i = np.add(x_i, model[w])\n",
    "    \n",
    "    return np.divide(x_i, n)"
   ]
  },
  {
   "cell_type": "code",
   "execution_count": 15,
   "metadata": {
    "collapsed": false
   },
   "outputs": [],
   "source": [
    "def raw_row_to_X_y(row, f_size, model):\n",
    "    \"\"\"\n",
    "    Outputs tuple for an instance containing of the (Xi, yi) feature vector/label vector pair.\n",
    "    The label vector is given by the equation above.\n",
    "    \"\"\"\n",
    "    \n",
    "    # prepare the labels\n",
    "    labels = row[\"labels\"].split(\",\")\n",
    "\n",
    "    y = [\n",
    "        int(\"atmosphere_food_for_thought\" in labels),\n",
    "        int(\"atmosphere_funny\" in labels),\n",
    "        int(\"atmosphere_action\" in labels),\n",
    "        int(\"atmosphere_emotional\" in labels),\n",
    "        int(\"atmosphere_romantic\" in labels),\n",
    "        int(\"atmosphere_dark\" in labels),\n",
    "        int(\"atmosphere_brutal\" in labels),\n",
    "        int(\"atmosphere_thrilling\" in labels)\n",
    "    ]\n",
    "    \n",
    "    # create feature vector with word2vec model\n",
    "    X = get_feature_vec(make_wordlist(row[\"descr\"]), f_size, model)\n",
    "    \n",
    "    return (X, y)"
   ]
  },
  {
   "cell_type": "code",
   "execution_count": 16,
   "metadata": {
    "collapsed": false
   },
   "outputs": [],
   "source": [
    "X = []\n",
    "y = []\n",
    "\n",
    "for idx, movie in test_data.iterrows():\n",
    "    if idx > 1:\n",
    "        t = raw_row_to_X_y(movie, 300, model)\n",
    "        X.append(t[0])\n",
    "        y.append(t[1])\n",
    "\n",
    "y = np.array(y)"
   ]
  },
  {
   "cell_type": "code",
   "execution_count": 17,
   "metadata": {
    "collapsed": false
   },
   "outputs": [],
   "source": [
    "import time\n",
    "\n",
    "def train(e, X, y):\n",
    "    \"\"\"\n",
    "    Train all the estimators on the current dataset.\n",
    "    The fit method should reset internals anyway.\n",
    "    \"\"\"\n",
    "    e.fit(X, y)\n",
    "        \n",
    "\n",
    "def test(e, X, y):\n",
    "    # calculating metrics based on the training set\n",
    "    for metric in METRICS:\n",
    "        scores = cross_validation.cross_val_score(e, X, y, cv=10, scoring=metric)\n",
    "\n",
    "        print \"\\t\\tmean %s: %s\" % (metric, scores.sum() / len(scores))\n",
    "\n",
    "\n",
    "def run_est(X, y):\n",
    "    \"\"\"\n",
    "    Prepare, train and test the estimators on the given dataset.\n",
    "    \"\"\"\n",
    "    tic = time.time()\n",
    "\n",
    "    X_train, X_test, y_train, y_test = cross_validation.train_test_split(X, y,\n",
    "                                            test_size=0.1, random_state=0)\n",
    "\n",
    "    # all means of given METRICS\n",
    "    means = []\n",
    "\n",
    "    for e_name, e in ESTIMATORS.items():\n",
    "        # create new estimator with equivalent parameters as the current one\n",
    "        e_ = e # .clone() FIXME: clone the classifier?\n",
    "\n",
    "        print \"\\t-> training + testing \", e_name\n",
    "\n",
    "        train(e_, X_train, y_train)\n",
    "        print \"\\t-> %ds elapsed for training\" % (time.time() - tic,)\n",
    "\n",
    "        ms = test(e_, X_test, y_test)\n",
    "        print \"\\t-> %ds elapsed for testing\" % (time.time() - tic,)\n",
    "\n",
    "        means.append(ms)\n",
    "\n",
    "    return (X_train, y_train, X_test, y_test, means)"
   ]
  },
  {
   "cell_type": "code",
   "execution_count": 19,
   "metadata": {
    "collapsed": false
   },
   "outputs": [],
   "source": [
    "BR_ESTIMATORS = {\n",
    "    #\"BR Random Forest\": BinaryRelevance(RandomForestClassifier(n_estimators = 100)),\n",
    "    #\"BR LinearSVC\": BinaryRelevance(LinearSVC(random_state=1)),\n",
    "    #\"BR Gaussian Naive Bayes\": BinaryRelevance(GaussianNB()),\n",
    "    #\"BR Bernoulli Naive Bayes\": BinaryRelevance(BernoulliNB()),\n",
    "    \"BR LinearSVM\": BinaryRelevance(svm.SVC(kernel='linear', probability=True))\n",
    "}\n",
    "LP_ESTIMATORS = {\n",
    "    #\"LP Random Forest\": LabelPowerset(RandomForestClassifier(n_estimators = 100)),\n",
    "    #\"LP LinearSVC\": LabelPowerset(LinearSVC(random_state=1)),\n",
    "    #\"LP Gaussian Naive Bayes\": LabelPowerset(GaussianNB()),\n",
    "    #\"LP Bernoulli Naive Bayes\": LabelPowerset(BernoulliNB()),\n",
    "    \"LP LinearSVM\": LabelPowerset(svm.SVC(kernel='linear', probability=True))\n",
    "}\n",
    "\n",
    "# merge all dicts\n",
    "# ESTIMATORS = BR_ESTIMATORS.copy()\n",
    "# ESTIMATORS.update(LP_ESTIMATORS)\n",
    "# ESTIMATORS.update(OVR_ESTIMATOR)\n",
    "#ESTIMATORS = LP_ESTIMATORS.copy()"
   ]
  },
  {
   "cell_type": "code",
   "execution_count": 21,
   "metadata": {
    "collapsed": false
   },
   "outputs": [
    {
     "name": "stdout",
     "output_type": "stream",
     "text": [
      "\t-> training + testing  LP LinearSVM\n",
      "\t-> 13s elapsed for training\n",
      "\t\tmean precision_macro: 0.451352813853\n",
      "\t\tmean recall_macro: 0.75\n",
      "\t\tmean f1_macro: 0.553609353336\n",
      "\t\tmean precision_micro: 0.601803751804\n",
      "\t\tmean recall_micro: 0.803875678274\n",
      "\t\tmean f1_micro: 0.687302810125\n",
      "\t-> 36s elapsed for testing\n"
     ]
    }
   ],
   "source": [
    "ESTIMATORS = LP_ESTIMATORS.copy()\n",
    "data = run_est(X, y)"
   ]
  },
  {
   "cell_type": "code",
   "execution_count": 22,
   "metadata": {
    "collapsed": false
   },
   "outputs": [
    {
     "name": "stdout",
     "output_type": "stream",
     "text": [
      "\t-> training + testing  BR LinearSVM\n",
      "\t-> 49s elapsed for training\n",
      "\t\tmean precision_macro: 0.591517896931\n",
      "\t\tmean recall_macro: 0.695348401598\n",
      "\t\tmean f1_macro: 0.602270939252\n",
      "\t\tmean precision_micro: 0.673959331204\n",
      "\t\tmean recall_micro: 0.774159196396\n",
      "\t\tmean f1_micro: 0.718461619928\n",
      "\t-> 80s elapsed for testing\n"
     ]
    }
   ],
   "source": [
    "ESTIMATORS = BR_ESTIMATORS.copy()\n",
    "data = run_est(X, y)"
   ]
  },
  {
   "cell_type": "code",
   "execution_count": 107,
   "metadata": {
    "collapsed": false
   },
   "outputs": [
    {
     "name": "stdout",
     "output_type": "stream",
     "text": [
      "\t-> training + testing  OVR Gaussian Naive Bayes\n",
      "\t-> 0s elapsed for training\n",
      "\t\tmean precision_macro: 0.708004513868\n",
      "\t\tmean recall_macro: 0.643365078119\n",
      "\t\tmean f1_macro: 0.658558061253\n",
      "\t\tmean precision_micro: 0.720409322982\n",
      "\t\tmean recall_micro: 0.65420049392\n",
      "\t\tmean f1_micro: 0.682610524093\n",
      "\t-> 2s elapsed for testing\n",
      "\t-> training + testing  OVR LinearSVC\n",
      "\t-> 3s elapsed for training\n",
      "\t\tmean precision_macro: 0.69828177681\n",
      "\t\tmean recall_macro: 0.706454682014\n",
      "\t\tmean f1_macro: 0.682575866338\n",
      "\t\tmean precision_micro: 0.719455060709\n",
      "\t\tmean recall_micro: 0.749756364628\n",
      "\t\tmean f1_micro: 0.731668948538\n",
      "\t-> 10s elapsed for testing\n",
      "\t-> training + testing  OVR Random Forest\n",
      "\t-> 30s elapsed for training\n",
      "\t\tmean precision_macro: 0.685258792742\n",
      "\t\tmean recall_macro: 0.70580813139\n",
      "\t\tmean f1_macro: 0.683321498422\n",
      "\t\tmean precision_micro: 0.720142806777\n",
      "\t\tmean recall_micro: 0.756564608885\n",
      "\t\tmean f1_micro: 0.741582402595\n",
      "\t-> 306s elapsed for testing\n",
      "\t-> training + testing  OVR Bernoulli Naive Bayes\n",
      "\t-> 307s elapsed for training\n",
      "\t\tmean precision_macro: 0.69875611886\n",
      "\t\tmean recall_macro: 0.656600091085\n",
      "\t\tmean f1_macro: 0.663567574549\n",
      "\t\tmean precision_micro: 0.715123987967\n",
      "\t\tmean recall_micro: 0.675498346769\n",
      "\t\tmean f1_micro: 0.691590952184\n",
      "\t-> 311s elapsed for testing\n"
     ]
    }
   ],
   "source": [
    "from sklearn import preprocessing\n",
    "X_normalized = preprocessing.normalize(X, norm='l2')\n",
    "data = run_est(X_normalized, y)"
   ]
  },
  {
   "cell_type": "code",
   "execution_count": 48,
   "metadata": {
    "collapsed": true
   },
   "outputs": [],
   "source": [
    "def print_labels(labels):\n",
    "    atmos = [\"food_for_thought\", \"funny\", \"action\", \"emotional\", \"romantic\", \"dark\", \"brutal\", \"thrilling\"]\n",
    "    ats = []\n",
    "    \n",
    "    for a, l in zip(atmos, labels):\n",
    "        if l:\n",
    "            ats.append(a)\n",
    "    print ','.join(ats)"
   ]
  },
  {
   "cell_type": "code",
   "execution_count": 106,
   "metadata": {
    "collapsed": false,
    "scrolled": false
   },
   "outputs": [
    {
     "name": "stdout",
     "output_type": "stream",
     "text": [
      "->  OVR Gaussian Naive Bayes\n",
      "funny,romantic\n",
      "['food_for_thought', 'funny', 'action', 'emotional', 'romantic', 'dark', 'brutal', 'thrilling']\n",
      "[  9.36186838e-12   1.00000000e+00   7.40274917e-05   2.84274658e-07\n",
      "   9.58459953e-01   1.45838440e-09   2.07169483e-09   5.25604542e-08]\n",
      "->  OVR LinearSVC\n",
      "funny,thrilling\n",
      "['food_for_thought', 'funny', 'action', 'emotional', 'romantic', 'dark', 'brutal', 'thrilling']\n",
      "->  OVR Random Forest\n",
      "funny,action,thrilling\n",
      "['food_for_thought', 'funny', 'action', 'emotional', 'romantic', 'dark', 'brutal', 'thrilling']\n",
      "[ 0.2980119   0.87392857  0.58349856  0.4053254   0.28361111  0.11227381\n",
      "  0.22160132  0.61161255]\n",
      "->  OVR Bernoulli Naive Bayes\n",
      "funny,romantic\n",
      "['food_for_thought', 'funny', 'action', 'emotional', 'romantic', 'dark', 'brutal', 'thrilling']\n",
      "[  2.02092454e-05   9.99996098e-01   2.70660183e-03   1.07987025e-02\n",
      "   8.92001349e-01   6.21757080e-05   1.42615937e-05   8.20677117e-04]\n",
      "means\n",
      "0.0993440380056\n",
      "0.957974889715\n",
      "0.19542639544\n",
      "0.138708127876\n",
      "0.711357470976\n",
      "0.0374453288967\n",
      "0.0738718596722\n",
      "0.20414442793\n"
     ]
    }
   ],
   "source": [
    "# let's test an actual movie!\n",
    "plot = \"\"\"Theodore is a lonely man in the final stages of his divorce. When he's not working as a letter writer, his down time is spent playing video games and occasionally hanging out with friends. He decides to purchase the new OS1, which is advertised as the world's first artificially intelligent operating system, \"It's not just an operating system, it's a consciousness,\" the ad states. Theodore quickly finds himself drawn in with Samantha, the voice behind his OS1. As they start spending time together they grow closer and closer and eventually find themselves in love. Having fallen in love with his OS, Theodore finds himself dealing with feelings of both great joy and doubt. As an OS, Samantha has powerful intelligence that she uses to help Theodore in ways others hadn't, but how does she help him deal with his inner conflict of being in love with an OS?\"\"\"\n",
    "ys = []\n",
    "\n",
    "for e_name, e in ESTIMATORS.items():\n",
    "    y_pred = e.predict(X_i.reshape(1, -1))\n",
    "    print \"-> \", e_name\n",
    "    print_labels(y_pred[0])\n",
    "\n",
    "    try:\n",
    "        print [\"food_for_thought\", \"funny\", \"action\", \"emotional\", \"romantic\", \"dark\", \"brutal\", \"thrilling\"]\n",
    "        print e.predict_proba(X_i.reshape(1,-1))[0]\n",
    "        ys += [e.predict_proba(X_i.reshape(1,-1))[0]]\n",
    "    except:\n",
    "        pass\n",
    "\n",
    "print \"means\"\n",
    "for i in range(0,8):\n",
    "    a = [ys[0][i], ys[1][i], ys[2][i]]\n",
    "    print sum(a) / 3"
   ]
  },
  {
   "cell_type": "code",
   "execution_count": 103,
   "metadata": {
    "collapsed": false,
    "scrolled": true
   },
   "outputs": [
    {
     "name": "stdout",
     "output_type": "stream",
     "text": [
      "->  OVR Gaussian Naive Bayes\n",
      "funny\n",
      "['food_for_thought', 'funny', 'action', 'emotional', 'romantic', 'dark', 'brutal', 'thrilling']\n",
      "[  4.03274939e-04   9.98498123e-01   1.19921116e-01   1.83141993e-01\n",
      "   4.09833452e-02   1.31541334e-02   1.80469442e-05   7.63107041e-02]\n",
      "->  OVR LinearSVC\n",
      "food_for_thought,funny,action,emotional,thrilling\n",
      "['food_for_thought', 'funny', 'action', 'emotional', 'romantic', 'dark', 'brutal', 'thrilling']\n",
      "->  OVR Random Forest\n",
      "food_for_thought,funny,action,emotional,thrilling\n",
      "['food_for_thought', 'funny', 'action', 'emotional', 'romantic', 'dark', 'brutal', 'thrilling']\n",
      "[ 0.6265363   0.59740278  0.63141522  0.74914646  0.29734524  0.33130014\n",
      "  0.37263095  0.81935714]\n",
      "->  OVR Bernoulli Naive Bayes\n",
      "funny,emotional,romantic\n",
      "['food_for_thought', 'funny', 'action', 'emotional', 'romantic', 'dark', 'brutal', 'thrilling']\n",
      "[ 0.24435795  0.97975817  0.02872858  0.96303076  0.72018321  0.03704753\n",
      "  0.00624693  0.17363003]\n",
      "means\n",
      "0.290432507289\n",
      "0.858553023968\n",
      "0.260021639754\n",
      "0.631773071301\n",
      "0.352837263154\n",
      "0.127167268078\n",
      "0.126298643945\n",
      "0.35643262646\n"
     ]
    }
   ],
   "source": [
    "plot = \"\"\"In Paris, the aristocratic and intellectual Philippe is a quadriplegic millionaire who is interviewing candidates for the position of his carer, with his red-haired secretary Magalie. Out of the blue, the rude African Driss cuts the line of candidates and brings a document from the Social Security and asks Phillipe to sign it to prove that he is seeking a job position so he can receive his unemployment benefit. Philippe challenges Driss, offering him a trial period of one month to gain experience helping him. Then Driss can decide whether he would like to stay with him or not. Driss accepts the challenge and moves to the mansion, changing the boring life of Phillipe and his employees.\"\"\"\n",
    "X_i = get_feature_vec(make_wordlist(plot), 200, model)\n",
    "ys = []\n",
    "\n",
    "for e_name, e in ESTIMATORS.items():\n",
    "    y_pred = e.predict(X_i.reshape(1, -1))\n",
    "    print \"-> \", e_name\n",
    "    print_labels(y_pred[0])\n",
    "\n",
    "    try:\n",
    "        print [\"food_for_thought\", \"funny\", \"action\", \"emotional\", \"romantic\", \"dark\", \"brutal\", \"thrilling\"]\n",
    "        print e.predict_proba(X_i.reshape(1,-1))[0]\n",
    "        ys += [e.predict_proba(X_i.reshape(1,-1))[0]]\n",
    "    except:\n",
    "        pass\n",
    "\n",
    "print \"means\"\n",
    "for i in range(0,8):\n",
    "    a = [ys[0][i], ys[1][i], ys[2][i]]\n",
    "    print sum(a) / 3"
   ]
  },
  {
   "cell_type": "code",
   "execution_count": 105,
   "metadata": {
    "collapsed": false
   },
   "outputs": [
    {
     "name": "stdout",
     "output_type": "stream",
     "text": [
      "->  OVR Gaussian Naive Bayes\n",
      "funny,romantic\n",
      "['food_for_thought', 'funny', 'action', 'emotional', 'romantic', 'dark', 'brutal', 'thrilling']\n",
      "[  9.36186838e-12   1.00000000e+00   7.40274917e-05   2.84274658e-07\n",
      "   9.58459953e-01   1.45838440e-09   2.07169483e-09   5.25604542e-08]\n",
      "->  OVR LinearSVC\n",
      "funny,thrilling\n",
      "['food_for_thought', 'funny', 'action', 'emotional', 'romantic', 'dark', 'brutal', 'thrilling']\n",
      "->  OVR Random Forest\n",
      "funny,action,thrilling\n",
      "['food_for_thought', 'funny', 'action', 'emotional', 'romantic', 'dark', 'brutal', 'thrilling']\n",
      "[ 0.2980119   0.87392857  0.58349856  0.4053254   0.28361111  0.11227381\n",
      "  0.22160132  0.61161255]\n",
      "->  OVR Bernoulli Naive Bayes\n",
      "funny,romantic\n",
      "['food_for_thought', 'funny', 'action', 'emotional', 'romantic', 'dark', 'brutal', 'thrilling']\n",
      "[  2.02092454e-05   9.99996098e-01   2.70660183e-03   1.07987025e-02\n",
      "   8.92001349e-01   6.21757080e-05   1.42615937e-05   8.20677117e-04]\n",
      "means\n",
      "0.0993440380056\n",
      "0.957974889715\n",
      "0.19542639544\n",
      "0.138708127876\n",
      "0.711357470976\n",
      "0.0374453288967\n",
      "0.0738718596722\n",
      "0.20414442793\n"
     ]
    }
   ],
   "source": [
    "plot = \"\"\"Jim, Oz, Finch and Kevin are four friends who make a pact that before they graduate they will all lose their virginity. The hard job now is how to reach that goal by prom night. Whilst Oz begins singing to grab attention and Kevin tries to persuade his girlfriend, Finch tries any easy route of spreading rumors and Jim fails miserably. Whether it is being caught on top of a pie or on the Internet, Jim always end up with his trusty sex advice from his father. Will they achieve their goal of getting laid by prom night? or will they learn something much different.\"\"\"\n",
    "X_i = get_feature_vec(make_wordlist(plot), 200, model)\n",
    "ys = []\n",
    "\n",
    "for e_name, e in ESTIMATORS.items():\n",
    "    y_pred = e.predict(X_i.reshape(1, -1))\n",
    "    print \"-> \", e_name\n",
    "    print_labels(y_pred[0])\n",
    "\n",
    "    try:\n",
    "        print [\"food_for_thought\", \"funny\", \"action\", \"emotional\", \"romantic\", \"dark\", \"brutal\", \"thrilling\"]\n",
    "        print e.predict_proba(X_i.reshape(1,-1))[0]\n",
    "        ys += [e.predict_proba(X_i.reshape(1,-1))[0]]\n",
    "    except:\n",
    "        pass\n",
    "\n",
    "print \"means\"\n",
    "for i in range(0,8):\n",
    "    a = [ys[0][i], ys[1][i], ys[2][i]]\n",
    "    print sum(a) / 3"
   ]
  },
  {
   "cell_type": "code",
   "execution_count": 64,
   "metadata": {
    "collapsed": false
   },
   "outputs": [
    {
     "name": "stdout",
     "output_type": "stream",
     "text": [
      "->  OVR Gaussian Naive Bayes\n",
      "food_for_thought,action,dark,brutal,thrilling\n",
      "->  OVR LinearSVC\n",
      "food_for_thought,action,emotional,dark,brutal,thrilling\n",
      "->  OVR Random Forest\n",
      "food_for_thought,action,emotional,dark,brutal,thrilling\n",
      "->  OVR Bernoulli Naive Bayes\n",
      "food_for_thought,action,dark,brutal,thrilling\n"
     ]
    }
   ],
   "source": [
    "plot = \"\"\"Death Row guards at a penitentiary, in the 1930's, have a moral dilemma with their job when they discover one of their prisoners, a convicted murderer, has a special gift.\"\"\"\n",
    "X_i = get_feature_vec(make_wordlist(plot), 200, model)\n",
    "\n",
    "for e_name, e in ESTIMATORS.items():\n",
    "    y_pred = e.predict(X_i.reshape(1, -1))\n",
    "    print \"-> \", e_name\n",
    "    print_labels(y_pred[0])\n"
   ]
  },
  {
   "cell_type": "code",
   "execution_count": 65,
   "metadata": {
    "collapsed": false
   },
   "outputs": [
    {
     "name": "stdout",
     "output_type": "stream",
     "text": [
      "->  OVR Gaussian Naive Bayes\n",
      "food_for_thought,action,dark,brutal,thrilling\n",
      "->  OVR LinearSVC\n",
      "food_for_thought,action,emotional,dark,brutal,thrilling\n",
      "->  OVR Random Forest\n",
      "food_for_thought,action,dark,brutal,thrilling\n",
      "->  OVR Bernoulli Naive Bayes\n",
      "food_for_thought,action,dark,brutal,thrilling\n"
     ]
    }
   ],
   "source": [
    "plot = \"\"\"Thomas A. Anderson is a man living two lives. By day he is an average computer programmer and by night a hacker known as Neo. Neo has always questioned his reality, but the truth is far beyond his imagination. Neo finds himself targeted by the police when he is contacted by Morpheus, a legendary computer hacker branded a terrorist by the government. Morpheus awakens Neo to the real world, a ravaged wasteland where most of humanity have been captured by a race of machines that live off of the humans' body heat and electrochemical energy and who imprison their minds within an artificial reality known as the Matrix. As a rebel against the machines, Neo must return to the Matrix and confront the agents: super-powerful computer programs devoted to snuffing out Neo and the entire human rebellion.\"\"\"\n",
    "X_i = get_feature_vec(make_wordlist(plot), 200, model)\n",
    "\n",
    "for e_name, e in ESTIMATORS.items():\n",
    "    y_pred = e.predict(X_i.reshape(1, -1))\n",
    "    print \"-> \", e_name\n",
    "    print_labels(y_pred[0])"
   ]
  },
  {
   "cell_type": "code",
   "execution_count": 66,
   "metadata": {
    "collapsed": false
   },
   "outputs": [
    {
     "name": "stdout",
     "output_type": "stream",
     "text": [
      "->  OVR Gaussian Naive Bayes\n",
      "action,emotional,dark,thrilling\n",
      "->  OVR LinearSVC\n",
      "food_for_thought,action,emotional,dark,thrilling\n",
      "->  OVR Random Forest\n",
      "food_for_thought,funny,action,emotional,thrilling\n",
      "->  OVR Bernoulli Naive Bayes\n",
      "food_for_thought,action,emotional,dark,thrilling\n"
     ]
    }
   ],
   "source": [
    "plot = \"\"\"An adaptation of F. Scott Fitzgerald's Long Island-set novel, where Midwesterner Nick Carraway is lured into the lavish world of his neighbor, Jay Gatsby. Soon enough, however, Carraway will see through the cracks of Gatsby's nouveau riche existence, where obsession, madness, and tragedy await.\"\"\"\n",
    "X_i = get_feature_vec(make_wordlist(plot), 200, model)\n",
    "\n",
    "for e_name, e in ESTIMATORS.items():\n",
    "    y_pred = e.predict(X_i.reshape(1, -1))\n",
    "    print \"-> \", e_name\n",
    "    print_labels(y_pred[0])"
   ]
  },
  {
   "cell_type": "code",
   "execution_count": 67,
   "metadata": {
    "collapsed": false
   },
   "outputs": [
    {
     "name": "stdout",
     "output_type": "stream",
     "text": [
      "->  OVR Gaussian Naive Bayes\n",
      "funny,emotional,romantic\n",
      "->  OVR LinearSVC\n",
      "food_for_thought,funny,emotional,thrilling\n",
      "->  OVR Random Forest\n",
      "food_for_thought,funny,action,emotional,thrilling\n",
      "->  OVR Bernoulli Naive Bayes\n",
      "funny,emotional,romantic\n"
     ]
    }
   ],
   "source": [
    "plot = \"\"\"The script begins as a young Hughes directs one of Scorsese's favorite films, Hell's Angels. Hughes was so obsessed with perfection in the aerial sequences that he waits forever for perfect conditions, right down to cloud formations. The Aviator ends in 1946, when Hughes was still a dashing young man and romancing actresses like Ava Gardner and Katharine Hepburn.\"\"\"\n",
    "X_i = get_feature_vec(make_wordlist(plot), 200, model)\n",
    "\n",
    "for e_name, e in ESTIMATORS.items():\n",
    "    y_pred = e.predict(X_i.reshape(1, -1))\n",
    "    print \"-> \", e_name\n",
    "    print_labels(y_pred[0])"
   ]
  },
  {
   "cell_type": "code",
   "execution_count": 104,
   "metadata": {
    "collapsed": false
   },
   "outputs": [
    {
     "name": "stdout",
     "output_type": "stream",
     "text": [
      "->  OVR Gaussian Naive Bayes\n",
      "food_for_thought,funny,emotional,romantic\n",
      "['food_for_thought', 'funny', 'action', 'emotional', 'romantic', 'dark', 'brutal', 'thrilling']\n",
      "[  9.91403262e-01   6.18741479e-01   4.35746252e-05   9.99999898e-01\n",
      "   9.99940118e-01   1.41430354e-03   5.22108293e-05   2.66620874e-01]\n",
      "->  OVR LinearSVC\n",
      "food_for_thought,emotional,romantic,thrilling\n",
      "['food_for_thought', 'funny', 'action', 'emotional', 'romantic', 'dark', 'brutal', 'thrilling']\n",
      "->  OVR Random Forest\n",
      "food_for_thought,action,emotional,romantic,thrilling\n",
      "['food_for_thought', 'funny', 'action', 'emotional', 'romantic', 'dark', 'brutal', 'thrilling']\n",
      "[ 0.69231828  0.26387516  0.72052617  1.          1.          0.25954075\n",
      "  0.37003805  1.        ]\n",
      "->  OVR Bernoulli Naive Bayes\n",
      "food_for_thought,funny,emotional,romantic\n",
      "['food_for_thought', 'funny', 'action', 'emotional', 'romantic', 'dark', 'brutal', 'thrilling']\n",
      "[  9.56000993e-01   8.42366746e-01   3.12821475e-04   9.99974417e-01\n",
      "   9.99772876e-01   6.92070938e-03   2.54205205e-03   1.31267571e-01]\n"
     ]
    }
   ],
   "source": [
    "plot = \"\"\"84 years later, a 101-year-old woman named Rose DeWitt Bukater tells the story to her granddaughter Lizzy Calvert, Brock Lovett, Lewis Bodine, Bobby Buell and Anatoly Mikailavich on the Keldysh about her life set in April 10th 1912, on a ship called Titanic when young Rose boards the departing ship with the upper-class passengers and her mother, Ruth DeWitt Bukater, and her fiancé, Caledon Hockley. Meanwhile, a drifter and artist named Jack Dawson and his best friend Fabrizio De Rossi win third-class tickets to the ship in a game. And she explains the whole story from departure until the death of Titanic on its first and last voyage April 15th, 1912 at 2:20 in the morning.\"\"\"\n",
    "X_i = get_feature_vec(make_wordlist(plot), 200, model)\n",
    "\n",
    "for e_name, e in ESTIMATORS.items():\n",
    "    y_pred = e.predict(X_i.reshape(1, -1))\n",
    "    print \"-> \", e_name\n",
    "    print_labels(y_pred[0])\n",
    "    try:\n",
    "        print [\"food_for_thought\", \"funny\", \"action\", \"emotional\", \"romantic\", \"dark\", \"brutal\", \"thrilling\"]\n",
    "        print e.predict_proba(X_i.reshape(1,-1))[0]\n",
    "    except:\n",
    "        pass"
   ]
  },
  {
   "cell_type": "code",
   "execution_count": 70,
   "metadata": {
    "collapsed": false
   },
   "outputs": [
    {
     "name": "stdout",
     "output_type": "stream",
     "text": [
      "->  OVR Gaussian Naive Bayes\n",
      "food_for_thought,action,dark,brutal,thrilling\n",
      "->  OVR LinearSVC\n",
      "food_for_thought,funny,action,emotional,dark,brutal,thrilling\n",
      "->  OVR Random Forest\n",
      "food_for_thought,funny,action,emotional,brutal,thrilling\n",
      "->  OVR Bernoulli Naive Bayes\n",
      "food_for_thought,action,dark,brutal,thrilling\n"
     ]
    }
   ],
   "source": [
    "plot = \"\"\"Former dentist, Dr. King Schultz, buys the freedom of a slave, Django, and trains him with the intent to make him his deputy bounty hunter. Instead, he is led to the site of Django's wife who is under the hands of Calvin Candie, a ruthless plantation owner.\"\"\"\n",
    "X_i = get_feature_vec(make_wordlist(plot), 200, model)\n",
    "\n",
    "for e_name, e in ESTIMATORS.items():\n",
    "    y_pred = e.predict(X_i.reshape(1, -1))\n",
    "    print \"-> \", e_name\n",
    "    print_labels(y_pred[0])"
   ]
  },
  {
   "cell_type": "code",
   "execution_count": 71,
   "metadata": {
    "collapsed": false
   },
   "outputs": [
    {
     "name": "stdout",
     "output_type": "stream",
     "text": [
      "->  OVR Gaussian Naive Bayes\n",
      "action,dark,brutal,thrilling\n",
      "->  OVR LinearSVC\n",
      "food_for_thought,action,emotional,dark,brutal,thrilling\n",
      "->  OVR Random Forest\n",
      "food_for_thought,action,emotional,brutal,thrilling\n",
      "->  OVR Bernoulli Naive Bayes\n",
      "food_for_thought,action,dark,brutal,thrilling\n"
     ]
    }
   ],
   "source": [
    "plot = \"\"\"It's 1954, and up-and-coming U.S. marshal Teddy Daniels is assigned to investigate the disappearance of a patient from Boston's Shutter Island Ashecliffe Hospital. He's been pushing for an assignment on the island for personal reasons, but before long he wonders whether he hasn't been brought there as part of a twisted plot by hospital doctors whose radical treatments range from unethical to illegal to downright sinister. Teddy's shrewd investigating skills soon provide a promising lead, but the hospital refuses him access to records he suspects would break the case wide open. As a hurricane cuts off communication with the mainland, more dangerous criminals \"escape\" in the confusion, and the puzzling, improbable clues multiply, Teddy begins to doubt everything - his memory, his partner, even his own sanity.\"\"\"\n",
    "X_i = get_feature_vec(make_wordlist(plot), 200, model)\n",
    "\n",
    "for e_name, e in ESTIMATORS.items():\n",
    "    y_pred = e.predict(X_i.reshape(1, -1))\n",
    "    print \"-> \", e_name\n",
    "    print_labels(y_pred[0])\n"
   ]
  },
  {
   "cell_type": "code",
   "execution_count": 72,
   "metadata": {
    "collapsed": false
   },
   "outputs": [
    {
     "name": "stdout",
     "output_type": "stream",
     "text": [
      "->  OVR Gaussian Naive Bayes\n",
      "funny,emotional,romantic\n",
      "->  OVR LinearSVC\n",
      "food_for_thought,funny,emotional,romantic,thrilling\n",
      "->  OVR Random Forest\n",
      "food_for_thought,funny,action,emotional,thrilling\n",
      "->  OVR Bernoulli Naive Bayes\n",
      "funny,emotional,romantic\n"
     ]
    }
   ],
   "source": [
    "plot = \"\"\"Forrest Gump is a simple man with a low I.Q. but good intentions. He is running through childhood with his best and only friend Jenny. His 'mama' teaches him the ways of life and leaves him to choose his destiny. Forrest joins the army for service in Vietnam, finding new friends called Dan and Bubba, he wins medals, creates a famous shrimp fishing fleet, inspires people to jog, starts a ping-pong craze, create the smiley, write bumper stickers and songs, donating to people and meeting the president several times. However, this is all irrelevant to Forrest who can only think of his childhood sweetheart Jenny Curran. Who has messed up her life. Although in the end all he wants to prove is that anyone can love anyone.\"\"\"\n",
    "X_i = get_feature_vec(make_wordlist(plot), 200, model)\n",
    "\n",
    "for e_name, e in ESTIMATORS.items():\n",
    "    y_pred = e.predict(X_i.reshape(1, -1))\n",
    "    print \"-> \", e_name\n",
    "    print_labels(y_pred[0])\n"
   ]
  },
  {
   "cell_type": "code",
   "execution_count": 73,
   "metadata": {
    "collapsed": false
   },
   "outputs": [
    {
     "name": "stdout",
     "output_type": "stream",
     "text": [
      "->  OVR Gaussian Naive Bayes\n",
      "funny\n",
      "->  OVR LinearSVC\n",
      "food_for_thought,funny,action,emotional,thrilling\n",
      "->  OVR Random Forest\n",
      "food_for_thought,funny,action,emotional,thrilling\n",
      "->  OVR Bernoulli Naive Bayes\n",
      "funny,emotional,romantic\n"
     ]
    }
   ],
   "source": [
    "plot = \"\"\"In Paris, the aristocratic and intellectual Philippe is a quadriplegic millionaire who is interviewing candidates for the position of his carer, with his red-haired secretary Magalie. Out of the blue, the rude African Driss cuts the line of candidates and brings a document from the Social Security and asks Phillipe to sign it to prove that he is seeking a job position so he can receive his unemployment benefit. Philippe challenges Driss, offering him a trial period of one month to gain experience helping him. Then Driss can decide whether he would like to stay with him or not. Driss accepts the challenge and moves to the mansion, changing the boring life of Phillipe and his employees.\"\"\"\n",
    "X_i = get_feature_vec(make_wordlist(plot), 200, model)\n",
    "\n",
    "for e_name, e in ESTIMATORS.items():\n",
    "    y_pred = e.predict(X_i.reshape(1, -1))\n",
    "    print \"-> \", e_name\n",
    "    print_labels(y_pred[0])\n"
   ]
  },
  {
   "cell_type": "code",
   "execution_count": null,
   "metadata": {
    "collapsed": true
   },
   "outputs": [],
   "source": []
  }
 ],
 "metadata": {
  "kernelspec": {
   "display_name": "Python 2",
   "language": "python",
   "name": "python2"
  },
  "language_info": {
   "codemirror_mode": {
    "name": "ipython",
    "version": 2
   },
   "file_extension": ".py",
   "mimetype": "text/x-python",
   "name": "python",
   "nbconvert_exporter": "python",
   "pygments_lexer": "ipython2",
   "version": "2.7.10"
  }
 },
 "nbformat": 4,
 "nbformat_minor": 0
}
